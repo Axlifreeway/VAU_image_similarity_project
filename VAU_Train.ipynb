{
  "nbformat": 4,
  "nbformat_minor": 0,
  "metadata": {
    "colab": {
      "provenance": [],
      "gpuType": "T4"
    },
    "kernelspec": {
      "name": "python3",
      "display_name": "Python 3"
    },
    "language_info": {
      "name": "python"
    },
    "accelerator": "GPU"
  },
  "cells": [
    {
      "cell_type": "markdown",
      "source": [
        "# **Подготовить Jupyter-блокнот с примерами инференса модели на аномальных данных**"
      ],
      "metadata": {
        "id": "jTmq3JmOuonu"
      }
    },
    {
      "cell_type": "markdown",
      "source": [
        "# Установка зависимостей"
      ],
      "metadata": {
        "id": "Sf6xkVPxuoyQ"
      }
    },
    {
      "cell_type": "code",
      "execution_count": 1,
      "metadata": {
        "colab": {
          "base_uri": "https://localhost:8080/"
        },
        "id": "0GHUrpXIuQQt",
        "outputId": "da50dda8-64b6-4ca4-81eb-634664284b1b"
      },
      "outputs": [
        {
          "output_type": "stream",
          "name": "stdout",
          "text": [
            "Collecting pytorch-metric-learning\n",
            "  Downloading pytorch_metric_learning-2.5.0-py3-none-any.whl (119 kB)\n",
            "\u001b[?25l     \u001b[90m━━━━━━━━━━━━━━━━━━━━━━━━━━━━━━━━━━━━━━━━\u001b[0m \u001b[32m0.0/119.1 kB\u001b[0m \u001b[31m?\u001b[0m eta \u001b[36m-:--:--\u001b[0m\r\u001b[2K     \u001b[90m━━━━━━━━━━━━━━━━━━━━━━━━━━━━━━━━━━━━━━━━\u001b[0m \u001b[32m119.1/119.1 kB\u001b[0m \u001b[31m3.9 MB/s\u001b[0m eta \u001b[36m0:00:00\u001b[0m\n",
            "\u001b[?25hRequirement already satisfied: numpy in /usr/local/lib/python3.10/dist-packages (from pytorch-metric-learning) (1.25.2)\n",
            "Requirement already satisfied: scikit-learn in /usr/local/lib/python3.10/dist-packages (from pytorch-metric-learning) (1.2.2)\n",
            "Requirement already satisfied: torch>=1.6.0 in /usr/local/lib/python3.10/dist-packages (from pytorch-metric-learning) (2.3.0+cu121)\n",
            "Requirement already satisfied: tqdm in /usr/local/lib/python3.10/dist-packages (from pytorch-metric-learning) (4.66.4)\n",
            "Requirement already satisfied: filelock in /usr/local/lib/python3.10/dist-packages (from torch>=1.6.0->pytorch-metric-learning) (3.15.4)\n",
            "Requirement already satisfied: typing-extensions>=4.8.0 in /usr/local/lib/python3.10/dist-packages (from torch>=1.6.0->pytorch-metric-learning) (4.12.2)\n",
            "Requirement already satisfied: sympy in /usr/local/lib/python3.10/dist-packages (from torch>=1.6.0->pytorch-metric-learning) (1.13.0)\n",
            "Requirement already satisfied: networkx in /usr/local/lib/python3.10/dist-packages (from torch>=1.6.0->pytorch-metric-learning) (3.3)\n",
            "Requirement already satisfied: jinja2 in /usr/local/lib/python3.10/dist-packages (from torch>=1.6.0->pytorch-metric-learning) (3.1.4)\n",
            "Requirement already satisfied: fsspec in /usr/local/lib/python3.10/dist-packages (from torch>=1.6.0->pytorch-metric-learning) (2023.6.0)\n",
            "Collecting nvidia-cuda-nvrtc-cu12==12.1.105 (from torch>=1.6.0->pytorch-metric-learning)\n",
            "  Using cached nvidia_cuda_nvrtc_cu12-12.1.105-py3-none-manylinux1_x86_64.whl (23.7 MB)\n",
            "Collecting nvidia-cuda-runtime-cu12==12.1.105 (from torch>=1.6.0->pytorch-metric-learning)\n",
            "  Using cached nvidia_cuda_runtime_cu12-12.1.105-py3-none-manylinux1_x86_64.whl (823 kB)\n",
            "Collecting nvidia-cuda-cupti-cu12==12.1.105 (from torch>=1.6.0->pytorch-metric-learning)\n",
            "  Using cached nvidia_cuda_cupti_cu12-12.1.105-py3-none-manylinux1_x86_64.whl (14.1 MB)\n",
            "Collecting nvidia-cudnn-cu12==8.9.2.26 (from torch>=1.6.0->pytorch-metric-learning)\n",
            "  Using cached nvidia_cudnn_cu12-8.9.2.26-py3-none-manylinux1_x86_64.whl (731.7 MB)\n",
            "Collecting nvidia-cublas-cu12==12.1.3.1 (from torch>=1.6.0->pytorch-metric-learning)\n",
            "  Using cached nvidia_cublas_cu12-12.1.3.1-py3-none-manylinux1_x86_64.whl (410.6 MB)\n",
            "Collecting nvidia-cufft-cu12==11.0.2.54 (from torch>=1.6.0->pytorch-metric-learning)\n",
            "  Using cached nvidia_cufft_cu12-11.0.2.54-py3-none-manylinux1_x86_64.whl (121.6 MB)\n",
            "Collecting nvidia-curand-cu12==10.3.2.106 (from torch>=1.6.0->pytorch-metric-learning)\n",
            "  Using cached nvidia_curand_cu12-10.3.2.106-py3-none-manylinux1_x86_64.whl (56.5 MB)\n",
            "Collecting nvidia-cusolver-cu12==11.4.5.107 (from torch>=1.6.0->pytorch-metric-learning)\n",
            "  Using cached nvidia_cusolver_cu12-11.4.5.107-py3-none-manylinux1_x86_64.whl (124.2 MB)\n",
            "Collecting nvidia-cusparse-cu12==12.1.0.106 (from torch>=1.6.0->pytorch-metric-learning)\n",
            "  Using cached nvidia_cusparse_cu12-12.1.0.106-py3-none-manylinux1_x86_64.whl (196.0 MB)\n",
            "Collecting nvidia-nccl-cu12==2.20.5 (from torch>=1.6.0->pytorch-metric-learning)\n",
            "  Using cached nvidia_nccl_cu12-2.20.5-py3-none-manylinux2014_x86_64.whl (176.2 MB)\n",
            "Collecting nvidia-nvtx-cu12==12.1.105 (from torch>=1.6.0->pytorch-metric-learning)\n",
            "  Using cached nvidia_nvtx_cu12-12.1.105-py3-none-manylinux1_x86_64.whl (99 kB)\n",
            "Requirement already satisfied: triton==2.3.0 in /usr/local/lib/python3.10/dist-packages (from torch>=1.6.0->pytorch-metric-learning) (2.3.0)\n",
            "Collecting nvidia-nvjitlink-cu12 (from nvidia-cusolver-cu12==11.4.5.107->torch>=1.6.0->pytorch-metric-learning)\n",
            "  Downloading nvidia_nvjitlink_cu12-12.5.82-py3-none-manylinux2014_x86_64.whl (21.3 MB)\n",
            "\u001b[2K     \u001b[90m━━━━━━━━━━━━━━━━━━━━━━━━━━━━━━━━━━━━━━━━\u001b[0m \u001b[32m21.3/21.3 MB\u001b[0m \u001b[31m52.9 MB/s\u001b[0m eta \u001b[36m0:00:00\u001b[0m\n",
            "\u001b[?25hRequirement already satisfied: scipy>=1.3.2 in /usr/local/lib/python3.10/dist-packages (from scikit-learn->pytorch-metric-learning) (1.11.4)\n",
            "Requirement already satisfied: joblib>=1.1.1 in /usr/local/lib/python3.10/dist-packages (from scikit-learn->pytorch-metric-learning) (1.4.2)\n",
            "Requirement already satisfied: threadpoolctl>=2.0.0 in /usr/local/lib/python3.10/dist-packages (from scikit-learn->pytorch-metric-learning) (3.5.0)\n",
            "Requirement already satisfied: MarkupSafe>=2.0 in /usr/local/lib/python3.10/dist-packages (from jinja2->torch>=1.6.0->pytorch-metric-learning) (2.1.5)\n",
            "Requirement already satisfied: mpmath<1.4,>=1.1.0 in /usr/local/lib/python3.10/dist-packages (from sympy->torch>=1.6.0->pytorch-metric-learning) (1.3.0)\n",
            "Installing collected packages: nvidia-nvtx-cu12, nvidia-nvjitlink-cu12, nvidia-nccl-cu12, nvidia-curand-cu12, nvidia-cufft-cu12, nvidia-cuda-runtime-cu12, nvidia-cuda-nvrtc-cu12, nvidia-cuda-cupti-cu12, nvidia-cublas-cu12, nvidia-cusparse-cu12, nvidia-cudnn-cu12, nvidia-cusolver-cu12, pytorch-metric-learning\n",
            "Successfully installed nvidia-cublas-cu12-12.1.3.1 nvidia-cuda-cupti-cu12-12.1.105 nvidia-cuda-nvrtc-cu12-12.1.105 nvidia-cuda-runtime-cu12-12.1.105 nvidia-cudnn-cu12-8.9.2.26 nvidia-cufft-cu12-11.0.2.54 nvidia-curand-cu12-10.3.2.106 nvidia-cusolver-cu12-11.4.5.107 nvidia-cusparse-cu12-12.1.0.106 nvidia-nccl-cu12-2.20.5 nvidia-nvjitlink-cu12-12.5.82 nvidia-nvtx-cu12-12.1.105 pytorch-metric-learning-2.5.0\n",
            "Collecting faiss-gpu\n",
            "  Downloading faiss_gpu-1.7.2-cp310-cp310-manylinux_2_17_x86_64.manylinux2014_x86_64.whl (85.5 MB)\n",
            "\u001b[2K     \u001b[90m━━━━━━━━━━━━━━━━━━━━━━━━━━━━━━━━━━━━━━━━\u001b[0m \u001b[32m85.5/85.5 MB\u001b[0m \u001b[31m8.0 MB/s\u001b[0m eta \u001b[36m0:00:00\u001b[0m\n",
            "\u001b[?25hInstalling collected packages: faiss-gpu\n",
            "Successfully installed faiss-gpu-1.7.2\n"
          ]
        }
      ],
      "source": [
        "!pip install pytorch-metric-learning\n",
        "!pip install faiss-gpu"
      ]
    },
    {
      "cell_type": "markdown",
      "source": [
        "# Импорт"
      ],
      "metadata": {
        "id": "TETrjClju14d"
      }
    },
    {
      "cell_type": "code",
      "source": [
        "import os\n",
        "import zipfile\n",
        "import csv\n",
        "import numpy as np\n",
        "import pandas as pd\n",
        "from PIL import Image\n",
        "from sklearn.model_selection import train_test_split\n",
        "\n",
        "import torch\n",
        "import torch.nn as nn\n",
        "import torch.nn.functional as F\n",
        "import torch.optim as optim\n",
        "from torch.utils.data import DataLoader, Dataset\n",
        "from torchvision import datasets, transforms, models\n",
        "from torchvision.io import read_image\n",
        "from torchvision.transforms import ToTensor\n",
        "\n",
        "import matplotlib.pyplot as plt\n",
        "import seaborn as sns\n",
        "\n",
        "from pytorch_metric_learning import distances, losses, miners, reducers, testers\n",
        "from pytorch_metric_learning.utils.accuracy_calculator import AccuracyCalculator"
      ],
      "metadata": {
        "id": "qBQ4KpyluUKk"
      },
      "execution_count": 11,
      "outputs": []
    },
    {
      "cell_type": "markdown",
      "source": [
        "# Извлечение информации и содание csv файла для набора данных"
      ],
      "metadata": {
        "id": "NIPBXdkIu_GY"
      }
    },
    {
      "cell_type": "code",
      "source": [
        "zip_test = \"DSM-50.zip\"\n",
        "imgzip = zipfile.ZipFile(zip_test, 'r')\n",
        "imgzip.extractall()\n",
        "\n",
        "iterator = 0\n",
        "dataset_root = 'DSM-50'\n",
        "csv_file_path = 'dataset.csv'\n",
        "with open(csv_file_path, mode='w', newline='') as csv_file:\n",
        "    csv_writer = csv.writer(csv_file)\n",
        "    csv_writer.writerow(['image', 'class'])\n",
        "    for class_name in os.listdir(dataset_root):\n",
        "        class_path = os.path.join(dataset_root, class_name)\n",
        "        if os.path.isdir(class_path):\n",
        "            iterator = iterator + 1\n",
        "            for image_name in os.listdir(class_path):\n",
        "                image_path = os.path.join(class_path, image_name)\n",
        "                if os.path.isfile(image_path):\n",
        "                    relative_image_path = os.path.relpath(image_path, dataset_root)\n",
        "                    csv_writer.writerow([relative_image_path, iterator])"
      ],
      "metadata": {
        "id": "KQjC_tWwvFOE"
      },
      "execution_count": 5,
      "outputs": []
    },
    {
      "cell_type": "markdown",
      "source": [
        "# Класс для создания кастомного набора данных для работы с pytorch"
      ],
      "metadata": {
        "id": "YO8K5CzlvJ9a"
      }
    },
    {
      "cell_type": "code",
      "source": [
        "class CustomImageDataset(Dataset):\n",
        "    def __init__(self, annotations_file, img_dir, transform=None, label_column='label'):\n",
        "        self.img_labels = pd.read_csv(annotations_file)\n",
        "        self.img_dir = img_dir\n",
        "        self.transform = transform\n",
        "        self.label_column = label_column\n",
        "\n",
        "    def __len__(self):\n",
        "        return len(self.img_labels)\n",
        "\n",
        "    def __getitem__(self, idx):\n",
        "        img_path = os.path.join(self.img_dir, self.img_labels.iloc[idx, 0])\n",
        "        image = Image.open(img_path).convert(\"RGB\")\n",
        "        label = self.img_labels.iloc[idx, self.img_labels.columns.get_loc(self.label_column)]\n",
        "        if isinstance(label, str):\n",
        "            try:\n",
        "                label = int(label)\n",
        "            except ValueError:\n",
        "                print(label)\n",
        "        if self.transform:\n",
        "            image = self.transform(image)\n",
        "        return image, torch.tensor(label)"
      ],
      "metadata": {
        "id": "uiVt8fLXvKRI"
      },
      "execution_count": 6,
      "outputs": []
    },
    {
      "cell_type": "markdown",
      "source": [
        "# Определение модели"
      ],
      "metadata": {
        "id": "6k0NOHIFvbHB"
      }
    },
    {
      "cell_type": "code",
      "source": [
        "class Net(nn.Module):\n",
        "    def __init__(self):\n",
        "        super(Net, self).__init__()\n",
        "        self.resnet = models.resnet18(pretrained=True)\n",
        "        for param in self.resnet.parameters():\n",
        "            param.requires_grad = False\n",
        "\n",
        "        num_ftrs = self.resnet.fc.in_features\n",
        "        self.resnet.fc = nn.Sequential(\n",
        "            nn.Linear(num_ftrs, 256),\n",
        "            nn.ReLU(),\n",
        "            nn.Dropout(0.4),\n",
        "            nn.Linear(256, 64)\n",
        "        )\n",
        "\n",
        "    def forward(self, x):\n",
        "        x = self.resnet(x)\n",
        "        return x"
      ],
      "metadata": {
        "id": "jzz3vVWxva5Q"
      },
      "execution_count": 7,
      "outputs": []
    },
    {
      "cell_type": "markdown",
      "source": [
        "# Определяем функции обучения и тестирования"
      ],
      "metadata": {
        "id": "c2F18PZjvbdV"
      }
    },
    {
      "cell_type": "code",
      "source": [
        "def train(model, loss_func, mining_func, device, train_loader, optimizer, epoch, loss_history):\n",
        "    model.train()\n",
        "    for batch_idx, (data, labels) in enumerate(train_loader):\n",
        "        data, labels = data.to(device), labels.to(device)\n",
        "        optimizer.zero_grad()\n",
        "        embeddings = model(data)\n",
        "        indices_tuple = mining_func(embeddings, labels)\n",
        "        loss = loss_func(embeddings, labels, indices_tuple)\n",
        "        loss.backward()\n",
        "        optimizer.step()\n",
        "        loss_history.append(loss.item())\n",
        "        if batch_idx % 20 == 0:\n",
        "            print(\n",
        "                \"Epoch {} Iteration {}: Loss = {}, Number of mined triplets = {}\".format(\n",
        "                    epoch, batch_idx, loss.item(), mining_func.num_triplets\n",
        "                )\n",
        "            )\n",
        "\n",
        "def get_all_embeddings(dataset, model):\n",
        "    tester = testers.BaseTester()\n",
        "    return tester.get_all_embeddings(dataset, model)\n",
        "\n",
        "def plot_loss_history(loss_history):\n",
        "    plt.figure(figsize=(10, 5))\n",
        "    plt.plot(loss_history, label='Training Loss')\n",
        "    plt.xlabel('Iteration')\n",
        "    plt.ylabel('Loss')\n",
        "    plt.title('Training Loss over Time')\n",
        "    plt.legend()\n",
        "    plt.show()\n",
        "\n",
        "def test(train_set, test_set, model, accuracy_calculator, acc):\n",
        "    train_embeddings, train_labels = get_all_embeddings(train_set, model)\n",
        "    test_embeddings, test_labels = get_all_embeddings(test_set, model)\n",
        "    train_labels = train_labels.squeeze(1)\n",
        "    test_labels = test_labels.squeeze(1)\n",
        "    accuracies = accuracy_calculator.get_accuracy(\n",
        "        test_embeddings, test_labels, train_embeddings, train_labels, False\n",
        "    )\n",
        "    acc.append(accuracies[\"precision_at_1\"])\n",
        "    print(\"Test set accuracy = {}\".format(accuracies[\"precision_at_1\"]))\n",
        "\n",
        "def plot_accuracy_history(accuracy):\n",
        "    plt.figure(figsize=(10, 5))\n",
        "    plt.plot(accuracy, label='Accuracy')\n",
        "    plt.xlabel('Iteration')\n",
        "    plt.ylabel('Accuracy')\n",
        "    plt.title('Accuracy over time')\n",
        "    plt.legend()\n",
        "    plt.show()"
      ],
      "metadata": {
        "id": "4Gy4naMovbqZ"
      },
      "execution_count": 8,
      "outputs": []
    },
    {
      "cell_type": "markdown",
      "source": [
        "# Подготавливаем данные для обучения"
      ],
      "metadata": {
        "id": "buBX8g6rv8Yw"
      }
    },
    {
      "cell_type": "code",
      "source": [
        "# Разбиение данных\n",
        "annotations_file = \"dataset.csv\"\n",
        "img_dir = \"DSM-50\"\n",
        "label_column = 'class'\n",
        "\n",
        "# Чтение аннотаций и разбиение на обучающую и валидационную части\n",
        "annotations = pd.read_csv(annotations_file)\n",
        "train_annotations, val_annotations = train_test_split(annotations, test_size=0.4, stratify=annotations[label_column])\n",
        "\n",
        "# Сохранение временных файлов с разметками\n",
        "train_annotations_file = \"train_dataset.csv\"\n",
        "val_annotations_file = \"val_dataset.csv\"\n",
        "train_annotations.to_csv(train_annotations_file, index=False)\n",
        "val_annotations.to_csv(val_annotations_file, index=False)\n",
        "\n",
        "# Аугментации данных\n",
        "train_transform = transforms.Compose([\n",
        "    transforms.Resize((224, 224)),\n",
        "    transforms.RandomHorizontalFlip(),\n",
        "    transforms.RandomVerticalFlip(),\n",
        "    transforms.RandomRotation(10),\n",
        "    transforms.RandomResizedCrop(224, scale=(0.8, 1.0)),\n",
        "    transforms.ToTensor(),\n",
        "    transforms.Normalize((0.4914, 0.4822, 0.4465), (0.2023, 0.1994, 0.2010)),\n",
        "])\n",
        "\n",
        "# Аугментации для валидационной выборки\n",
        "val_transform = transforms.Compose([\n",
        "    transforms.Resize((224, 224)),\n",
        "    transforms.ToTensor(),\n",
        "    transforms.Normalize((0.4914, 0.4822, 0.4465), (0.2023, 0.1994, 0.2010)),\n",
        "])\n",
        "\n",
        "# Создание датасетов\n",
        "train_dataset = CustomImageDataset(train_annotations_file, img_dir, transform=train_transform, label_column=label_column)\n",
        "val_dataset = CustomImageDataset(val_annotations_file, img_dir, transform=val_transform, label_column=label_column)\n",
        "\n",
        "# Создание DataLoader\n",
        "batch_size = 16\n",
        "train_loader = DataLoader(train_dataset, batch_size=batch_size, shuffle=True)\n",
        "val_loader = DataLoader(val_dataset, batch_size=batch_size)"
      ],
      "metadata": {
        "id": "OX_zYch5wCUU"
      },
      "execution_count": 9,
      "outputs": []
    },
    {
      "cell_type": "markdown",
      "source": [
        "# Обучение и тестирование"
      ],
      "metadata": {
        "id": "_ZmPEFhywKGU"
      }
    },
    {
      "cell_type": "code",
      "source": [
        "# Подготовка устройства\n",
        "device = torch.device(\"cuda\" if torch.cuda.is_available() else \"cpu\")\n",
        "\n",
        "# Параметры обучения\n",
        "model = Net().to(device)\n",
        "optimizer = optim.Adam(model.parameters(), lr=0.0001)  # Понижение learning rate\n",
        "num_epochs = 500\n",
        "\n",
        "distance = distances.CosineSimilarity()\n",
        "reducer = reducers.ThresholdReducer(low=0)\n",
        "loss_func = losses.TripletMarginLoss(margin=0.2, distance=distance, reducer=reducer)\n",
        "mining_func = miners.TripletMarginMiner(\n",
        "    margin=0.2, distance=distance, type_of_triplets=\"semihard\"\n",
        ")\n",
        "accuracy_calculator = AccuracyCalculator(include=(\"precision_at_1\",), k=1)\n",
        "\n",
        "loss_history = []\n",
        "acc = []\n",
        "\n",
        "# Обучение модели\n",
        "for epoch in range(1, num_epochs + 1):\n",
        "    train(model, loss_func, mining_func, device, train_loader, optimizer, epoch, loss_history)\n",
        "    test(train_dataset, val_dataset, model, accuracy_calculator, acc)"
      ],
      "metadata": {
        "colab": {
          "base_uri": "https://localhost:8080/"
        },
        "id": "sf6uqHQ8wLq-",
        "outputId": "ef074e10-262e-49b5-fe0b-5f9b49794aa6"
      },
      "execution_count": 12,
      "outputs": [
        {
          "output_type": "stream",
          "name": "stderr",
          "text": [
            "/usr/local/lib/python3.10/dist-packages/torchvision/models/_utils.py:208: UserWarning: The parameter 'pretrained' is deprecated since 0.13 and may be removed in the future, please use 'weights' instead.\n",
            "  warnings.warn(\n",
            "/usr/local/lib/python3.10/dist-packages/torchvision/models/_utils.py:223: UserWarning: Arguments other than a weight enum or `None` for 'weights' are deprecated since 0.13 and may be removed in the future. The current behavior is equivalent to passing `weights=ResNet18_Weights.IMAGENET1K_V1`. You can also use `weights=ResNet18_Weights.DEFAULT` to get the most up-to-date weights.\n",
            "  warnings.warn(msg)\n",
            "Downloading: \"https://download.pytorch.org/models/resnet18-f37072fd.pth\" to /root/.cache/torch/hub/checkpoints/resnet18-f37072fd.pth\n",
            "100%|██████████| 44.7M/44.7M [00:00<00:00, 145MB/s]\n",
            "/usr/local/lib/python3.10/dist-packages/PIL/Image.py:996: UserWarning: Palette images with Transparency expressed in bytes should be converted to RGBA images\n",
            "  warnings.warn(\n"
          ]
        },
        {
          "output_type": "stream",
          "name": "stdout",
          "text": [
            "Epoch 1 Iteration 0: Loss = 0.0, Number of mined triplets = 0\n"
          ]
        },
        {
          "output_type": "stream",
          "name": "stderr",
          "text": [
            "100%|██████████| 3/3 [00:01<00:00,  2.12it/s]\n",
            "100%|██████████| 3/3 [00:00<00:00,  4.79it/s]\n",
            "/usr/local/lib/python3.10/dist-packages/faiss/contrib/torch_utils.py:51: UserWarning: TypedStorage is deprecated. It will be removed in the future and UntypedStorage will be the only storage class. This should only matter to you if you are using storages directly.  To access UntypedStorage directly, use tensor.untyped_storage() instead of tensor.storage()\n",
            "  x.storage().data_ptr() + x.storage_offset() * 4)\n"
          ]
        },
        {
          "output_type": "stream",
          "name": "stdout",
          "text": [
            "Test set accuracy = 0.36923076923076925\n",
            "Epoch 2 Iteration 0: Loss = 0.06747492402791977, Number of mined triplets = 17\n"
          ]
        },
        {
          "output_type": "stream",
          "name": "stderr",
          "text": [
            "100%|██████████| 3/3 [00:01<00:00,  2.18it/s]\n",
            "100%|██████████| 3/3 [00:00<00:00,  4.76it/s]\n"
          ]
        },
        {
          "output_type": "stream",
          "name": "stdout",
          "text": [
            "Test set accuracy = 0.38461538461538464\n",
            "Epoch 3 Iteration 0: Loss = 0.0, Number of mined triplets = 0\n"
          ]
        },
        {
          "output_type": "stream",
          "name": "stderr",
          "text": [
            "100%|██████████| 3/3 [00:01<00:00,  2.14it/s]\n",
            "100%|██████████| 3/3 [00:01<00:00,  2.45it/s]\n"
          ]
        },
        {
          "output_type": "stream",
          "name": "stdout",
          "text": [
            "Test set accuracy = 0.2923076923076923\n",
            "Epoch 4 Iteration 0: Loss = 0.1234998106956482, Number of mined triplets = 7\n"
          ]
        },
        {
          "output_type": "stream",
          "name": "stderr",
          "text": [
            "100%|██████████| 3/3 [00:02<00:00,  1.33it/s]\n",
            "100%|██████████| 3/3 [00:00<00:00,  3.24it/s]\n"
          ]
        },
        {
          "output_type": "stream",
          "name": "stdout",
          "text": [
            "Test set accuracy = 0.3384615384615385\n",
            "Epoch 5 Iteration 0: Loss = 0.11924315989017487, Number of mined triplets = 7\n"
          ]
        },
        {
          "output_type": "stream",
          "name": "stderr",
          "text": [
            "100%|██████████| 3/3 [00:01<00:00,  2.18it/s]\n",
            "100%|██████████| 3/3 [00:00<00:00,  4.69it/s]\n"
          ]
        },
        {
          "output_type": "stream",
          "name": "stdout",
          "text": [
            "Test set accuracy = 0.3384615384615385\n",
            "Epoch 6 Iteration 0: Loss = 0.0, Number of mined triplets = 0\n"
          ]
        },
        {
          "output_type": "stream",
          "name": "stderr",
          "text": [
            "100%|██████████| 3/3 [00:01<00:00,  2.20it/s]\n",
            "100%|██████████| 3/3 [00:00<00:00,  5.04it/s]\n"
          ]
        },
        {
          "output_type": "stream",
          "name": "stdout",
          "text": [
            "Test set accuracy = 0.24615384615384617\n",
            "Epoch 7 Iteration 0: Loss = 0.10268095135688782, Number of mined triplets = 24\n"
          ]
        },
        {
          "output_type": "stream",
          "name": "stderr",
          "text": [
            "100%|██████████| 3/3 [00:01<00:00,  2.17it/s]\n",
            "100%|██████████| 3/3 [00:01<00:00,  2.94it/s]\n"
          ]
        },
        {
          "output_type": "stream",
          "name": "stdout",
          "text": [
            "Test set accuracy = 0.3076923076923077\n",
            "Epoch 8 Iteration 0: Loss = 0.07960814982652664, Number of mined triplets = 16\n"
          ]
        },
        {
          "output_type": "stream",
          "name": "stderr",
          "text": [
            "100%|██████████| 3/3 [00:01<00:00,  2.16it/s]\n",
            "100%|██████████| 3/3 [00:00<00:00,  4.60it/s]\n"
          ]
        },
        {
          "output_type": "stream",
          "name": "stdout",
          "text": [
            "Test set accuracy = 0.2923076923076923\n",
            "Epoch 9 Iteration 0: Loss = 0.12889371812343597, Number of mined triplets = 9\n"
          ]
        },
        {
          "output_type": "stream",
          "name": "stderr",
          "text": [
            "100%|██████████| 3/3 [00:01<00:00,  2.18it/s]\n",
            "100%|██████████| 3/3 [00:00<00:00,  4.72it/s]\n"
          ]
        },
        {
          "output_type": "stream",
          "name": "stdout",
          "text": [
            "Test set accuracy = 0.3076923076923077\n",
            "Epoch 10 Iteration 0: Loss = 0.09006261825561523, Number of mined triplets = 16\n"
          ]
        },
        {
          "output_type": "stream",
          "name": "stderr",
          "text": [
            "100%|██████████| 3/3 [00:01<00:00,  2.18it/s]\n",
            "100%|██████████| 3/3 [00:00<00:00,  4.71it/s]\n"
          ]
        },
        {
          "output_type": "stream",
          "name": "stdout",
          "text": [
            "Test set accuracy = 0.27692307692307694\n",
            "Epoch 11 Iteration 0: Loss = 0.0, Number of mined triplets = 0\n"
          ]
        },
        {
          "output_type": "stream",
          "name": "stderr",
          "text": [
            "100%|██████████| 3/3 [00:01<00:00,  2.00it/s]\n",
            "100%|██████████| 3/3 [00:00<00:00,  4.70it/s]\n"
          ]
        },
        {
          "output_type": "stream",
          "name": "stdout",
          "text": [
            "Test set accuracy = 0.3076923076923077\n",
            "Epoch 12 Iteration 0: Loss = 0.0, Number of mined triplets = 0\n"
          ]
        },
        {
          "output_type": "stream",
          "name": "stderr",
          "text": [
            "100%|██████████| 3/3 [00:01<00:00,  2.18it/s]\n",
            "100%|██████████| 3/3 [00:00<00:00,  4.70it/s]\n"
          ]
        },
        {
          "output_type": "stream",
          "name": "stdout",
          "text": [
            "Test set accuracy = 0.3076923076923077\n",
            "Epoch 13 Iteration 0: Loss = 0.10663667321205139, Number of mined triplets = 13\n"
          ]
        },
        {
          "output_type": "stream",
          "name": "stderr",
          "text": [
            "100%|██████████| 3/3 [00:01<00:00,  2.03it/s]\n",
            "100%|██████████| 3/3 [00:00<00:00,  4.80it/s]\n"
          ]
        },
        {
          "output_type": "stream",
          "name": "stdout",
          "text": [
            "Test set accuracy = 0.2923076923076923\n",
            "Epoch 14 Iteration 0: Loss = 0.0, Number of mined triplets = 0\n"
          ]
        },
        {
          "output_type": "stream",
          "name": "stderr",
          "text": [
            "100%|██████████| 3/3 [00:02<00:00,  1.40it/s]\n",
            "100%|██████████| 3/3 [00:00<00:00,  4.62it/s]\n"
          ]
        },
        {
          "output_type": "stream",
          "name": "stdout",
          "text": [
            "Test set accuracy = 0.3230769230769231\n",
            "Epoch 15 Iteration 0: Loss = 0.07616081833839417, Number of mined triplets = 8\n"
          ]
        },
        {
          "output_type": "stream",
          "name": "stderr",
          "text": [
            "100%|██████████| 3/3 [00:01<00:00,  2.18it/s]\n",
            "100%|██████████| 3/3 [00:00<00:00,  4.70it/s]\n"
          ]
        },
        {
          "output_type": "stream",
          "name": "stdout",
          "text": [
            "Test set accuracy = 0.26153846153846155\n",
            "Epoch 16 Iteration 0: Loss = 0.09337928146123886, Number of mined triplets = 11\n"
          ]
        },
        {
          "output_type": "stream",
          "name": "stderr",
          "text": [
            "100%|██████████| 3/3 [00:01<00:00,  1.66it/s]\n",
            "100%|██████████| 3/3 [00:00<00:00,  4.66it/s]\n"
          ]
        },
        {
          "output_type": "stream",
          "name": "stdout",
          "text": [
            "Test set accuracy = 0.27692307692307694\n",
            "Epoch 17 Iteration 0: Loss = 0.10158926248550415, Number of mined triplets = 12\n"
          ]
        },
        {
          "output_type": "stream",
          "name": "stderr",
          "text": [
            "100%|██████████| 3/3 [00:02<00:00,  1.33it/s]\n",
            "100%|██████████| 3/3 [00:00<00:00,  3.74it/s]\n"
          ]
        },
        {
          "output_type": "stream",
          "name": "stdout",
          "text": [
            "Test set accuracy = 0.35384615384615387\n",
            "Epoch 18 Iteration 0: Loss = 0.0, Number of mined triplets = 0\n"
          ]
        },
        {
          "output_type": "stream",
          "name": "stderr",
          "text": [
            "100%|██████████| 3/3 [00:01<00:00,  2.17it/s]\n",
            "100%|██████████| 3/3 [00:00<00:00,  4.59it/s]\n"
          ]
        },
        {
          "output_type": "stream",
          "name": "stdout",
          "text": [
            "Test set accuracy = 0.38461538461538464\n",
            "Epoch 19 Iteration 0: Loss = 0.11428950726985931, Number of mined triplets = 13\n"
          ]
        },
        {
          "output_type": "stream",
          "name": "stderr",
          "text": [
            "100%|██████████| 3/3 [00:01<00:00,  2.15it/s]\n",
            "100%|██████████| 3/3 [00:00<00:00,  4.81it/s]\n"
          ]
        },
        {
          "output_type": "stream",
          "name": "stdout",
          "text": [
            "Test set accuracy = 0.26153846153846155\n",
            "Epoch 20 Iteration 0: Loss = 0.0849279835820198, Number of mined triplets = 26\n"
          ]
        },
        {
          "output_type": "stream",
          "name": "stderr",
          "text": [
            "100%|██████████| 3/3 [00:01<00:00,  1.64it/s]\n",
            "100%|██████████| 3/3 [00:01<00:00,  2.93it/s]\n"
          ]
        },
        {
          "output_type": "stream",
          "name": "stdout",
          "text": [
            "Test set accuracy = 0.2923076923076923\n",
            "Epoch 21 Iteration 0: Loss = 0.09217222034931183, Number of mined triplets = 9\n"
          ]
        },
        {
          "output_type": "stream",
          "name": "stderr",
          "text": [
            "100%|██████████| 3/3 [00:01<00:00,  2.15it/s]\n",
            "100%|██████████| 3/3 [00:00<00:00,  4.80it/s]\n"
          ]
        },
        {
          "output_type": "stream",
          "name": "stdout",
          "text": [
            "Test set accuracy = 0.2923076923076923\n",
            "Epoch 22 Iteration 0: Loss = 0.09807644784450531, Number of mined triplets = 18\n"
          ]
        },
        {
          "output_type": "stream",
          "name": "stderr",
          "text": [
            "100%|██████████| 3/3 [00:01<00:00,  2.17it/s]\n",
            "100%|██████████| 3/3 [00:00<00:00,  4.66it/s]\n"
          ]
        },
        {
          "output_type": "stream",
          "name": "stdout",
          "text": [
            "Test set accuracy = 0.2923076923076923\n",
            "Epoch 23 Iteration 0: Loss = 0.11743250489234924, Number of mined triplets = 23\n"
          ]
        },
        {
          "output_type": "stream",
          "name": "stderr",
          "text": [
            "100%|██████████| 3/3 [00:01<00:00,  2.04it/s]\n",
            "100%|██████████| 3/3 [00:01<00:00,  2.90it/s]\n"
          ]
        },
        {
          "output_type": "stream",
          "name": "stdout",
          "text": [
            "Test set accuracy = 0.2923076923076923\n",
            "Epoch 24 Iteration 0: Loss = 0.0, Number of mined triplets = 0\n"
          ]
        },
        {
          "output_type": "stream",
          "name": "stderr",
          "text": [
            "100%|██████████| 3/3 [00:02<00:00,  1.37it/s]\n",
            "100%|██████████| 3/3 [00:00<00:00,  4.73it/s]\n"
          ]
        },
        {
          "output_type": "stream",
          "name": "stdout",
          "text": [
            "Test set accuracy = 0.3076923076923077\n",
            "Epoch 25 Iteration 0: Loss = 0.10824605822563171, Number of mined triplets = 29\n"
          ]
        },
        {
          "output_type": "stream",
          "name": "stderr",
          "text": [
            "100%|██████████| 3/3 [00:01<00:00,  2.20it/s]\n",
            "100%|██████████| 3/3 [00:00<00:00,  4.68it/s]\n"
          ]
        },
        {
          "output_type": "stream",
          "name": "stdout",
          "text": [
            "Test set accuracy = 0.35384615384615387\n",
            "Epoch 26 Iteration 0: Loss = 0.108143649995327, Number of mined triplets = 10\n"
          ]
        },
        {
          "output_type": "stream",
          "name": "stderr",
          "text": [
            "100%|██████████| 3/3 [00:01<00:00,  1.63it/s]\n",
            "100%|██████████| 3/3 [00:00<00:00,  3.23it/s]\n"
          ]
        },
        {
          "output_type": "stream",
          "name": "stdout",
          "text": [
            "Test set accuracy = 0.36923076923076925\n",
            "Epoch 27 Iteration 0: Loss = 0.13320323824882507, Number of mined triplets = 9\n"
          ]
        },
        {
          "output_type": "stream",
          "name": "stderr",
          "text": [
            "100%|██████████| 3/3 [00:01<00:00,  2.15it/s]\n",
            "100%|██████████| 3/3 [00:00<00:00,  4.65it/s]\n"
          ]
        },
        {
          "output_type": "stream",
          "name": "stdout",
          "text": [
            "Test set accuracy = 0.3230769230769231\n",
            "Epoch 28 Iteration 0: Loss = 0.08391959965229034, Number of mined triplets = 19\n"
          ]
        },
        {
          "output_type": "stream",
          "name": "stderr",
          "text": [
            "100%|██████████| 3/3 [00:01<00:00,  2.13it/s]\n",
            "100%|██████████| 3/3 [00:00<00:00,  4.72it/s]\n"
          ]
        },
        {
          "output_type": "stream",
          "name": "stdout",
          "text": [
            "Test set accuracy = 0.26153846153846155\n",
            "Epoch 29 Iteration 0: Loss = 0.1045641154050827, Number of mined triplets = 16\n"
          ]
        },
        {
          "output_type": "stream",
          "name": "stderr",
          "text": [
            "100%|██████████| 3/3 [00:01<00:00,  2.17it/s]\n",
            "100%|██████████| 3/3 [00:00<00:00,  3.06it/s]\n"
          ]
        },
        {
          "output_type": "stream",
          "name": "stdout",
          "text": [
            "Test set accuracy = 0.35384615384615387\n",
            "Epoch 30 Iteration 0: Loss = 0.0, Number of mined triplets = 0\n"
          ]
        },
        {
          "output_type": "stream",
          "name": "stderr",
          "text": [
            "100%|██████████| 3/3 [00:01<00:00,  2.17it/s]\n",
            "100%|██████████| 3/3 [00:00<00:00,  4.73it/s]\n"
          ]
        },
        {
          "output_type": "stream",
          "name": "stdout",
          "text": [
            "Test set accuracy = 0.4\n",
            "Epoch 31 Iteration 0: Loss = 0.08000335842370987, Number of mined triplets = 15\n"
          ]
        },
        {
          "output_type": "stream",
          "name": "stderr",
          "text": [
            "100%|██████████| 3/3 [00:01<00:00,  2.15it/s]\n",
            "100%|██████████| 3/3 [00:00<00:00,  4.66it/s]\n"
          ]
        },
        {
          "output_type": "stream",
          "name": "stdout",
          "text": [
            "Test set accuracy = 0.38461538461538464\n",
            "Epoch 32 Iteration 0: Loss = 0.0, Number of mined triplets = 0\n"
          ]
        },
        {
          "output_type": "stream",
          "name": "stderr",
          "text": [
            "100%|██████████| 3/3 [00:01<00:00,  2.14it/s]\n",
            "100%|██████████| 3/3 [00:00<00:00,  4.67it/s]\n"
          ]
        },
        {
          "output_type": "stream",
          "name": "stdout",
          "text": [
            "Test set accuracy = 0.3384615384615385\n",
            "Epoch 33 Iteration 0: Loss = 0.1004786342382431, Number of mined triplets = 13\n"
          ]
        },
        {
          "output_type": "stream",
          "name": "stderr",
          "text": [
            "100%|██████████| 3/3 [00:01<00:00,  1.94it/s]\n",
            "100%|██████████| 3/3 [00:00<00:00,  4.65it/s]\n"
          ]
        },
        {
          "output_type": "stream",
          "name": "stdout",
          "text": [
            "Test set accuracy = 0.36923076923076925\n",
            "Epoch 34 Iteration 0: Loss = 0.0, Number of mined triplets = 0\n"
          ]
        },
        {
          "output_type": "stream",
          "name": "stderr",
          "text": [
            "100%|██████████| 3/3 [00:01<00:00,  2.17it/s]\n",
            "100%|██████████| 3/3 [00:00<00:00,  4.58it/s]\n"
          ]
        },
        {
          "output_type": "stream",
          "name": "stdout",
          "text": [
            "Test set accuracy = 0.35384615384615387\n",
            "Epoch 35 Iteration 0: Loss = 0.08349235355854034, Number of mined triplets = 25\n"
          ]
        },
        {
          "output_type": "stream",
          "name": "stderr",
          "text": [
            "100%|██████████| 3/3 [00:01<00:00,  2.02it/s]\n",
            "100%|██████████| 3/3 [00:00<00:00,  4.81it/s]\n"
          ]
        },
        {
          "output_type": "stream",
          "name": "stdout",
          "text": [
            "Test set accuracy = 0.3230769230769231\n",
            "Epoch 36 Iteration 0: Loss = 0.1280146986246109, Number of mined triplets = 9\n"
          ]
        },
        {
          "output_type": "stream",
          "name": "stderr",
          "text": [
            "100%|██████████| 3/3 [00:02<00:00,  1.41it/s]\n",
            "100%|██████████| 3/3 [00:00<00:00,  4.01it/s]\n"
          ]
        },
        {
          "output_type": "stream",
          "name": "stdout",
          "text": [
            "Test set accuracy = 0.35384615384615387\n",
            "Epoch 37 Iteration 0: Loss = 0.08079084753990173, Number of mined triplets = 10\n"
          ]
        },
        {
          "output_type": "stream",
          "name": "stderr",
          "text": [
            "100%|██████████| 3/3 [00:01<00:00,  2.17it/s]\n",
            "100%|██████████| 3/3 [00:00<00:00,  4.67it/s]\n"
          ]
        },
        {
          "output_type": "stream",
          "name": "stdout",
          "text": [
            "Test set accuracy = 0.36923076923076925\n",
            "Epoch 38 Iteration 0: Loss = 0.059114765375852585, Number of mined triplets = 7\n"
          ]
        },
        {
          "output_type": "stream",
          "name": "stderr",
          "text": [
            "100%|██████████| 3/3 [00:01<00:00,  2.15it/s]\n",
            "100%|██████████| 3/3 [00:00<00:00,  4.54it/s]\n"
          ]
        },
        {
          "output_type": "stream",
          "name": "stdout",
          "text": [
            "Test set accuracy = 0.36923076923076925\n",
            "Epoch 39 Iteration 0: Loss = 0.0, Number of mined triplets = 0\n"
          ]
        },
        {
          "output_type": "stream",
          "name": "stderr",
          "text": [
            "100%|██████████| 3/3 [00:01<00:00,  1.50it/s]\n",
            "100%|██████████| 3/3 [00:01<00:00,  3.00it/s]\n"
          ]
        },
        {
          "output_type": "stream",
          "name": "stdout",
          "text": [
            "Test set accuracy = 0.35384615384615387\n",
            "Epoch 40 Iteration 0: Loss = 0.1135222315788269, Number of mined triplets = 11\n"
          ]
        },
        {
          "output_type": "stream",
          "name": "stderr",
          "text": [
            "100%|██████████| 3/3 [00:01<00:00,  2.16it/s]\n",
            "100%|██████████| 3/3 [00:00<00:00,  4.69it/s]\n"
          ]
        },
        {
          "output_type": "stream",
          "name": "stdout",
          "text": [
            "Test set accuracy = 0.35384615384615387\n",
            "Epoch 41 Iteration 0: Loss = 0.07251015305519104, Number of mined triplets = 13\n"
          ]
        },
        {
          "output_type": "stream",
          "name": "stderr",
          "text": [
            "100%|██████████| 3/3 [00:01<00:00,  2.14it/s]\n",
            "100%|██████████| 3/3 [00:00<00:00,  4.75it/s]\n"
          ]
        },
        {
          "output_type": "stream",
          "name": "stdout",
          "text": [
            "Test set accuracy = 0.4461538461538462\n",
            "Epoch 42 Iteration 0: Loss = 0.10170034319162369, Number of mined triplets = 25\n"
          ]
        },
        {
          "output_type": "stream",
          "name": "stderr",
          "text": [
            "100%|██████████| 3/3 [00:01<00:00,  1.88it/s]\n",
            "100%|██████████| 3/3 [00:01<00:00,  2.78it/s]\n"
          ]
        },
        {
          "output_type": "stream",
          "name": "stdout",
          "text": [
            "Test set accuracy = 0.38461538461538464\n",
            "Epoch 43 Iteration 0: Loss = 0.07184112071990967, Number of mined triplets = 14\n"
          ]
        },
        {
          "output_type": "stream",
          "name": "stderr",
          "text": [
            "100%|██████████| 3/3 [00:01<00:00,  2.11it/s]\n",
            "100%|██████████| 3/3 [00:00<00:00,  4.56it/s]\n"
          ]
        },
        {
          "output_type": "stream",
          "name": "stdout",
          "text": [
            "Test set accuracy = 0.3230769230769231\n",
            "Epoch 44 Iteration 0: Loss = 0.0, Number of mined triplets = 0\n"
          ]
        },
        {
          "output_type": "stream",
          "name": "stderr",
          "text": [
            "100%|██████████| 3/3 [00:01<00:00,  2.11it/s]\n",
            "100%|██████████| 3/3 [00:00<00:00,  4.75it/s]\n"
          ]
        },
        {
          "output_type": "stream",
          "name": "stdout",
          "text": [
            "Test set accuracy = 0.36923076923076925\n",
            "Epoch 45 Iteration 0: Loss = 0.09273535758256912, Number of mined triplets = 11\n"
          ]
        },
        {
          "output_type": "stream",
          "name": "stderr",
          "text": [
            "100%|██████████| 3/3 [00:01<00:00,  2.12it/s]\n",
            "100%|██████████| 3/3 [00:00<00:00,  3.60it/s]\n"
          ]
        },
        {
          "output_type": "stream",
          "name": "stdout",
          "text": [
            "Test set accuracy = 0.38461538461538464\n",
            "Epoch 46 Iteration 0: Loss = 0.15024138987064362, Number of mined triplets = 2\n"
          ]
        },
        {
          "output_type": "stream",
          "name": "stderr",
          "text": [
            "100%|██████████| 3/3 [00:01<00:00,  2.09it/s]\n",
            "100%|██████████| 3/3 [00:00<00:00,  4.65it/s]\n"
          ]
        },
        {
          "output_type": "stream",
          "name": "stdout",
          "text": [
            "Test set accuracy = 0.36923076923076925\n",
            "Epoch 47 Iteration 0: Loss = 0.08858869969844818, Number of mined triplets = 12\n"
          ]
        },
        {
          "output_type": "stream",
          "name": "stderr",
          "text": [
            "100%|██████████| 3/3 [00:01<00:00,  2.14it/s]\n",
            "100%|██████████| 3/3 [00:00<00:00,  4.41it/s]\n"
          ]
        },
        {
          "output_type": "stream",
          "name": "stdout",
          "text": [
            "Test set accuracy = 0.35384615384615387\n",
            "Epoch 48 Iteration 0: Loss = 0.08986552059650421, Number of mined triplets = 22\n"
          ]
        },
        {
          "output_type": "stream",
          "name": "stderr",
          "text": [
            "100%|██████████| 3/3 [00:01<00:00,  2.12it/s]\n",
            "100%|██████████| 3/3 [00:00<00:00,  4.49it/s]\n"
          ]
        },
        {
          "output_type": "stream",
          "name": "stdout",
          "text": [
            "Test set accuracy = 0.3076923076923077\n",
            "Epoch 49 Iteration 0: Loss = 0.06357868015766144, Number of mined triplets = 12\n"
          ]
        },
        {
          "output_type": "stream",
          "name": "stderr",
          "text": [
            "100%|██████████| 3/3 [00:01<00:00,  1.88it/s]\n",
            "100%|██████████| 3/3 [00:00<00:00,  4.60it/s]\n"
          ]
        },
        {
          "output_type": "stream",
          "name": "stdout",
          "text": [
            "Test set accuracy = 0.38461538461538464\n",
            "Epoch 50 Iteration 0: Loss = 0.09812242537736893, Number of mined triplets = 15\n"
          ]
        },
        {
          "output_type": "stream",
          "name": "stderr",
          "text": [
            "100%|██████████| 3/3 [00:01<00:00,  2.18it/s]\n",
            "100%|██████████| 3/3 [00:00<00:00,  4.62it/s]\n"
          ]
        },
        {
          "output_type": "stream",
          "name": "stdout",
          "text": [
            "Test set accuracy = 0.36923076923076925\n",
            "Epoch 51 Iteration 0: Loss = 0.062018390744924545, Number of mined triplets = 3\n"
          ]
        },
        {
          "output_type": "stream",
          "name": "stderr",
          "text": [
            "100%|██████████| 3/3 [00:01<00:00,  2.09it/s]\n",
            "100%|██████████| 3/3 [00:00<00:00,  4.60it/s]\n"
          ]
        },
        {
          "output_type": "stream",
          "name": "stdout",
          "text": [
            "Test set accuracy = 0.35384615384615387\n",
            "Epoch 52 Iteration 0: Loss = 0.0994868129491806, Number of mined triplets = 26\n"
          ]
        },
        {
          "output_type": "stream",
          "name": "stderr",
          "text": [
            "100%|██████████| 3/3 [00:02<00:00,  1.22it/s]\n",
            "100%|██████████| 3/3 [00:00<00:00,  4.05it/s]\n"
          ]
        },
        {
          "output_type": "stream",
          "name": "stdout",
          "text": [
            "Test set accuracy = 0.38461538461538464\n",
            "Epoch 53 Iteration 0: Loss = 0.12122511863708496, Number of mined triplets = 20\n"
          ]
        },
        {
          "output_type": "stream",
          "name": "stderr",
          "text": [
            "100%|██████████| 3/3 [00:01<00:00,  2.06it/s]\n",
            "100%|██████████| 3/3 [00:00<00:00,  4.55it/s]\n"
          ]
        },
        {
          "output_type": "stream",
          "name": "stdout",
          "text": [
            "Test set accuracy = 0.3384615384615385\n",
            "Epoch 54 Iteration 0: Loss = 0.09573143720626831, Number of mined triplets = 12\n"
          ]
        },
        {
          "output_type": "stream",
          "name": "stderr",
          "text": [
            "100%|██████████| 3/3 [00:01<00:00,  2.11it/s]\n",
            "100%|██████████| 3/3 [00:00<00:00,  4.47it/s]\n"
          ]
        },
        {
          "output_type": "stream",
          "name": "stdout",
          "text": [
            "Test set accuracy = 0.36923076923076925\n",
            "Epoch 55 Iteration 0: Loss = 0.09838087111711502, Number of mined triplets = 15\n"
          ]
        },
        {
          "output_type": "stream",
          "name": "stderr",
          "text": [
            "100%|██████████| 3/3 [00:02<00:00,  1.43it/s]\n",
            "100%|██████████| 3/3 [00:01<00:00,  2.79it/s]\n"
          ]
        },
        {
          "output_type": "stream",
          "name": "stdout",
          "text": [
            "Test set accuracy = 0.4307692307692308\n",
            "Epoch 56 Iteration 0: Loss = 0.08522916585206985, Number of mined triplets = 18\n"
          ]
        },
        {
          "output_type": "stream",
          "name": "stderr",
          "text": [
            "100%|██████████| 3/3 [00:01<00:00,  2.13it/s]\n",
            "100%|██████████| 3/3 [00:00<00:00,  4.65it/s]\n"
          ]
        },
        {
          "output_type": "stream",
          "name": "stdout",
          "text": [
            "Test set accuracy = 0.36923076923076925\n",
            "Epoch 57 Iteration 0: Loss = 0.13366562128067017, Number of mined triplets = 2\n"
          ]
        },
        {
          "output_type": "stream",
          "name": "stderr",
          "text": [
            "100%|██████████| 3/3 [00:01<00:00,  2.03it/s]\n",
            "100%|██████████| 3/3 [00:00<00:00,  4.49it/s]\n"
          ]
        },
        {
          "output_type": "stream",
          "name": "stdout",
          "text": [
            "Test set accuracy = 0.36923076923076925\n",
            "Epoch 58 Iteration 0: Loss = 0.0983026921749115, Number of mined triplets = 26\n"
          ]
        },
        {
          "output_type": "stream",
          "name": "stderr",
          "text": [
            "100%|██████████| 3/3 [00:01<00:00,  1.78it/s]\n",
            "100%|██████████| 3/3 [00:01<00:00,  2.84it/s]\n"
          ]
        },
        {
          "output_type": "stream",
          "name": "stdout",
          "text": [
            "Test set accuracy = 0.3076923076923077\n",
            "Epoch 59 Iteration 0: Loss = 0.08793289214372635, Number of mined triplets = 26\n"
          ]
        },
        {
          "output_type": "stream",
          "name": "stderr",
          "text": [
            "100%|██████████| 3/3 [00:01<00:00,  2.09it/s]\n",
            "100%|██████████| 3/3 [00:00<00:00,  4.63it/s]\n"
          ]
        },
        {
          "output_type": "stream",
          "name": "stdout",
          "text": [
            "Test set accuracy = 0.3076923076923077\n",
            "Epoch 60 Iteration 0: Loss = 0.08108296990394592, Number of mined triplets = 12\n"
          ]
        },
        {
          "output_type": "stream",
          "name": "stderr",
          "text": [
            "100%|██████████| 3/3 [00:01<00:00,  2.12it/s]\n",
            "100%|██████████| 3/3 [00:00<00:00,  4.59it/s]\n"
          ]
        },
        {
          "output_type": "stream",
          "name": "stdout",
          "text": [
            "Test set accuracy = 0.2923076923076923\n",
            "Epoch 61 Iteration 0: Loss = 0.08728797733783722, Number of mined triplets = 14\n"
          ]
        },
        {
          "output_type": "stream",
          "name": "stderr",
          "text": [
            "100%|██████████| 3/3 [00:01<00:00,  2.08it/s]\n",
            "100%|██████████| 3/3 [00:00<00:00,  3.16it/s]\n"
          ]
        },
        {
          "output_type": "stream",
          "name": "stdout",
          "text": [
            "Test set accuracy = 0.3230769230769231\n",
            "Epoch 62 Iteration 0: Loss = 0.11674558371305466, Number of mined triplets = 11\n"
          ]
        },
        {
          "output_type": "stream",
          "name": "stderr",
          "text": [
            "100%|██████████| 3/3 [00:01<00:00,  2.14it/s]\n",
            "100%|██████████| 3/3 [00:00<00:00,  4.45it/s]\n"
          ]
        },
        {
          "output_type": "stream",
          "name": "stdout",
          "text": [
            "Test set accuracy = 0.36923076923076925\n",
            "Epoch 63 Iteration 0: Loss = 0.11135600507259369, Number of mined triplets = 19\n"
          ]
        },
        {
          "output_type": "stream",
          "name": "stderr",
          "text": [
            "100%|██████████| 3/3 [00:01<00:00,  2.17it/s]\n",
            "100%|██████████| 3/3 [00:00<00:00,  4.42it/s]\n"
          ]
        },
        {
          "output_type": "stream",
          "name": "stdout",
          "text": [
            "Test set accuracy = 0.4\n",
            "Epoch 64 Iteration 0: Loss = 0.11207839101552963, Number of mined triplets = 44\n"
          ]
        },
        {
          "output_type": "stream",
          "name": "stderr",
          "text": [
            "100%|██████████| 3/3 [00:01<00:00,  2.09it/s]\n",
            "100%|██████████| 3/3 [00:00<00:00,  4.05it/s]\n"
          ]
        },
        {
          "output_type": "stream",
          "name": "stdout",
          "text": [
            "Test set accuracy = 0.3384615384615385\n",
            "Epoch 65 Iteration 0: Loss = 0.09433163702487946, Number of mined triplets = 13\n"
          ]
        },
        {
          "output_type": "stream",
          "name": "stderr",
          "text": [
            "100%|██████████| 3/3 [00:01<00:00,  2.14it/s]\n",
            "100%|██████████| 3/3 [00:00<00:00,  4.47it/s]\n"
          ]
        },
        {
          "output_type": "stream",
          "name": "stdout",
          "text": [
            "Test set accuracy = 0.3230769230769231\n",
            "Epoch 66 Iteration 0: Loss = 0.0, Number of mined triplets = 0\n"
          ]
        },
        {
          "output_type": "stream",
          "name": "stderr",
          "text": [
            "100%|██████████| 3/3 [00:01<00:00,  2.13it/s]\n",
            "100%|██████████| 3/3 [00:00<00:00,  4.66it/s]\n"
          ]
        },
        {
          "output_type": "stream",
          "name": "stdout",
          "text": [
            "Test set accuracy = 0.35384615384615387\n",
            "Epoch 67 Iteration 0: Loss = 0.11964736878871918, Number of mined triplets = 23\n"
          ]
        },
        {
          "output_type": "stream",
          "name": "stderr",
          "text": [
            "100%|██████████| 3/3 [00:01<00:00,  2.02it/s]\n",
            "100%|██████████| 3/3 [00:00<00:00,  4.61it/s]\n"
          ]
        },
        {
          "output_type": "stream",
          "name": "stdout",
          "text": [
            "Test set accuracy = 0.35384615384615387\n",
            "Epoch 68 Iteration 0: Loss = 0.08585617691278458, Number of mined triplets = 20\n"
          ]
        },
        {
          "output_type": "stream",
          "name": "stderr",
          "text": [
            "100%|██████████| 3/3 [00:01<00:00,  1.92it/s]\n",
            "100%|██████████| 3/3 [00:00<00:00,  4.49it/s]\n"
          ]
        },
        {
          "output_type": "stream",
          "name": "stdout",
          "text": [
            "Test set accuracy = 0.4\n",
            "Epoch 69 Iteration 0: Loss = 0.08608503639698029, Number of mined triplets = 5\n"
          ]
        },
        {
          "output_type": "stream",
          "name": "stderr",
          "text": [
            "100%|██████████| 3/3 [00:01<00:00,  2.12it/s]\n",
            "100%|██████████| 3/3 [00:00<00:00,  4.53it/s]\n"
          ]
        },
        {
          "output_type": "stream",
          "name": "stdout",
          "text": [
            "Test set accuracy = 0.3384615384615385\n",
            "Epoch 70 Iteration 0: Loss = 0.13895004987716675, Number of mined triplets = 11\n"
          ]
        },
        {
          "output_type": "stream",
          "name": "stderr",
          "text": [
            "100%|██████████| 3/3 [00:01<00:00,  2.07it/s]\n",
            "100%|██████████| 3/3 [00:00<00:00,  4.35it/s]\n"
          ]
        },
        {
          "output_type": "stream",
          "name": "stdout",
          "text": [
            "Test set accuracy = 0.3384615384615385\n",
            "Epoch 71 Iteration 0: Loss = 0.08156661689281464, Number of mined triplets = 12\n"
          ]
        },
        {
          "output_type": "stream",
          "name": "stderr",
          "text": [
            "100%|██████████| 3/3 [00:01<00:00,  1.60it/s]\n",
            "100%|██████████| 3/3 [00:00<00:00,  4.54it/s]\n"
          ]
        },
        {
          "output_type": "stream",
          "name": "stdout",
          "text": [
            "Test set accuracy = 0.38461538461538464\n",
            "Epoch 72 Iteration 0: Loss = 0.08478505909442902, Number of mined triplets = 13\n"
          ]
        },
        {
          "output_type": "stream",
          "name": "stderr",
          "text": [
            "100%|██████████| 3/3 [00:01<00:00,  2.17it/s]\n",
            "100%|██████████| 3/3 [00:00<00:00,  4.51it/s]\n"
          ]
        },
        {
          "output_type": "stream",
          "name": "stdout",
          "text": [
            "Test set accuracy = 0.38461538461538464\n",
            "Epoch 73 Iteration 0: Loss = 0.08557792752981186, Number of mined triplets = 4\n"
          ]
        },
        {
          "output_type": "stream",
          "name": "stderr",
          "text": [
            "100%|██████████| 3/3 [00:01<00:00,  2.12it/s]\n",
            "100%|██████████| 3/3 [00:00<00:00,  4.65it/s]\n"
          ]
        },
        {
          "output_type": "stream",
          "name": "stdout",
          "text": [
            "Test set accuracy = 0.36923076923076925\n",
            "Epoch 74 Iteration 0: Loss = 0.10386940836906433, Number of mined triplets = 4\n"
          ]
        },
        {
          "output_type": "stream",
          "name": "stderr",
          "text": [
            "100%|██████████| 3/3 [00:02<00:00,  1.41it/s]\n",
            "100%|██████████| 3/3 [00:00<00:00,  3.87it/s]\n"
          ]
        },
        {
          "output_type": "stream",
          "name": "stdout",
          "text": [
            "Test set accuracy = 0.38461538461538464\n",
            "Epoch 75 Iteration 0: Loss = 0.0785675048828125, Number of mined triplets = 10\n"
          ]
        },
        {
          "output_type": "stream",
          "name": "stderr",
          "text": [
            "100%|██████████| 3/3 [00:01<00:00,  2.09it/s]\n",
            "100%|██████████| 3/3 [00:00<00:00,  4.55it/s]\n"
          ]
        },
        {
          "output_type": "stream",
          "name": "stdout",
          "text": [
            "Test set accuracy = 0.38461538461538464\n",
            "Epoch 76 Iteration 0: Loss = 0.0680912584066391, Number of mined triplets = 4\n"
          ]
        },
        {
          "output_type": "stream",
          "name": "stderr",
          "text": [
            "100%|██████████| 3/3 [00:01<00:00,  2.10it/s]\n",
            "100%|██████████| 3/3 [00:00<00:00,  4.59it/s]\n"
          ]
        },
        {
          "output_type": "stream",
          "name": "stdout",
          "text": [
            "Test set accuracy = 0.4153846153846154\n",
            "Epoch 77 Iteration 0: Loss = 0.11247439682483673, Number of mined triplets = 4\n"
          ]
        },
        {
          "output_type": "stream",
          "name": "stderr",
          "text": [
            "100%|██████████| 3/3 [00:02<00:00,  1.48it/s]\n",
            "100%|██████████| 3/3 [00:01<00:00,  2.75it/s]\n"
          ]
        },
        {
          "output_type": "stream",
          "name": "stdout",
          "text": [
            "Test set accuracy = 0.35384615384615387\n",
            "Epoch 78 Iteration 0: Loss = 0.08400774747133255, Number of mined triplets = 15\n"
          ]
        },
        {
          "output_type": "stream",
          "name": "stderr",
          "text": [
            "100%|██████████| 3/3 [00:01<00:00,  2.12it/s]\n",
            "100%|██████████| 3/3 [00:00<00:00,  4.43it/s]\n"
          ]
        },
        {
          "output_type": "stream",
          "name": "stdout",
          "text": [
            "Test set accuracy = 0.4\n",
            "Epoch 79 Iteration 0: Loss = 0.09334014356136322, Number of mined triplets = 13\n"
          ]
        },
        {
          "output_type": "stream",
          "name": "stderr",
          "text": [
            "100%|██████████| 3/3 [00:01<00:00,  1.97it/s]\n",
            "100%|██████████| 3/3 [00:00<00:00,  4.61it/s]\n"
          ]
        },
        {
          "output_type": "stream",
          "name": "stdout",
          "text": [
            "Test set accuracy = 0.3384615384615385\n",
            "Epoch 80 Iteration 0: Loss = 0.14203786849975586, Number of mined triplets = 3\n"
          ]
        },
        {
          "output_type": "stream",
          "name": "stderr",
          "text": [
            "100%|██████████| 3/3 [00:01<00:00,  1.76it/s]\n",
            "100%|██████████| 3/3 [00:01<00:00,  2.90it/s]\n"
          ]
        },
        {
          "output_type": "stream",
          "name": "stdout",
          "text": [
            "Test set accuracy = 0.2923076923076923\n",
            "Epoch 81 Iteration 0: Loss = 0.07075747847557068, Number of mined triplets = 17\n"
          ]
        },
        {
          "output_type": "stream",
          "name": "stderr",
          "text": [
            "100%|██████████| 3/3 [00:01<00:00,  2.14it/s]\n",
            "100%|██████████| 3/3 [00:00<00:00,  4.51it/s]\n"
          ]
        },
        {
          "output_type": "stream",
          "name": "stdout",
          "text": [
            "Test set accuracy = 0.4\n",
            "Epoch 82 Iteration 0: Loss = 0.13321572542190552, Number of mined triplets = 8\n"
          ]
        },
        {
          "output_type": "stream",
          "name": "stderr",
          "text": [
            "100%|██████████| 3/3 [00:01<00:00,  2.12it/s]\n",
            "100%|██████████| 3/3 [00:00<00:00,  4.71it/s]\n"
          ]
        },
        {
          "output_type": "stream",
          "name": "stdout",
          "text": [
            "Test set accuracy = 0.4461538461538462\n",
            "Epoch 83 Iteration 0: Loss = 0.0, Number of mined triplets = 0\n"
          ]
        },
        {
          "output_type": "stream",
          "name": "stderr",
          "text": [
            "100%|██████████| 3/3 [00:01<00:00,  2.11it/s]\n",
            "100%|██████████| 3/3 [00:01<00:00,  2.81it/s]\n"
          ]
        },
        {
          "output_type": "stream",
          "name": "stdout",
          "text": [
            "Test set accuracy = 0.4461538461538462\n",
            "Epoch 84 Iteration 0: Loss = 0.11558205634355545, Number of mined triplets = 15\n"
          ]
        },
        {
          "output_type": "stream",
          "name": "stderr",
          "text": [
            "100%|██████████| 3/3 [00:01<00:00,  2.14it/s]\n",
            "100%|██████████| 3/3 [00:00<00:00,  4.55it/s]\n"
          ]
        },
        {
          "output_type": "stream",
          "name": "stdout",
          "text": [
            "Test set accuracy = 0.3384615384615385\n",
            "Epoch 85 Iteration 0: Loss = 0.08808564394712448, Number of mined triplets = 8\n"
          ]
        },
        {
          "output_type": "stream",
          "name": "stderr",
          "text": [
            "100%|██████████| 3/3 [00:01<00:00,  2.09it/s]\n",
            "100%|██████████| 3/3 [00:00<00:00,  4.63it/s]\n"
          ]
        },
        {
          "output_type": "stream",
          "name": "stdout",
          "text": [
            "Test set accuracy = 0.36923076923076925\n",
            "Epoch 86 Iteration 0: Loss = 0.08662386238574982, Number of mined triplets = 7\n"
          ]
        },
        {
          "output_type": "stream",
          "name": "stderr",
          "text": [
            "100%|██████████| 3/3 [00:01<00:00,  2.17it/s]\n",
            "100%|██████████| 3/3 [00:00<00:00,  4.46it/s]\n"
          ]
        },
        {
          "output_type": "stream",
          "name": "stdout",
          "text": [
            "Test set accuracy = 0.46153846153846156\n",
            "Epoch 87 Iteration 0: Loss = 0.09121312946081161, Number of mined triplets = 10\n"
          ]
        },
        {
          "output_type": "stream",
          "name": "stderr",
          "text": [
            "100%|██████████| 3/3 [00:01<00:00,  1.97it/s]\n",
            "100%|██████████| 3/3 [00:00<00:00,  4.55it/s]\n"
          ]
        },
        {
          "output_type": "stream",
          "name": "stdout",
          "text": [
            "Test set accuracy = 0.36923076923076925\n",
            "Epoch 88 Iteration 0: Loss = 0.08092105388641357, Number of mined triplets = 20\n"
          ]
        },
        {
          "output_type": "stream",
          "name": "stderr",
          "text": [
            "100%|██████████| 3/3 [00:01<00:00,  2.12it/s]\n",
            "100%|██████████| 3/3 [00:00<00:00,  4.62it/s]\n"
          ]
        },
        {
          "output_type": "stream",
          "name": "stdout",
          "text": [
            "Test set accuracy = 0.4307692307692308\n",
            "Epoch 89 Iteration 0: Loss = 0.09988036751747131, Number of mined triplets = 18\n"
          ]
        },
        {
          "output_type": "stream",
          "name": "stderr",
          "text": [
            "100%|██████████| 3/3 [00:01<00:00,  2.12it/s]\n",
            "100%|██████████| 3/3 [00:00<00:00,  4.56it/s]\n"
          ]
        },
        {
          "output_type": "stream",
          "name": "stdout",
          "text": [
            "Test set accuracy = 0.38461538461538464\n",
            "Epoch 90 Iteration 0: Loss = 0.055658042430877686, Number of mined triplets = 2\n"
          ]
        },
        {
          "output_type": "stream",
          "name": "stderr",
          "text": [
            "100%|██████████| 3/3 [00:02<00:00,  1.24it/s]\n",
            "100%|██████████| 3/3 [00:00<00:00,  4.43it/s]\n"
          ]
        },
        {
          "output_type": "stream",
          "name": "stdout",
          "text": [
            "Test set accuracy = 0.4153846153846154\n",
            "Epoch 91 Iteration 0: Loss = 0.05915209650993347, Number of mined triplets = 23\n"
          ]
        },
        {
          "output_type": "stream",
          "name": "stderr",
          "text": [
            "100%|██████████| 3/3 [00:01<00:00,  2.15it/s]\n",
            "100%|██████████| 3/3 [00:00<00:00,  4.62it/s]\n"
          ]
        },
        {
          "output_type": "stream",
          "name": "stdout",
          "text": [
            "Test set accuracy = 0.4153846153846154\n",
            "Epoch 92 Iteration 0: Loss = 0.14938697218894958, Number of mined triplets = 11\n"
          ]
        },
        {
          "output_type": "stream",
          "name": "stderr",
          "text": [
            "100%|██████████| 3/3 [00:01<00:00,  2.14it/s]\n",
            "100%|██████████| 3/3 [00:00<00:00,  4.70it/s]\n"
          ]
        },
        {
          "output_type": "stream",
          "name": "stdout",
          "text": [
            "Test set accuracy = 0.36923076923076925\n",
            "Epoch 93 Iteration 0: Loss = 0.07201842218637466, Number of mined triplets = 5\n"
          ]
        },
        {
          "output_type": "stream",
          "name": "stderr",
          "text": [
            "100%|██████████| 3/3 [00:02<00:00,  1.50it/s]\n",
            "100%|██████████| 3/3 [00:00<00:00,  3.02it/s]\n"
          ]
        },
        {
          "output_type": "stream",
          "name": "stdout",
          "text": [
            "Test set accuracy = 0.4307692307692308\n",
            "Epoch 94 Iteration 0: Loss = 0.08812788128852844, Number of mined triplets = 4\n"
          ]
        },
        {
          "output_type": "stream",
          "name": "stderr",
          "text": [
            "100%|██████████| 3/3 [00:01<00:00,  2.06it/s]\n",
            "100%|██████████| 3/3 [00:00<00:00,  4.50it/s]\n"
          ]
        },
        {
          "output_type": "stream",
          "name": "stdout",
          "text": [
            "Test set accuracy = 0.35384615384615387\n",
            "Epoch 95 Iteration 0: Loss = 0.12669765949249268, Number of mined triplets = 16\n"
          ]
        },
        {
          "output_type": "stream",
          "name": "stderr",
          "text": [
            "100%|██████████| 3/3 [00:01<00:00,  2.08it/s]\n",
            "100%|██████████| 3/3 [00:00<00:00,  4.62it/s]\n"
          ]
        },
        {
          "output_type": "stream",
          "name": "stdout",
          "text": [
            "Test set accuracy = 0.4307692307692308\n",
            "Epoch 96 Iteration 0: Loss = 0.06671977043151855, Number of mined triplets = 2\n"
          ]
        },
        {
          "output_type": "stream",
          "name": "stderr",
          "text": [
            "100%|██████████| 3/3 [00:01<00:00,  1.74it/s]\n",
            "100%|██████████| 3/3 [00:00<00:00,  3.07it/s]\n"
          ]
        },
        {
          "output_type": "stream",
          "name": "stdout",
          "text": [
            "Test set accuracy = 0.4307692307692308\n",
            "Epoch 97 Iteration 0: Loss = 0.0, Number of mined triplets = 0\n"
          ]
        },
        {
          "output_type": "stream",
          "name": "stderr",
          "text": [
            "100%|██████████| 3/3 [00:01<00:00,  2.15it/s]\n",
            "100%|██████████| 3/3 [00:00<00:00,  4.66it/s]\n"
          ]
        },
        {
          "output_type": "stream",
          "name": "stdout",
          "text": [
            "Test set accuracy = 0.4461538461538462\n",
            "Epoch 98 Iteration 0: Loss = 0.10553431510925293, Number of mined triplets = 10\n"
          ]
        },
        {
          "output_type": "stream",
          "name": "stderr",
          "text": [
            "100%|██████████| 3/3 [00:01<00:00,  2.13it/s]\n",
            "100%|██████████| 3/3 [00:00<00:00,  4.61it/s]\n"
          ]
        },
        {
          "output_type": "stream",
          "name": "stdout",
          "text": [
            "Test set accuracy = 0.4\n",
            "Epoch 99 Iteration 0: Loss = 0.06542207300662994, Number of mined triplets = 1\n"
          ]
        },
        {
          "output_type": "stream",
          "name": "stderr",
          "text": [
            "100%|██████████| 3/3 [00:01<00:00,  2.14it/s]\n",
            "100%|██████████| 3/3 [00:00<00:00,  3.37it/s]\n"
          ]
        },
        {
          "output_type": "stream",
          "name": "stdout",
          "text": [
            "Test set accuracy = 0.38461538461538464\n",
            "Epoch 100 Iteration 0: Loss = 0.0, Number of mined triplets = 0\n"
          ]
        },
        {
          "output_type": "stream",
          "name": "stderr",
          "text": [
            "100%|██████████| 3/3 [00:01<00:00,  2.15it/s]\n",
            "100%|██████████| 3/3 [00:00<00:00,  4.71it/s]\n"
          ]
        },
        {
          "output_type": "stream",
          "name": "stdout",
          "text": [
            "Test set accuracy = 0.4307692307692308\n",
            "Epoch 101 Iteration 0: Loss = 0.06940098851919174, Number of mined triplets = 11\n"
          ]
        },
        {
          "output_type": "stream",
          "name": "stderr",
          "text": [
            "100%|██████████| 3/3 [00:01<00:00,  2.10it/s]\n",
            "100%|██████████| 3/3 [00:00<00:00,  4.60it/s]\n"
          ]
        },
        {
          "output_type": "stream",
          "name": "stdout",
          "text": [
            "Test set accuracy = 0.4153846153846154\n",
            "Epoch 102 Iteration 0: Loss = 0.0, Number of mined triplets = 0\n"
          ]
        },
        {
          "output_type": "stream",
          "name": "stderr",
          "text": [
            "100%|██████████| 3/3 [00:01<00:00,  2.16it/s]\n",
            "100%|██████████| 3/3 [00:00<00:00,  4.75it/s]\n"
          ]
        },
        {
          "output_type": "stream",
          "name": "stdout",
          "text": [
            "Test set accuracy = 0.4153846153846154\n",
            "Epoch 103 Iteration 0: Loss = 0.08564087748527527, Number of mined triplets = 4\n"
          ]
        },
        {
          "output_type": "stream",
          "name": "stderr",
          "text": [
            "100%|██████████| 3/3 [00:01<00:00,  1.78it/s]\n",
            "100%|██████████| 3/3 [00:00<00:00,  4.66it/s]\n"
          ]
        },
        {
          "output_type": "stream",
          "name": "stdout",
          "text": [
            "Test set accuracy = 0.38461538461538464\n",
            "Epoch 104 Iteration 0: Loss = 0.09643959999084473, Number of mined triplets = 16\n"
          ]
        },
        {
          "output_type": "stream",
          "name": "stderr",
          "text": [
            "100%|██████████| 3/3 [00:01<00:00,  2.13it/s]\n",
            "100%|██████████| 3/3 [00:00<00:00,  4.69it/s]\n"
          ]
        },
        {
          "output_type": "stream",
          "name": "stdout",
          "text": [
            "Test set accuracy = 0.4153846153846154\n",
            "Epoch 105 Iteration 0: Loss = 0.044666822999715805, Number of mined triplets = 5\n"
          ]
        },
        {
          "output_type": "stream",
          "name": "stderr",
          "text": [
            "100%|██████████| 3/3 [00:01<00:00,  2.12it/s]\n",
            "100%|██████████| 3/3 [00:00<00:00,  4.53it/s]\n"
          ]
        },
        {
          "output_type": "stream",
          "name": "stdout",
          "text": [
            "Test set accuracy = 0.35384615384615387\n",
            "Epoch 106 Iteration 0: Loss = 0.1366993635892868, Number of mined triplets = 7\n"
          ]
        },
        {
          "output_type": "stream",
          "name": "stderr",
          "text": [
            "100%|██████████| 3/3 [00:02<00:00,  1.38it/s]\n",
            "100%|██████████| 3/3 [00:00<00:00,  3.89it/s]\n"
          ]
        },
        {
          "output_type": "stream",
          "name": "stdout",
          "text": [
            "Test set accuracy = 0.4153846153846154\n",
            "Epoch 107 Iteration 0: Loss = 0.051019031554460526, Number of mined triplets = 5\n"
          ]
        },
        {
          "output_type": "stream",
          "name": "stderr",
          "text": [
            "100%|██████████| 3/3 [00:01<00:00,  2.15it/s]\n",
            "100%|██████████| 3/3 [00:00<00:00,  4.73it/s]\n"
          ]
        },
        {
          "output_type": "stream",
          "name": "stdout",
          "text": [
            "Test set accuracy = 0.3230769230769231\n",
            "Epoch 108 Iteration 0: Loss = 0.11721239238977432, Number of mined triplets = 10\n"
          ]
        },
        {
          "output_type": "stream",
          "name": "stderr",
          "text": [
            "100%|██████████| 3/3 [00:01<00:00,  2.15it/s]\n",
            "100%|██████████| 3/3 [00:00<00:00,  4.63it/s]\n"
          ]
        },
        {
          "output_type": "stream",
          "name": "stdout",
          "text": [
            "Test set accuracy = 0.35384615384615387\n",
            "Epoch 109 Iteration 0: Loss = 0.09662219882011414, Number of mined triplets = 8\n"
          ]
        },
        {
          "output_type": "stream",
          "name": "stderr",
          "text": [
            "100%|██████████| 3/3 [00:01<00:00,  1.63it/s]\n",
            "100%|██████████| 3/3 [00:00<00:00,  3.14it/s]\n"
          ]
        },
        {
          "output_type": "stream",
          "name": "stdout",
          "text": [
            "Test set accuracy = 0.4153846153846154\n",
            "Epoch 110 Iteration 0: Loss = 0.061852890998125076, Number of mined triplets = 10\n"
          ]
        },
        {
          "output_type": "stream",
          "name": "stderr",
          "text": [
            "100%|██████████| 3/3 [00:01<00:00,  2.10it/s]\n",
            "100%|██████████| 3/3 [00:00<00:00,  4.61it/s]\n"
          ]
        },
        {
          "output_type": "stream",
          "name": "stdout",
          "text": [
            "Test set accuracy = 0.3384615384615385\n",
            "Epoch 111 Iteration 0: Loss = 0.0, Number of mined triplets = 0\n"
          ]
        },
        {
          "output_type": "stream",
          "name": "stderr",
          "text": [
            "100%|██████████| 3/3 [00:01<00:00,  2.19it/s]\n",
            "100%|██████████| 3/3 [00:00<00:00,  4.52it/s]\n"
          ]
        },
        {
          "output_type": "stream",
          "name": "stdout",
          "text": [
            "Test set accuracy = 0.38461538461538464\n",
            "Epoch 112 Iteration 0: Loss = 0.06277330219745636, Number of mined triplets = 2\n"
          ]
        },
        {
          "output_type": "stream",
          "name": "stderr",
          "text": [
            "100%|██████████| 3/3 [00:01<00:00,  2.15it/s]\n",
            "100%|██████████| 3/3 [00:00<00:00,  3.17it/s]\n"
          ]
        },
        {
          "output_type": "stream",
          "name": "stdout",
          "text": [
            "Test set accuracy = 0.4153846153846154\n",
            "Epoch 113 Iteration 0: Loss = 0.051761358976364136, Number of mined triplets = 6\n"
          ]
        },
        {
          "output_type": "stream",
          "name": "stderr",
          "text": [
            "100%|██████████| 3/3 [00:01<00:00,  2.14it/s]\n",
            "100%|██████████| 3/3 [00:00<00:00,  4.60it/s]\n"
          ]
        },
        {
          "output_type": "stream",
          "name": "stdout",
          "text": [
            "Test set accuracy = 0.35384615384615387\n",
            "Epoch 114 Iteration 0: Loss = 0.06901416182518005, Number of mined triplets = 12\n"
          ]
        },
        {
          "output_type": "stream",
          "name": "stderr",
          "text": [
            "100%|██████████| 3/3 [00:01<00:00,  2.17it/s]\n",
            "100%|██████████| 3/3 [00:00<00:00,  4.69it/s]\n"
          ]
        },
        {
          "output_type": "stream",
          "name": "stdout",
          "text": [
            "Test set accuracy = 0.49230769230769234\n",
            "Epoch 115 Iteration 0: Loss = 0.0692724734544754, Number of mined triplets = 20\n"
          ]
        },
        {
          "output_type": "stream",
          "name": "stderr",
          "text": [
            "100%|██████████| 3/3 [00:01<00:00,  2.12it/s]\n",
            "100%|██████████| 3/3 [00:00<00:00,  4.55it/s]\n"
          ]
        },
        {
          "output_type": "stream",
          "name": "stdout",
          "text": [
            "Test set accuracy = 0.4\n",
            "Epoch 116 Iteration 0: Loss = 0.11344323307275772, Number of mined triplets = 9\n"
          ]
        },
        {
          "output_type": "stream",
          "name": "stderr",
          "text": [
            "100%|██████████| 3/3 [00:01<00:00,  1.88it/s]\n",
            "100%|██████████| 3/3 [00:00<00:00,  4.66it/s]\n"
          ]
        },
        {
          "output_type": "stream",
          "name": "stdout",
          "text": [
            "Test set accuracy = 0.38461538461538464\n",
            "Epoch 117 Iteration 0: Loss = 0.05085381865501404, Number of mined triplets = 2\n"
          ]
        },
        {
          "output_type": "stream",
          "name": "stderr",
          "text": [
            "100%|██████████| 3/3 [00:01<00:00,  2.15it/s]\n",
            "100%|██████████| 3/3 [00:00<00:00,  4.56it/s]\n"
          ]
        },
        {
          "output_type": "stream",
          "name": "stdout",
          "text": [
            "Test set accuracy = 0.4307692307692308\n",
            "Epoch 118 Iteration 0: Loss = 0.04934975504875183, Number of mined triplets = 2\n"
          ]
        },
        {
          "output_type": "stream",
          "name": "stderr",
          "text": [
            "100%|██████████| 3/3 [00:01<00:00,  2.12it/s]\n",
            "100%|██████████| 3/3 [00:00<00:00,  4.44it/s]\n"
          ]
        },
        {
          "output_type": "stream",
          "name": "stdout",
          "text": [
            "Test set accuracy = 0.4\n",
            "Epoch 119 Iteration 0: Loss = 0.0, Number of mined triplets = 0\n"
          ]
        },
        {
          "output_type": "stream",
          "name": "stderr",
          "text": [
            "100%|██████████| 3/3 [00:02<00:00,  1.32it/s]\n",
            "100%|██████████| 3/3 [00:00<00:00,  3.91it/s]\n"
          ]
        },
        {
          "output_type": "stream",
          "name": "stdout",
          "text": [
            "Test set accuracy = 0.4153846153846154\n",
            "Epoch 120 Iteration 0: Loss = 0.0, Number of mined triplets = 0\n"
          ]
        },
        {
          "output_type": "stream",
          "name": "stderr",
          "text": [
            "100%|██████████| 3/3 [00:01<00:00,  2.09it/s]\n",
            "100%|██████████| 3/3 [00:00<00:00,  4.66it/s]\n"
          ]
        },
        {
          "output_type": "stream",
          "name": "stdout",
          "text": [
            "Test set accuracy = 0.4\n",
            "Epoch 121 Iteration 0: Loss = 0.047962162643671036, Number of mined triplets = 5\n"
          ]
        },
        {
          "output_type": "stream",
          "name": "stderr",
          "text": [
            "100%|██████████| 3/3 [00:01<00:00,  2.14it/s]\n",
            "100%|██████████| 3/3 [00:00<00:00,  4.61it/s]\n"
          ]
        },
        {
          "output_type": "stream",
          "name": "stdout",
          "text": [
            "Test set accuracy = 0.4\n",
            "Epoch 122 Iteration 0: Loss = 0.08418732136487961, Number of mined triplets = 5\n"
          ]
        },
        {
          "output_type": "stream",
          "name": "stderr",
          "text": [
            "100%|██████████| 3/3 [00:02<00:00,  1.49it/s]\n",
            "100%|██████████| 3/3 [00:01<00:00,  2.87it/s]\n"
          ]
        },
        {
          "output_type": "stream",
          "name": "stdout",
          "text": [
            "Test set accuracy = 0.4153846153846154\n",
            "Epoch 123 Iteration 0: Loss = 0.10813512653112411, Number of mined triplets = 7\n"
          ]
        },
        {
          "output_type": "stream",
          "name": "stderr",
          "text": [
            "100%|██████████| 3/3 [00:01<00:00,  2.14it/s]\n",
            "100%|██████████| 3/3 [00:00<00:00,  4.14it/s]\n"
          ]
        },
        {
          "output_type": "stream",
          "name": "stdout",
          "text": [
            "Test set accuracy = 0.47692307692307695\n",
            "Epoch 124 Iteration 0: Loss = 0.08219128102064133, Number of mined triplets = 4\n"
          ]
        },
        {
          "output_type": "stream",
          "name": "stderr",
          "text": [
            "100%|██████████| 3/3 [00:01<00:00,  2.10it/s]\n",
            "100%|██████████| 3/3 [00:00<00:00,  4.56it/s]\n"
          ]
        },
        {
          "output_type": "stream",
          "name": "stdout",
          "text": [
            "Test set accuracy = 0.36923076923076925\n",
            "Epoch 125 Iteration 0: Loss = 0.051738541573286057, Number of mined triplets = 8\n"
          ]
        },
        {
          "output_type": "stream",
          "name": "stderr",
          "text": [
            "100%|██████████| 3/3 [00:01<00:00,  1.84it/s]\n",
            "100%|██████████| 3/3 [00:01<00:00,  2.91it/s]\n"
          ]
        },
        {
          "output_type": "stream",
          "name": "stdout",
          "text": [
            "Test set accuracy = 0.35384615384615387\n",
            "Epoch 126 Iteration 0: Loss = 0.06888473778963089, Number of mined triplets = 4\n"
          ]
        },
        {
          "output_type": "stream",
          "name": "stderr",
          "text": [
            "100%|██████████| 3/3 [00:01<00:00,  2.12it/s]\n",
            "100%|██████████| 3/3 [00:00<00:00,  4.66it/s]\n"
          ]
        },
        {
          "output_type": "stream",
          "name": "stdout",
          "text": [
            "Test set accuracy = 0.4307692307692308\n",
            "Epoch 127 Iteration 0: Loss = 0.08945603668689728, Number of mined triplets = 8\n"
          ]
        },
        {
          "output_type": "stream",
          "name": "stderr",
          "text": [
            "100%|██████████| 3/3 [00:01<00:00,  2.11it/s]\n",
            "100%|██████████| 3/3 [00:00<00:00,  4.39it/s]\n"
          ]
        },
        {
          "output_type": "stream",
          "name": "stdout",
          "text": [
            "Test set accuracy = 0.36923076923076925\n",
            "Epoch 128 Iteration 0: Loss = 0.060281068086624146, Number of mined triplets = 8\n"
          ]
        },
        {
          "output_type": "stream",
          "name": "stderr",
          "text": [
            "100%|██████████| 3/3 [00:01<00:00,  2.09it/s]\n",
            "100%|██████████| 3/3 [00:00<00:00,  3.31it/s]\n"
          ]
        },
        {
          "output_type": "stream",
          "name": "stdout",
          "text": [
            "Test set accuracy = 0.3230769230769231\n",
            "Epoch 129 Iteration 0: Loss = 0.08787885308265686, Number of mined triplets = 14\n"
          ]
        },
        {
          "output_type": "stream",
          "name": "stderr",
          "text": [
            "100%|██████████| 3/3 [00:01<00:00,  2.13it/s]\n",
            "100%|██████████| 3/3 [00:00<00:00,  4.45it/s]\n"
          ]
        },
        {
          "output_type": "stream",
          "name": "stdout",
          "text": [
            "Test set accuracy = 0.38461538461538464\n",
            "Epoch 130 Iteration 0: Loss = 0.11353322118520737, Number of mined triplets = 11\n"
          ]
        },
        {
          "output_type": "stream",
          "name": "stderr",
          "text": [
            "100%|██████████| 3/3 [00:01<00:00,  2.16it/s]\n",
            "100%|██████████| 3/3 [00:00<00:00,  4.59it/s]\n"
          ]
        },
        {
          "output_type": "stream",
          "name": "stdout",
          "text": [
            "Test set accuracy = 0.38461538461538464\n",
            "Epoch 131 Iteration 0: Loss = 0.09446833282709122, Number of mined triplets = 19\n"
          ]
        },
        {
          "output_type": "stream",
          "name": "stderr",
          "text": [
            "100%|██████████| 3/3 [00:01<00:00,  2.13it/s]\n",
            "100%|██████████| 3/3 [00:00<00:00,  4.27it/s]\n"
          ]
        },
        {
          "output_type": "stream",
          "name": "stdout",
          "text": [
            "Test set accuracy = 0.4\n",
            "Epoch 132 Iteration 0: Loss = 0.021198734641075134, Number of mined triplets = 3\n"
          ]
        },
        {
          "output_type": "stream",
          "name": "stderr",
          "text": [
            "100%|██████████| 3/3 [00:01<00:00,  2.04it/s]\n",
            "100%|██████████| 3/3 [00:00<00:00,  4.61it/s]\n"
          ]
        },
        {
          "output_type": "stream",
          "name": "stdout",
          "text": [
            "Test set accuracy = 0.4\n",
            "Epoch 133 Iteration 0: Loss = 0.08016428351402283, Number of mined triplets = 21\n"
          ]
        },
        {
          "output_type": "stream",
          "name": "stderr",
          "text": [
            "100%|██████████| 3/3 [00:01<00:00,  2.11it/s]\n",
            "100%|██████████| 3/3 [00:00<00:00,  4.56it/s]\n"
          ]
        },
        {
          "output_type": "stream",
          "name": "stdout",
          "text": [
            "Test set accuracy = 0.4\n",
            "Epoch 134 Iteration 0: Loss = 0.07435194402933121, Number of mined triplets = 4\n"
          ]
        },
        {
          "output_type": "stream",
          "name": "stderr",
          "text": [
            "100%|██████████| 3/3 [00:01<00:00,  2.05it/s]\n",
            "100%|██████████| 3/3 [00:00<00:00,  4.62it/s]\n"
          ]
        },
        {
          "output_type": "stream",
          "name": "stdout",
          "text": [
            "Test set accuracy = 0.35384615384615387\n",
            "Epoch 135 Iteration 0: Loss = 0.1100798025727272, Number of mined triplets = 22\n"
          ]
        },
        {
          "output_type": "stream",
          "name": "stderr",
          "text": [
            "100%|██████████| 3/3 [00:01<00:00,  1.73it/s]\n",
            "100%|██████████| 3/3 [00:00<00:00,  4.52it/s]\n"
          ]
        },
        {
          "output_type": "stream",
          "name": "stdout",
          "text": [
            "Test set accuracy = 0.47692307692307695\n",
            "Epoch 136 Iteration 0: Loss = 0.08730717748403549, Number of mined triplets = 9\n"
          ]
        },
        {
          "output_type": "stream",
          "name": "stderr",
          "text": [
            "100%|██████████| 3/3 [00:01<00:00,  2.09it/s]\n",
            "100%|██████████| 3/3 [00:00<00:00,  4.46it/s]\n"
          ]
        },
        {
          "output_type": "stream",
          "name": "stdout",
          "text": [
            "Test set accuracy = 0.35384615384615387\n",
            "Epoch 137 Iteration 0: Loss = 0.06467131525278091, Number of mined triplets = 10\n"
          ]
        },
        {
          "output_type": "stream",
          "name": "stderr",
          "text": [
            "100%|██████████| 3/3 [00:01<00:00,  2.12it/s]\n",
            "100%|██████████| 3/3 [00:00<00:00,  4.41it/s]\n"
          ]
        },
        {
          "output_type": "stream",
          "name": "stdout",
          "text": [
            "Test set accuracy = 0.4307692307692308\n",
            "Epoch 138 Iteration 0: Loss = 0.0, Number of mined triplets = 0\n"
          ]
        },
        {
          "output_type": "stream",
          "name": "stderr",
          "text": [
            "100%|██████████| 3/3 [00:02<00:00,  1.30it/s]\n",
            "100%|██████████| 3/3 [00:00<00:00,  3.90it/s]\n"
          ]
        },
        {
          "output_type": "stream",
          "name": "stdout",
          "text": [
            "Test set accuracy = 0.38461538461538464\n",
            "Epoch 139 Iteration 0: Loss = 0.0, Number of mined triplets = 0\n"
          ]
        },
        {
          "output_type": "stream",
          "name": "stderr",
          "text": [
            "100%|██████████| 3/3 [00:01<00:00,  2.11it/s]\n",
            "100%|██████████| 3/3 [00:00<00:00,  4.46it/s]\n"
          ]
        },
        {
          "output_type": "stream",
          "name": "stdout",
          "text": [
            "Test set accuracy = 0.4153846153846154\n",
            "Epoch 140 Iteration 0: Loss = 0.07095270603895187, Number of mined triplets = 9\n"
          ]
        },
        {
          "output_type": "stream",
          "name": "stderr",
          "text": [
            "100%|██████████| 3/3 [00:01<00:00,  2.09it/s]\n",
            "100%|██████████| 3/3 [00:00<00:00,  4.60it/s]\n"
          ]
        },
        {
          "output_type": "stream",
          "name": "stdout",
          "text": [
            "Test set accuracy = 0.35384615384615387\n",
            "Epoch 141 Iteration 0: Loss = 0.10246650129556656, Number of mined triplets = 7\n"
          ]
        },
        {
          "output_type": "stream",
          "name": "stderr",
          "text": [
            "100%|██████████| 3/3 [00:01<00:00,  1.57it/s]\n",
            "100%|██████████| 3/3 [00:00<00:00,  3.08it/s]\n"
          ]
        },
        {
          "output_type": "stream",
          "name": "stdout",
          "text": [
            "Test set accuracy = 0.4153846153846154\n",
            "Epoch 142 Iteration 0: Loss = 0.0, Number of mined triplets = 0\n"
          ]
        },
        {
          "output_type": "stream",
          "name": "stderr",
          "text": [
            "100%|██████████| 3/3 [00:01<00:00,  2.12it/s]\n",
            "100%|██████████| 3/3 [00:00<00:00,  4.44it/s]\n"
          ]
        },
        {
          "output_type": "stream",
          "name": "stdout",
          "text": [
            "Test set accuracy = 0.36923076923076925\n",
            "Epoch 143 Iteration 0: Loss = 0.0, Number of mined triplets = 0\n"
          ]
        },
        {
          "output_type": "stream",
          "name": "stderr",
          "text": [
            "100%|██████████| 3/3 [00:01<00:00,  2.08it/s]\n",
            "100%|██████████| 3/3 [00:00<00:00,  4.55it/s]\n"
          ]
        },
        {
          "output_type": "stream",
          "name": "stdout",
          "text": [
            "Test set accuracy = 0.4153846153846154\n",
            "Epoch 144 Iteration 0: Loss = 0.08261159807443619, Number of mined triplets = 27\n"
          ]
        },
        {
          "output_type": "stream",
          "name": "stderr",
          "text": [
            "100%|██████████| 3/3 [00:01<00:00,  1.83it/s]\n",
            "100%|██████████| 3/3 [00:01<00:00,  2.91it/s]\n"
          ]
        },
        {
          "output_type": "stream",
          "name": "stdout",
          "text": [
            "Test set accuracy = 0.3384615384615385\n",
            "Epoch 145 Iteration 0: Loss = 0.07933212071657181, Number of mined triplets = 18\n"
          ]
        },
        {
          "output_type": "stream",
          "name": "stderr",
          "text": [
            "100%|██████████| 3/3 [00:01<00:00,  2.12it/s]\n",
            "100%|██████████| 3/3 [00:00<00:00,  4.30it/s]\n"
          ]
        },
        {
          "output_type": "stream",
          "name": "stdout",
          "text": [
            "Test set accuracy = 0.4461538461538462\n",
            "Epoch 146 Iteration 0: Loss = 0.026705866679549217, Number of mined triplets = 3\n"
          ]
        },
        {
          "output_type": "stream",
          "name": "stderr",
          "text": [
            "100%|██████████| 3/3 [00:01<00:00,  2.11it/s]\n",
            "100%|██████████| 3/3 [00:00<00:00,  4.67it/s]\n"
          ]
        },
        {
          "output_type": "stream",
          "name": "stdout",
          "text": [
            "Test set accuracy = 0.47692307692307695\n",
            "Epoch 147 Iteration 0: Loss = 0.17648299038410187, Number of mined triplets = 1\n"
          ]
        },
        {
          "output_type": "stream",
          "name": "stderr",
          "text": [
            "100%|██████████| 3/3 [00:01<00:00,  2.13it/s]\n",
            "100%|██████████| 3/3 [00:00<00:00,  3.56it/s]\n"
          ]
        },
        {
          "output_type": "stream",
          "name": "stdout",
          "text": [
            "Test set accuracy = 0.4153846153846154\n",
            "Epoch 148 Iteration 0: Loss = 0.04264310002326965, Number of mined triplets = 9\n"
          ]
        },
        {
          "output_type": "stream",
          "name": "stderr",
          "text": [
            "100%|██████████| 3/3 [00:01<00:00,  2.13it/s]\n",
            "100%|██████████| 3/3 [00:00<00:00,  4.61it/s]\n"
          ]
        },
        {
          "output_type": "stream",
          "name": "stdout",
          "text": [
            "Test set accuracy = 0.4307692307692308\n",
            "Epoch 149 Iteration 0: Loss = 0.0, Number of mined triplets = 0\n"
          ]
        },
        {
          "output_type": "stream",
          "name": "stderr",
          "text": [
            "100%|██████████| 3/3 [00:01<00:00,  2.08it/s]\n",
            "100%|██████████| 3/3 [00:00<00:00,  4.57it/s]\n"
          ]
        },
        {
          "output_type": "stream",
          "name": "stdout",
          "text": [
            "Test set accuracy = 0.4307692307692308\n",
            "Epoch 150 Iteration 0: Loss = 0.08542919158935547, Number of mined triplets = 13\n"
          ]
        },
        {
          "output_type": "stream",
          "name": "stderr",
          "text": [
            "100%|██████████| 3/3 [00:01<00:00,  2.11it/s]\n",
            "100%|██████████| 3/3 [00:00<00:00,  4.56it/s]\n"
          ]
        },
        {
          "output_type": "stream",
          "name": "stdout",
          "text": [
            "Test set accuracy = 0.46153846153846156\n",
            "Epoch 151 Iteration 0: Loss = 0.0, Number of mined triplets = 0\n"
          ]
        },
        {
          "output_type": "stream",
          "name": "stderr",
          "text": [
            "100%|██████████| 3/3 [00:01<00:00,  1.93it/s]\n",
            "100%|██████████| 3/3 [00:00<00:00,  4.65it/s]\n"
          ]
        },
        {
          "output_type": "stream",
          "name": "stdout",
          "text": [
            "Test set accuracy = 0.4307692307692308\n",
            "Epoch 152 Iteration 0: Loss = 0.10978367179632187, Number of mined triplets = 7\n"
          ]
        },
        {
          "output_type": "stream",
          "name": "stderr",
          "text": [
            "100%|██████████| 3/3 [00:01<00:00,  2.13it/s]\n",
            "100%|██████████| 3/3 [00:00<00:00,  4.44it/s]\n"
          ]
        },
        {
          "output_type": "stream",
          "name": "stdout",
          "text": [
            "Test set accuracy = 0.4\n",
            "Epoch 153 Iteration 0: Loss = 0.08540606498718262, Number of mined triplets = 4\n"
          ]
        },
        {
          "output_type": "stream",
          "name": "stderr",
          "text": [
            "100%|██████████| 3/3 [00:01<00:00,  2.02it/s]\n",
            "100%|██████████| 3/3 [00:00<00:00,  4.51it/s]\n"
          ]
        },
        {
          "output_type": "stream",
          "name": "stdout",
          "text": [
            "Test set accuracy = 0.4461538461538462\n",
            "Epoch 154 Iteration 0: Loss = 0.1037287712097168, Number of mined triplets = 17\n"
          ]
        },
        {
          "output_type": "stream",
          "name": "stderr",
          "text": [
            "100%|██████████| 3/3 [00:02<00:00,  1.22it/s]\n",
            "100%|██████████| 3/3 [00:00<00:00,  4.08it/s]\n"
          ]
        },
        {
          "output_type": "stream",
          "name": "stdout",
          "text": [
            "Test set accuracy = 0.46153846153846156\n",
            "Epoch 155 Iteration 0: Loss = 0.09084390848875046, Number of mined triplets = 15\n"
          ]
        },
        {
          "output_type": "stream",
          "name": "stderr",
          "text": [
            "100%|██████████| 3/3 [00:01<00:00,  2.04it/s]\n",
            "100%|██████████| 3/3 [00:00<00:00,  4.47it/s]\n"
          ]
        },
        {
          "output_type": "stream",
          "name": "stdout",
          "text": [
            "Test set accuracy = 0.38461538461538464\n",
            "Epoch 156 Iteration 0: Loss = 0.09894153475761414, Number of mined triplets = 28\n"
          ]
        },
        {
          "output_type": "stream",
          "name": "stderr",
          "text": [
            "100%|██████████| 3/3 [00:01<00:00,  2.08it/s]\n",
            "100%|██████████| 3/3 [00:00<00:00,  4.37it/s]\n"
          ]
        },
        {
          "output_type": "stream",
          "name": "stdout",
          "text": [
            "Test set accuracy = 0.46153846153846156\n",
            "Epoch 157 Iteration 0: Loss = 0.07661841809749603, Number of mined triplets = 4\n"
          ]
        },
        {
          "output_type": "stream",
          "name": "stderr",
          "text": [
            "100%|██████████| 3/3 [00:02<00:00,  1.21it/s]\n",
            "100%|██████████| 3/3 [00:00<00:00,  3.59it/s]\n"
          ]
        },
        {
          "output_type": "stream",
          "name": "stdout",
          "text": [
            "Test set accuracy = 0.38461538461538464\n",
            "Epoch 158 Iteration 0: Loss = 0.06657934188842773, Number of mined triplets = 10\n"
          ]
        },
        {
          "output_type": "stream",
          "name": "stderr",
          "text": [
            "100%|██████████| 3/3 [00:01<00:00,  2.08it/s]\n",
            "100%|██████████| 3/3 [00:00<00:00,  4.46it/s]\n"
          ]
        },
        {
          "output_type": "stream",
          "name": "stdout",
          "text": [
            "Test set accuracy = 0.46153846153846156\n",
            "Epoch 159 Iteration 0: Loss = 0.10628332197666168, Number of mined triplets = 6\n"
          ]
        },
        {
          "output_type": "stream",
          "name": "stderr",
          "text": [
            "100%|██████████| 3/3 [00:01<00:00,  2.14it/s]\n",
            "100%|██████████| 3/3 [00:00<00:00,  4.49it/s]\n"
          ]
        },
        {
          "output_type": "stream",
          "name": "stdout",
          "text": [
            "Test set accuracy = 0.49230769230769234\n",
            "Epoch 160 Iteration 0: Loss = 0.0, Number of mined triplets = 0\n"
          ]
        },
        {
          "output_type": "stream",
          "name": "stderr",
          "text": [
            "100%|██████████| 3/3 [00:01<00:00,  1.54it/s]\n",
            "100%|██████████| 3/3 [00:00<00:00,  3.07it/s]\n"
          ]
        },
        {
          "output_type": "stream",
          "name": "stdout",
          "text": [
            "Test set accuracy = 0.4153846153846154\n",
            "Epoch 161 Iteration 0: Loss = 0.09464579820632935, Number of mined triplets = 9\n"
          ]
        },
        {
          "output_type": "stream",
          "name": "stderr",
          "text": [
            "100%|██████████| 3/3 [00:01<00:00,  2.13it/s]\n",
            "100%|██████████| 3/3 [00:00<00:00,  4.33it/s]\n"
          ]
        },
        {
          "output_type": "stream",
          "name": "stdout",
          "text": [
            "Test set accuracy = 0.4307692307692308\n",
            "Epoch 162 Iteration 0: Loss = 0.06327441334724426, Number of mined triplets = 2\n"
          ]
        },
        {
          "output_type": "stream",
          "name": "stderr",
          "text": [
            "100%|██████████| 3/3 [00:01<00:00,  2.09it/s]\n",
            "100%|██████████| 3/3 [00:00<00:00,  4.41it/s]\n"
          ]
        },
        {
          "output_type": "stream",
          "name": "stdout",
          "text": [
            "Test set accuracy = 0.49230769230769234\n",
            "Epoch 163 Iteration 0: Loss = 0.10087252408266068, Number of mined triplets = 13\n"
          ]
        },
        {
          "output_type": "stream",
          "name": "stderr",
          "text": [
            "100%|██████████| 3/3 [00:01<00:00,  1.74it/s]\n",
            "100%|██████████| 3/3 [00:01<00:00,  2.71it/s]\n"
          ]
        },
        {
          "output_type": "stream",
          "name": "stdout",
          "text": [
            "Test set accuracy = 0.47692307692307695\n",
            "Epoch 164 Iteration 0: Loss = 0.0, Number of mined triplets = 0\n"
          ]
        },
        {
          "output_type": "stream",
          "name": "stderr",
          "text": [
            "100%|██████████| 3/3 [00:01<00:00,  2.10it/s]\n",
            "100%|██████████| 3/3 [00:00<00:00,  4.49it/s]\n"
          ]
        },
        {
          "output_type": "stream",
          "name": "stdout",
          "text": [
            "Test set accuracy = 0.49230769230769234\n",
            "Epoch 165 Iteration 0: Loss = 0.09017385542392731, Number of mined triplets = 7\n"
          ]
        },
        {
          "output_type": "stream",
          "name": "stderr",
          "text": [
            "100%|██████████| 3/3 [00:01<00:00,  2.09it/s]\n",
            "100%|██████████| 3/3 [00:00<00:00,  4.32it/s]\n"
          ]
        },
        {
          "output_type": "stream",
          "name": "stdout",
          "text": [
            "Test set accuracy = 0.46153846153846156\n",
            "Epoch 166 Iteration 0: Loss = 0.06020548567175865, Number of mined triplets = 6\n"
          ]
        },
        {
          "output_type": "stream",
          "name": "stderr",
          "text": [
            "100%|██████████| 3/3 [00:01<00:00,  1.86it/s]\n",
            "100%|██████████| 3/3 [00:01<00:00,  2.69it/s]\n"
          ]
        },
        {
          "output_type": "stream",
          "name": "stdout",
          "text": [
            "Test set accuracy = 0.46153846153846156\n",
            "Epoch 167 Iteration 0: Loss = 0.07836814969778061, Number of mined triplets = 7\n"
          ]
        },
        {
          "output_type": "stream",
          "name": "stderr",
          "text": [
            "100%|██████████| 3/3 [00:01<00:00,  2.00it/s]\n",
            "100%|██████████| 3/3 [00:00<00:00,  4.37it/s]\n"
          ]
        },
        {
          "output_type": "stream",
          "name": "stdout",
          "text": [
            "Test set accuracy = 0.46153846153846156\n",
            "Epoch 168 Iteration 0: Loss = 0.060463760048151016, Number of mined triplets = 7\n"
          ]
        },
        {
          "output_type": "stream",
          "name": "stderr",
          "text": [
            "100%|██████████| 3/3 [00:01<00:00,  2.09it/s]\n",
            "100%|██████████| 3/3 [00:00<00:00,  4.39it/s]\n"
          ]
        },
        {
          "output_type": "stream",
          "name": "stdout",
          "text": [
            "Test set accuracy = 0.38461538461538464\n",
            "Epoch 169 Iteration 0: Loss = 0.005116209387779236, Number of mined triplets = 1\n"
          ]
        },
        {
          "output_type": "stream",
          "name": "stderr",
          "text": [
            "100%|██████████| 3/3 [00:01<00:00,  2.02it/s]\n",
            "100%|██████████| 3/3 [00:01<00:00,  2.85it/s]\n"
          ]
        },
        {
          "output_type": "stream",
          "name": "stdout",
          "text": [
            "Test set accuracy = 0.4307692307692308\n",
            "Epoch 170 Iteration 0: Loss = 0.09449551999568939, Number of mined triplets = 1\n"
          ]
        },
        {
          "output_type": "stream",
          "name": "stderr",
          "text": [
            "100%|██████████| 3/3 [00:01<00:00,  2.09it/s]\n",
            "100%|██████████| 3/3 [00:00<00:00,  4.66it/s]\n"
          ]
        },
        {
          "output_type": "stream",
          "name": "stdout",
          "text": [
            "Test set accuracy = 0.47692307692307695\n",
            "Epoch 171 Iteration 0: Loss = 0.0, Number of mined triplets = 0\n"
          ]
        },
        {
          "output_type": "stream",
          "name": "stderr",
          "text": [
            "100%|██████████| 3/3 [00:01<00:00,  2.11it/s]\n",
            "100%|██████████| 3/3 [00:00<00:00,  4.46it/s]\n"
          ]
        },
        {
          "output_type": "stream",
          "name": "stdout",
          "text": [
            "Test set accuracy = 0.5384615384615385\n",
            "Epoch 172 Iteration 0: Loss = 0.0, Number of mined triplets = 0\n"
          ]
        },
        {
          "output_type": "stream",
          "name": "stderr",
          "text": [
            "100%|██████████| 3/3 [00:01<00:00,  2.11it/s]\n",
            "100%|██████████| 3/3 [00:00<00:00,  4.15it/s]\n"
          ]
        },
        {
          "output_type": "stream",
          "name": "stdout",
          "text": [
            "Test set accuracy = 0.46153846153846156\n",
            "Epoch 173 Iteration 0: Loss = 0.03657311946153641, Number of mined triplets = 3\n"
          ]
        },
        {
          "output_type": "stream",
          "name": "stderr",
          "text": [
            "100%|██████████| 3/3 [00:01<00:00,  2.05it/s]\n",
            "100%|██████████| 3/3 [00:00<00:00,  4.48it/s]\n"
          ]
        },
        {
          "output_type": "stream",
          "name": "stdout",
          "text": [
            "Test set accuracy = 0.4461538461538462\n",
            "Epoch 174 Iteration 0: Loss = 0.03406934440135956, Number of mined triplets = 1\n"
          ]
        },
        {
          "output_type": "stream",
          "name": "stderr",
          "text": [
            "100%|██████████| 3/3 [00:01<00:00,  2.07it/s]\n",
            "100%|██████████| 3/3 [00:00<00:00,  4.30it/s]\n"
          ]
        },
        {
          "output_type": "stream",
          "name": "stdout",
          "text": [
            "Test set accuracy = 0.4461538461538462\n",
            "Epoch 175 Iteration 0: Loss = 0.07920046150684357, Number of mined triplets = 3\n"
          ]
        },
        {
          "output_type": "stream",
          "name": "stderr",
          "text": [
            "100%|██████████| 3/3 [00:01<00:00,  2.13it/s]\n",
            "100%|██████████| 3/3 [00:00<00:00,  4.48it/s]\n"
          ]
        },
        {
          "output_type": "stream",
          "name": "stdout",
          "text": [
            "Test set accuracy = 0.47692307692307695\n",
            "Epoch 176 Iteration 0: Loss = 0.08800739794969559, Number of mined triplets = 8\n"
          ]
        },
        {
          "output_type": "stream",
          "name": "stderr",
          "text": [
            "100%|██████████| 3/3 [00:01<00:00,  1.84it/s]\n",
            "100%|██████████| 3/3 [00:00<00:00,  4.43it/s]\n"
          ]
        },
        {
          "output_type": "stream",
          "name": "stdout",
          "text": [
            "Test set accuracy = 0.5384615384615385\n",
            "Epoch 177 Iteration 0: Loss = 0.1169373020529747, Number of mined triplets = 6\n"
          ]
        },
        {
          "output_type": "stream",
          "name": "stderr",
          "text": [
            "100%|██████████| 3/3 [00:01<00:00,  2.12it/s]\n",
            "100%|██████████| 3/3 [00:00<00:00,  4.40it/s]\n"
          ]
        },
        {
          "output_type": "stream",
          "name": "stdout",
          "text": [
            "Test set accuracy = 0.4153846153846154\n",
            "Epoch 178 Iteration 0: Loss = 0.09723389893770218, Number of mined triplets = 4\n"
          ]
        },
        {
          "output_type": "stream",
          "name": "stderr",
          "text": [
            "100%|██████████| 3/3 [00:01<00:00,  2.10it/s]\n",
            "100%|██████████| 3/3 [00:00<00:00,  4.50it/s]\n"
          ]
        },
        {
          "output_type": "stream",
          "name": "stdout",
          "text": [
            "Test set accuracy = 0.4307692307692308\n",
            "Epoch 179 Iteration 0: Loss = 0.0, Number of mined triplets = 0\n"
          ]
        },
        {
          "output_type": "stream",
          "name": "stderr",
          "text": [
            "100%|██████████| 3/3 [00:02<00:00,  1.27it/s]\n",
            "100%|██████████| 3/3 [00:00<00:00,  4.00it/s]\n"
          ]
        },
        {
          "output_type": "stream",
          "name": "stdout",
          "text": [
            "Test set accuracy = 0.46153846153846156\n",
            "Epoch 180 Iteration 0: Loss = 0.11182846873998642, Number of mined triplets = 5\n"
          ]
        },
        {
          "output_type": "stream",
          "name": "stderr",
          "text": [
            "100%|██████████| 3/3 [00:01<00:00,  2.10it/s]\n",
            "100%|██████████| 3/3 [00:00<00:00,  4.52it/s]\n"
          ]
        },
        {
          "output_type": "stream",
          "name": "stdout",
          "text": [
            "Test set accuracy = 0.47692307692307695\n",
            "Epoch 181 Iteration 0: Loss = 0.09943501651287079, Number of mined triplets = 6\n"
          ]
        },
        {
          "output_type": "stream",
          "name": "stderr",
          "text": [
            "100%|██████████| 3/3 [00:01<00:00,  2.14it/s]\n",
            "100%|██████████| 3/3 [00:00<00:00,  4.46it/s]\n"
          ]
        },
        {
          "output_type": "stream",
          "name": "stdout",
          "text": [
            "Test set accuracy = 0.4307692307692308\n",
            "Epoch 182 Iteration 0: Loss = 0.0, Number of mined triplets = 0\n"
          ]
        },
        {
          "output_type": "stream",
          "name": "stderr",
          "text": [
            "100%|██████████| 3/3 [00:02<00:00,  1.43it/s]\n",
            "100%|██████████| 3/3 [00:01<00:00,  2.86it/s]\n"
          ]
        },
        {
          "output_type": "stream",
          "name": "stdout",
          "text": [
            "Test set accuracy = 0.35384615384615387\n",
            "Epoch 183 Iteration 0: Loss = 0.09705280512571335, Number of mined triplets = 8\n"
          ]
        },
        {
          "output_type": "stream",
          "name": "stderr",
          "text": [
            "100%|██████████| 3/3 [00:01<00:00,  2.14it/s]\n",
            "100%|██████████| 3/3 [00:00<00:00,  4.62it/s]\n"
          ]
        },
        {
          "output_type": "stream",
          "name": "stdout",
          "text": [
            "Test set accuracy = 0.47692307692307695\n",
            "Epoch 184 Iteration 0: Loss = 0.05510161072015762, Number of mined triplets = 7\n"
          ]
        },
        {
          "output_type": "stream",
          "name": "stderr",
          "text": [
            "100%|██████████| 3/3 [00:01<00:00,  2.07it/s]\n",
            "100%|██████████| 3/3 [00:00<00:00,  4.52it/s]\n"
          ]
        },
        {
          "output_type": "stream",
          "name": "stdout",
          "text": [
            "Test set accuracy = 0.4307692307692308\n",
            "Epoch 185 Iteration 0: Loss = 0.022388413548469543, Number of mined triplets = 2\n"
          ]
        },
        {
          "output_type": "stream",
          "name": "stderr",
          "text": [
            "100%|██████████| 3/3 [00:01<00:00,  1.80it/s]\n",
            "100%|██████████| 3/3 [00:01<00:00,  2.77it/s]\n"
          ]
        },
        {
          "output_type": "stream",
          "name": "stdout",
          "text": [
            "Test set accuracy = 0.49230769230769234\n",
            "Epoch 186 Iteration 0: Loss = 0.04718045890331268, Number of mined triplets = 8\n"
          ]
        },
        {
          "output_type": "stream",
          "name": "stderr",
          "text": [
            "100%|██████████| 3/3 [00:01<00:00,  2.13it/s]\n",
            "100%|██████████| 3/3 [00:00<00:00,  4.47it/s]\n"
          ]
        },
        {
          "output_type": "stream",
          "name": "stdout",
          "text": [
            "Test set accuracy = 0.4307692307692308\n",
            "Epoch 187 Iteration 0: Loss = 0.10180532187223434, Number of mined triplets = 11\n"
          ]
        },
        {
          "output_type": "stream",
          "name": "stderr",
          "text": [
            "100%|██████████| 3/3 [00:01<00:00,  2.09it/s]\n",
            "100%|██████████| 3/3 [00:00<00:00,  4.44it/s]\n"
          ]
        },
        {
          "output_type": "stream",
          "name": "stdout",
          "text": [
            "Test set accuracy = 0.47692307692307695\n",
            "Epoch 188 Iteration 0: Loss = 0.0, Number of mined triplets = 0\n"
          ]
        },
        {
          "output_type": "stream",
          "name": "stderr",
          "text": [
            "100%|██████████| 3/3 [00:01<00:00,  2.13it/s]\n",
            "100%|██████████| 3/3 [00:01<00:00,  2.81it/s]\n"
          ]
        },
        {
          "output_type": "stream",
          "name": "stdout",
          "text": [
            "Test set accuracy = 0.49230769230769234\n",
            "Epoch 189 Iteration 0: Loss = 0.1111740842461586, Number of mined triplets = 14\n"
          ]
        },
        {
          "output_type": "stream",
          "name": "stderr",
          "text": [
            "100%|██████████| 3/3 [00:01<00:00,  2.01it/s]\n",
            "100%|██████████| 3/3 [00:00<00:00,  4.53it/s]\n"
          ]
        },
        {
          "output_type": "stream",
          "name": "stdout",
          "text": [
            "Test set accuracy = 0.5384615384615385\n",
            "Epoch 190 Iteration 0: Loss = 0.0896265059709549, Number of mined triplets = 28\n"
          ]
        },
        {
          "output_type": "stream",
          "name": "stderr",
          "text": [
            "100%|██████████| 3/3 [00:01<00:00,  2.09it/s]\n",
            "100%|██████████| 3/3 [00:00<00:00,  4.38it/s]\n"
          ]
        },
        {
          "output_type": "stream",
          "name": "stdout",
          "text": [
            "Test set accuracy = 0.49230769230769234\n",
            "Epoch 191 Iteration 0: Loss = 0.0, Number of mined triplets = 0\n"
          ]
        },
        {
          "output_type": "stream",
          "name": "stderr",
          "text": [
            "100%|██████████| 3/3 [00:01<00:00,  2.09it/s]\n",
            "100%|██████████| 3/3 [00:00<00:00,  3.67it/s]\n"
          ]
        },
        {
          "output_type": "stream",
          "name": "stdout",
          "text": [
            "Test set accuracy = 0.5230769230769231\n",
            "Epoch 192 Iteration 0: Loss = 0.051437508314847946, Number of mined triplets = 6\n"
          ]
        },
        {
          "output_type": "stream",
          "name": "stderr",
          "text": [
            "100%|██████████| 3/3 [00:01<00:00,  2.11it/s]\n",
            "100%|██████████| 3/3 [00:00<00:00,  4.49it/s]\n"
          ]
        },
        {
          "output_type": "stream",
          "name": "stdout",
          "text": [
            "Test set accuracy = 0.4461538461538462\n",
            "Epoch 193 Iteration 0: Loss = 0.10868669301271439, Number of mined triplets = 8\n"
          ]
        },
        {
          "output_type": "stream",
          "name": "stderr",
          "text": [
            "100%|██████████| 3/3 [00:01<00:00,  2.12it/s]\n",
            "100%|██████████| 3/3 [00:00<00:00,  4.29it/s]\n"
          ]
        },
        {
          "output_type": "stream",
          "name": "stdout",
          "text": [
            "Test set accuracy = 0.49230769230769234\n",
            "Epoch 194 Iteration 0: Loss = 0.09042159467935562, Number of mined triplets = 14\n"
          ]
        },
        {
          "output_type": "stream",
          "name": "stderr",
          "text": [
            "100%|██████████| 3/3 [00:01<00:00,  2.07it/s]\n",
            "100%|██████████| 3/3 [00:00<00:00,  4.20it/s]\n"
          ]
        },
        {
          "output_type": "stream",
          "name": "stdout",
          "text": [
            "Test set accuracy = 0.4461538461538462\n",
            "Epoch 195 Iteration 0: Loss = 0.14131124317646027, Number of mined triplets = 1\n"
          ]
        },
        {
          "output_type": "stream",
          "name": "stderr",
          "text": [
            "100%|██████████| 3/3 [00:01<00:00,  2.10it/s]\n",
            "100%|██████████| 3/3 [00:00<00:00,  4.29it/s]\n"
          ]
        },
        {
          "output_type": "stream",
          "name": "stdout",
          "text": [
            "Test set accuracy = 0.5538461538461539\n",
            "Epoch 196 Iteration 0: Loss = 0.0, Number of mined triplets = 0\n"
          ]
        },
        {
          "output_type": "stream",
          "name": "stderr",
          "text": [
            "100%|██████████| 3/3 [00:01<00:00,  2.12it/s]\n",
            "100%|██████████| 3/3 [00:00<00:00,  4.47it/s]\n"
          ]
        },
        {
          "output_type": "stream",
          "name": "stdout",
          "text": [
            "Test set accuracy = 0.47692307692307695\n",
            "Epoch 197 Iteration 0: Loss = 0.0, Number of mined triplets = 0\n"
          ]
        },
        {
          "output_type": "stream",
          "name": "stderr",
          "text": [
            "100%|██████████| 3/3 [00:01<00:00,  2.11it/s]\n",
            "100%|██████████| 3/3 [00:00<00:00,  4.52it/s]\n"
          ]
        },
        {
          "output_type": "stream",
          "name": "stdout",
          "text": [
            "Test set accuracy = 0.4461538461538462\n",
            "Epoch 198 Iteration 0: Loss = 0.0, Number of mined triplets = 0\n"
          ]
        },
        {
          "output_type": "stream",
          "name": "stderr",
          "text": [
            "100%|██████████| 3/3 [00:01<00:00,  1.89it/s]\n",
            "100%|██████████| 3/3 [00:00<00:00,  4.41it/s]\n"
          ]
        },
        {
          "output_type": "stream",
          "name": "stdout",
          "text": [
            "Test set accuracy = 0.46153846153846156\n",
            "Epoch 199 Iteration 0: Loss = 0.09878706932067871, Number of mined triplets = 21\n"
          ]
        },
        {
          "output_type": "stream",
          "name": "stderr",
          "text": [
            "100%|██████████| 3/3 [00:01<00:00,  2.07it/s]\n",
            "100%|██████████| 3/3 [00:00<00:00,  4.49it/s]\n"
          ]
        },
        {
          "output_type": "stream",
          "name": "stdout",
          "text": [
            "Test set accuracy = 0.4\n",
            "Epoch 200 Iteration 0: Loss = 0.07800593227148056, Number of mined triplets = 5\n"
          ]
        },
        {
          "output_type": "stream",
          "name": "stderr",
          "text": [
            "100%|██████████| 3/3 [00:01<00:00,  2.09it/s]\n",
            "100%|██████████| 3/3 [00:00<00:00,  4.42it/s]\n"
          ]
        },
        {
          "output_type": "stream",
          "name": "stdout",
          "text": [
            "Test set accuracy = 0.46153846153846156\n",
            "Epoch 201 Iteration 0: Loss = 0.088553287088871, Number of mined triplets = 13\n"
          ]
        },
        {
          "output_type": "stream",
          "name": "stderr",
          "text": [
            "100%|██████████| 3/3 [00:02<00:00,  1.36it/s]\n",
            "100%|██████████| 3/3 [00:00<00:00,  4.45it/s]\n"
          ]
        },
        {
          "output_type": "stream",
          "name": "stdout",
          "text": [
            "Test set accuracy = 0.4153846153846154\n",
            "Epoch 202 Iteration 0: Loss = 0.0, Number of mined triplets = 0\n"
          ]
        },
        {
          "output_type": "stream",
          "name": "stderr",
          "text": [
            "100%|██████████| 3/3 [00:01<00:00,  2.09it/s]\n",
            "100%|██████████| 3/3 [00:00<00:00,  4.40it/s]\n"
          ]
        },
        {
          "output_type": "stream",
          "name": "stdout",
          "text": [
            "Test set accuracy = 0.4461538461538462\n",
            "Epoch 203 Iteration 0: Loss = 0.06139318645000458, Number of mined triplets = 4\n"
          ]
        },
        {
          "output_type": "stream",
          "name": "stderr",
          "text": [
            "100%|██████████| 3/3 [00:01<00:00,  2.11it/s]\n",
            "100%|██████████| 3/3 [00:00<00:00,  4.56it/s]\n"
          ]
        },
        {
          "output_type": "stream",
          "name": "stdout",
          "text": [
            "Test set accuracy = 0.46153846153846156\n",
            "Epoch 204 Iteration 0: Loss = 0.0330982431769371, Number of mined triplets = 2\n"
          ]
        },
        {
          "output_type": "stream",
          "name": "stderr",
          "text": [
            "100%|██████████| 3/3 [00:02<00:00,  1.34it/s]\n",
            "100%|██████████| 3/3 [00:00<00:00,  3.62it/s]\n"
          ]
        },
        {
          "output_type": "stream",
          "name": "stdout",
          "text": [
            "Test set accuracy = 0.47692307692307695\n",
            "Epoch 205 Iteration 0: Loss = 0.11419068276882172, Number of mined triplets = 4\n"
          ]
        },
        {
          "output_type": "stream",
          "name": "stderr",
          "text": [
            "100%|██████████| 3/3 [00:01<00:00,  2.13it/s]\n",
            "100%|██████████| 3/3 [00:00<00:00,  4.38it/s]\n"
          ]
        },
        {
          "output_type": "stream",
          "name": "stdout",
          "text": [
            "Test set accuracy = 0.47692307692307695\n",
            "Epoch 206 Iteration 0: Loss = 0.0, Number of mined triplets = 0\n"
          ]
        },
        {
          "output_type": "stream",
          "name": "stderr",
          "text": [
            "100%|██████████| 3/3 [00:01<00:00,  2.08it/s]\n",
            "100%|██████████| 3/3 [00:00<00:00,  4.40it/s]\n"
          ]
        },
        {
          "output_type": "stream",
          "name": "stdout",
          "text": [
            "Test set accuracy = 0.47692307692307695\n",
            "Epoch 207 Iteration 0: Loss = 0.0, Number of mined triplets = 0\n"
          ]
        },
        {
          "output_type": "stream",
          "name": "stderr",
          "text": [
            "100%|██████████| 3/3 [00:01<00:00,  1.51it/s]\n",
            "100%|██████████| 3/3 [00:00<00:00,  3.03it/s]\n"
          ]
        },
        {
          "output_type": "stream",
          "name": "stdout",
          "text": [
            "Test set accuracy = 0.4461538461538462\n",
            "Epoch 208 Iteration 0: Loss = 0.0, Number of mined triplets = 0\n"
          ]
        },
        {
          "output_type": "stream",
          "name": "stderr",
          "text": [
            "100%|██████████| 3/3 [00:01<00:00,  2.11it/s]\n",
            "100%|██████████| 3/3 [00:00<00:00,  4.44it/s]\n"
          ]
        },
        {
          "output_type": "stream",
          "name": "stdout",
          "text": [
            "Test set accuracy = 0.47692307692307695\n",
            "Epoch 209 Iteration 0: Loss = 0.12545962631702423, Number of mined triplets = 5\n"
          ]
        },
        {
          "output_type": "stream",
          "name": "stderr",
          "text": [
            "100%|██████████| 3/3 [00:01<00:00,  2.10it/s]\n",
            "100%|██████████| 3/3 [00:00<00:00,  4.46it/s]\n"
          ]
        },
        {
          "output_type": "stream",
          "name": "stdout",
          "text": [
            "Test set accuracy = 0.49230769230769234\n",
            "Epoch 210 Iteration 0: Loss = 0.09177902340888977, Number of mined triplets = 4\n"
          ]
        },
        {
          "output_type": "stream",
          "name": "stderr",
          "text": [
            "100%|██████████| 3/3 [00:01<00:00,  1.86it/s]\n",
            "100%|██████████| 3/3 [00:01<00:00,  2.71it/s]\n"
          ]
        },
        {
          "output_type": "stream",
          "name": "stdout",
          "text": [
            "Test set accuracy = 0.49230769230769234\n",
            "Epoch 211 Iteration 0: Loss = 0.0, Number of mined triplets = 0\n"
          ]
        },
        {
          "output_type": "stream",
          "name": "stderr",
          "text": [
            "100%|██████████| 3/3 [00:01<00:00,  1.95it/s]\n",
            "100%|██████████| 3/3 [00:00<00:00,  4.42it/s]\n"
          ]
        },
        {
          "output_type": "stream",
          "name": "stdout",
          "text": [
            "Test set accuracy = 0.49230769230769234\n",
            "Epoch 212 Iteration 0: Loss = 0.08276346325874329, Number of mined triplets = 8\n"
          ]
        },
        {
          "output_type": "stream",
          "name": "stderr",
          "text": [
            "100%|██████████| 3/3 [00:01<00:00,  2.11it/s]\n",
            "100%|██████████| 3/3 [00:00<00:00,  4.44it/s]\n"
          ]
        },
        {
          "output_type": "stream",
          "name": "stdout",
          "text": [
            "Test set accuracy = 0.46153846153846156\n",
            "Epoch 213 Iteration 0: Loss = 0.08822062611579895, Number of mined triplets = 5\n"
          ]
        },
        {
          "output_type": "stream",
          "name": "stderr",
          "text": [
            "100%|██████████| 3/3 [00:01<00:00,  2.07it/s]\n",
            "100%|██████████| 3/3 [00:00<00:00,  3.06it/s]\n"
          ]
        },
        {
          "output_type": "stream",
          "name": "stdout",
          "text": [
            "Test set accuracy = 0.5230769230769231\n",
            "Epoch 214 Iteration 0: Loss = 0.0, Number of mined triplets = 0\n"
          ]
        },
        {
          "output_type": "stream",
          "name": "stderr",
          "text": [
            "100%|██████████| 3/3 [00:01<00:00,  2.02it/s]\n",
            "100%|██████████| 3/3 [00:00<00:00,  4.50it/s]\n"
          ]
        },
        {
          "output_type": "stream",
          "name": "stdout",
          "text": [
            "Test set accuracy = 0.4461538461538462\n",
            "Epoch 215 Iteration 0: Loss = 0.06587352603673935, Number of mined triplets = 3\n"
          ]
        },
        {
          "output_type": "stream",
          "name": "stderr",
          "text": [
            "100%|██████████| 3/3 [00:01<00:00,  2.13it/s]\n",
            "100%|██████████| 3/3 [00:00<00:00,  4.46it/s]\n"
          ]
        },
        {
          "output_type": "stream",
          "name": "stdout",
          "text": [
            "Test set accuracy = 0.46153846153846156\n",
            "Epoch 216 Iteration 0: Loss = 0.010861024260520935, Number of mined triplets = 1\n"
          ]
        },
        {
          "output_type": "stream",
          "name": "stderr",
          "text": [
            "100%|██████████| 3/3 [00:01<00:00,  2.13it/s]\n",
            "100%|██████████| 3/3 [00:00<00:00,  3.82it/s]\n"
          ]
        },
        {
          "output_type": "stream",
          "name": "stdout",
          "text": [
            "Test set accuracy = 0.46153846153846156\n",
            "Epoch 217 Iteration 0: Loss = 0.05784790217876434, Number of mined triplets = 1\n"
          ]
        },
        {
          "output_type": "stream",
          "name": "stderr",
          "text": [
            "100%|██████████| 3/3 [00:01<00:00,  2.11it/s]\n",
            "100%|██████████| 3/3 [00:00<00:00,  4.46it/s]\n"
          ]
        },
        {
          "output_type": "stream",
          "name": "stdout",
          "text": [
            "Test set accuracy = 0.46153846153846156\n",
            "Epoch 218 Iteration 0: Loss = 0.11347974836826324, Number of mined triplets = 10\n"
          ]
        },
        {
          "output_type": "stream",
          "name": "stderr",
          "text": [
            "100%|██████████| 3/3 [00:01<00:00,  2.10it/s]\n",
            "100%|██████████| 3/3 [00:00<00:00,  4.25it/s]\n"
          ]
        },
        {
          "output_type": "stream",
          "name": "stdout",
          "text": [
            "Test set accuracy = 0.47692307692307695\n",
            "Epoch 219 Iteration 0: Loss = 0.10292217880487442, Number of mined triplets = 7\n"
          ]
        },
        {
          "output_type": "stream",
          "name": "stderr",
          "text": [
            "100%|██████████| 3/3 [00:01<00:00,  2.03it/s]\n",
            "100%|██████████| 3/3 [00:00<00:00,  4.46it/s]\n"
          ]
        },
        {
          "output_type": "stream",
          "name": "stdout",
          "text": [
            "Test set accuracy = 0.46153846153846156\n",
            "Epoch 220 Iteration 0: Loss = 0.0, Number of mined triplets = 0\n"
          ]
        },
        {
          "output_type": "stream",
          "name": "stderr",
          "text": [
            "100%|██████████| 3/3 [00:01<00:00,  1.86it/s]\n",
            "100%|██████████| 3/3 [00:00<00:00,  4.30it/s]\n"
          ]
        },
        {
          "output_type": "stream",
          "name": "stdout",
          "text": [
            "Test set accuracy = 0.4153846153846154\n",
            "Epoch 221 Iteration 0: Loss = 0.09781283885240555, Number of mined triplets = 10\n"
          ]
        },
        {
          "output_type": "stream",
          "name": "stderr",
          "text": [
            "100%|██████████| 3/3 [00:01<00:00,  2.11it/s]\n",
            "100%|██████████| 3/3 [00:00<00:00,  4.37it/s]\n"
          ]
        },
        {
          "output_type": "stream",
          "name": "stdout",
          "text": [
            "Test set accuracy = 0.47692307692307695\n",
            "Epoch 222 Iteration 0: Loss = 0.0, Number of mined triplets = 0\n"
          ]
        },
        {
          "output_type": "stream",
          "name": "stderr",
          "text": [
            "100%|██████████| 3/3 [00:01<00:00,  2.08it/s]\n",
            "100%|██████████| 3/3 [00:00<00:00,  4.31it/s]\n"
          ]
        },
        {
          "output_type": "stream",
          "name": "stdout",
          "text": [
            "Test set accuracy = 0.46153846153846156\n",
            "Epoch 223 Iteration 0: Loss = 0.09150295704603195, Number of mined triplets = 5\n"
          ]
        },
        {
          "output_type": "stream",
          "name": "stderr",
          "text": [
            "100%|██████████| 3/3 [00:01<00:00,  1.68it/s]\n",
            "100%|██████████| 3/3 [00:00<00:00,  4.49it/s]\n"
          ]
        },
        {
          "output_type": "stream",
          "name": "stdout",
          "text": [
            "Test set accuracy = 0.5538461538461539\n",
            "Epoch 224 Iteration 0: Loss = 0.08879083395004272, Number of mined triplets = 6\n"
          ]
        },
        {
          "output_type": "stream",
          "name": "stderr",
          "text": [
            "100%|██████████| 3/3 [00:01<00:00,  2.07it/s]\n",
            "100%|██████████| 3/3 [00:00<00:00,  4.37it/s]\n"
          ]
        },
        {
          "output_type": "stream",
          "name": "stdout",
          "text": [
            "Test set accuracy = 0.5076923076923077\n",
            "Epoch 225 Iteration 0: Loss = 0.0, Number of mined triplets = 0\n"
          ]
        },
        {
          "output_type": "stream",
          "name": "stderr",
          "text": [
            "100%|██████████| 3/3 [00:01<00:00,  2.08it/s]\n",
            "100%|██████████| 3/3 [00:00<00:00,  4.25it/s]\n"
          ]
        },
        {
          "output_type": "stream",
          "name": "stdout",
          "text": [
            "Test set accuracy = 0.47692307692307695\n",
            "Epoch 226 Iteration 0: Loss = 0.0, Number of mined triplets = 0\n"
          ]
        },
        {
          "output_type": "stream",
          "name": "stderr",
          "text": [
            "100%|██████████| 3/3 [00:02<00:00,  1.23it/s]\n",
            "100%|██████████| 3/3 [00:00<00:00,  3.80it/s]\n"
          ]
        },
        {
          "output_type": "stream",
          "name": "stdout",
          "text": [
            "Test set accuracy = 0.5076923076923077\n",
            "Epoch 227 Iteration 0: Loss = 0.07435645908117294, Number of mined triplets = 14\n"
          ]
        },
        {
          "output_type": "stream",
          "name": "stderr",
          "text": [
            "100%|██████████| 3/3 [00:01<00:00,  2.04it/s]\n",
            "100%|██████████| 3/3 [00:00<00:00,  4.32it/s]\n"
          ]
        },
        {
          "output_type": "stream",
          "name": "stdout",
          "text": [
            "Test set accuracy = 0.47692307692307695\n",
            "Epoch 228 Iteration 0: Loss = 0.0, Number of mined triplets = 0\n"
          ]
        },
        {
          "output_type": "stream",
          "name": "stderr",
          "text": [
            "100%|██████████| 3/3 [00:01<00:00,  2.07it/s]\n",
            "100%|██████████| 3/3 [00:00<00:00,  4.50it/s]\n"
          ]
        },
        {
          "output_type": "stream",
          "name": "stdout",
          "text": [
            "Test set accuracy = 0.47692307692307695\n",
            "Epoch 229 Iteration 0: Loss = 0.047075800597667694, Number of mined triplets = 5\n"
          ]
        },
        {
          "output_type": "stream",
          "name": "stderr",
          "text": [
            "100%|██████████| 3/3 [00:02<00:00,  1.29it/s]\n",
            "100%|██████████| 3/3 [00:00<00:00,  3.40it/s]\n"
          ]
        },
        {
          "output_type": "stream",
          "name": "stdout",
          "text": [
            "Test set accuracy = 0.4307692307692308\n",
            "Epoch 230 Iteration 0: Loss = 0.05952658876776695, Number of mined triplets = 4\n"
          ]
        },
        {
          "output_type": "stream",
          "name": "stderr",
          "text": [
            "100%|██████████| 3/3 [00:01<00:00,  2.08it/s]\n",
            "100%|██████████| 3/3 [00:00<00:00,  4.38it/s]\n"
          ]
        },
        {
          "output_type": "stream",
          "name": "stdout",
          "text": [
            "Test set accuracy = 0.49230769230769234\n",
            "Epoch 231 Iteration 0: Loss = 0.10047376155853271, Number of mined triplets = 20\n"
          ]
        },
        {
          "output_type": "stream",
          "name": "stderr",
          "text": [
            "100%|██████████| 3/3 [00:01<00:00,  2.10it/s]\n",
            "100%|██████████| 3/3 [00:00<00:00,  4.26it/s]\n"
          ]
        },
        {
          "output_type": "stream",
          "name": "stdout",
          "text": [
            "Test set accuracy = 0.47692307692307695\n",
            "Epoch 232 Iteration 0: Loss = 0.0954221710562706, Number of mined triplets = 5\n"
          ]
        },
        {
          "output_type": "stream",
          "name": "stderr",
          "text": [
            "100%|██████████| 3/3 [00:02<00:00,  1.47it/s]\n",
            "100%|██████████| 3/3 [00:01<00:00,  2.88it/s]\n"
          ]
        },
        {
          "output_type": "stream",
          "name": "stdout",
          "text": [
            "Test set accuracy = 0.47692307692307695\n",
            "Epoch 233 Iteration 0: Loss = 0.0, Number of mined triplets = 0\n"
          ]
        },
        {
          "output_type": "stream",
          "name": "stderr",
          "text": [
            "100%|██████████| 3/3 [00:01<00:00,  2.05it/s]\n",
            "100%|██████████| 3/3 [00:00<00:00,  4.55it/s]\n"
          ]
        },
        {
          "output_type": "stream",
          "name": "stdout",
          "text": [
            "Test set accuracy = 0.5076923076923077\n",
            "Epoch 234 Iteration 0: Loss = 0.13725735247135162, Number of mined triplets = 4\n"
          ]
        },
        {
          "output_type": "stream",
          "name": "stderr",
          "text": [
            "100%|██████████| 3/3 [00:01<00:00,  2.06it/s]\n",
            "100%|██████████| 3/3 [00:00<00:00,  4.36it/s]\n"
          ]
        },
        {
          "output_type": "stream",
          "name": "stdout",
          "text": [
            "Test set accuracy = 0.49230769230769234\n",
            "Epoch 235 Iteration 0: Loss = 0.06705053150653839, Number of mined triplets = 8\n"
          ]
        },
        {
          "output_type": "stream",
          "name": "stderr",
          "text": [
            "100%|██████████| 3/3 [00:01<00:00,  1.68it/s]\n",
            "100%|██████████| 3/3 [00:01<00:00,  2.97it/s]\n"
          ]
        },
        {
          "output_type": "stream",
          "name": "stdout",
          "text": [
            "Test set accuracy = 0.49230769230769234\n",
            "Epoch 236 Iteration 0: Loss = 0.06208274886012077, Number of mined triplets = 6\n"
          ]
        },
        {
          "output_type": "stream",
          "name": "stderr",
          "text": [
            "100%|██████████| 3/3 [00:01<00:00,  2.03it/s]\n",
            "100%|██████████| 3/3 [00:00<00:00,  4.45it/s]\n"
          ]
        },
        {
          "output_type": "stream",
          "name": "stdout",
          "text": [
            "Test set accuracy = 0.4461538461538462\n",
            "Epoch 237 Iteration 0: Loss = 0.11564406007528305, Number of mined triplets = 3\n"
          ]
        },
        {
          "output_type": "stream",
          "name": "stderr",
          "text": [
            "100%|██████████| 3/3 [00:01<00:00,  2.04it/s]\n",
            "100%|██████████| 3/3 [00:00<00:00,  4.41it/s]\n"
          ]
        },
        {
          "output_type": "stream",
          "name": "stdout",
          "text": [
            "Test set accuracy = 0.5230769230769231\n",
            "Epoch 238 Iteration 0: Loss = 0.1292792558670044, Number of mined triplets = 7\n"
          ]
        },
        {
          "output_type": "stream",
          "name": "stderr",
          "text": [
            "100%|██████████| 3/3 [00:01<00:00,  1.95it/s]\n",
            "100%|██████████| 3/3 [00:01<00:00,  2.86it/s]\n"
          ]
        },
        {
          "output_type": "stream",
          "name": "stdout",
          "text": [
            "Test set accuracy = 0.5538461538461539\n",
            "Epoch 239 Iteration 0: Loss = 0.08608527481555939, Number of mined triplets = 8\n"
          ]
        },
        {
          "output_type": "stream",
          "name": "stderr",
          "text": [
            "100%|██████████| 3/3 [00:01<00:00,  2.06it/s]\n",
            "100%|██████████| 3/3 [00:00<00:00,  4.45it/s]\n"
          ]
        },
        {
          "output_type": "stream",
          "name": "stdout",
          "text": [
            "Test set accuracy = 0.47692307692307695\n",
            "Epoch 240 Iteration 0: Loss = 0.0629616379737854, Number of mined triplets = 12\n"
          ]
        },
        {
          "output_type": "stream",
          "name": "stderr",
          "text": [
            "100%|██████████| 3/3 [00:01<00:00,  1.98it/s]\n",
            "100%|██████████| 3/3 [00:00<00:00,  4.33it/s]\n"
          ]
        },
        {
          "output_type": "stream",
          "name": "stdout",
          "text": [
            "Test set accuracy = 0.46153846153846156\n",
            "Epoch 241 Iteration 0: Loss = 0.059786200523376465, Number of mined triplets = 2\n"
          ]
        },
        {
          "output_type": "stream",
          "name": "stderr",
          "text": [
            "100%|██████████| 3/3 [00:01<00:00,  2.05it/s]\n",
            "100%|██████████| 3/3 [00:01<00:00,  2.80it/s]\n"
          ]
        },
        {
          "output_type": "stream",
          "name": "stdout",
          "text": [
            "Test set accuracy = 0.5384615384615385\n",
            "Epoch 242 Iteration 0: Loss = 0.06314434111118317, Number of mined triplets = 3\n"
          ]
        },
        {
          "output_type": "stream",
          "name": "stderr",
          "text": [
            "100%|██████████| 3/3 [00:01<00:00,  2.07it/s]\n",
            "100%|██████████| 3/3 [00:00<00:00,  4.37it/s]\n"
          ]
        },
        {
          "output_type": "stream",
          "name": "stdout",
          "text": [
            "Test set accuracy = 0.5076923076923077\n",
            "Epoch 243 Iteration 0: Loss = 0.16693691909313202, Number of mined triplets = 1\n"
          ]
        },
        {
          "output_type": "stream",
          "name": "stderr",
          "text": [
            "100%|██████████| 3/3 [00:01<00:00,  2.08it/s]\n",
            "100%|██████████| 3/3 [00:00<00:00,  4.52it/s]\n"
          ]
        },
        {
          "output_type": "stream",
          "name": "stdout",
          "text": [
            "Test set accuracy = 0.5076923076923077\n",
            "Epoch 244 Iteration 0: Loss = 0.05983893945813179, Number of mined triplets = 5\n"
          ]
        },
        {
          "output_type": "stream",
          "name": "stderr",
          "text": [
            "100%|██████████| 3/3 [00:01<00:00,  2.09it/s]\n",
            "100%|██████████| 3/3 [00:00<00:00,  3.82it/s]\n"
          ]
        },
        {
          "output_type": "stream",
          "name": "stdout",
          "text": [
            "Test set accuracy = 0.4307692307692308\n",
            "Epoch 245 Iteration 0: Loss = 0.0, Number of mined triplets = 0\n"
          ]
        },
        {
          "output_type": "stream",
          "name": "stderr",
          "text": [
            "100%|██████████| 3/3 [00:01<00:00,  2.08it/s]\n",
            "100%|██████████| 3/3 [00:00<00:00,  4.53it/s]\n"
          ]
        },
        {
          "output_type": "stream",
          "name": "stdout",
          "text": [
            "Test set accuracy = 0.4461538461538462\n",
            "Epoch 246 Iteration 0: Loss = 0.07777877897024155, Number of mined triplets = 5\n"
          ]
        },
        {
          "output_type": "stream",
          "name": "stderr",
          "text": [
            "100%|██████████| 3/3 [00:01<00:00,  2.08it/s]\n",
            "100%|██████████| 3/3 [00:00<00:00,  4.43it/s]\n"
          ]
        },
        {
          "output_type": "stream",
          "name": "stdout",
          "text": [
            "Test set accuracy = 0.5230769230769231\n",
            "Epoch 247 Iteration 0: Loss = 0.1218513548374176, Number of mined triplets = 2\n"
          ]
        },
        {
          "output_type": "stream",
          "name": "stderr",
          "text": [
            "100%|██████████| 3/3 [00:01<00:00,  2.10it/s]\n",
            "100%|██████████| 3/3 [00:00<00:00,  4.00it/s]\n"
          ]
        },
        {
          "output_type": "stream",
          "name": "stdout",
          "text": [
            "Test set accuracy = 0.47692307692307695\n",
            "Epoch 248 Iteration 0: Loss = 0.0831509605050087, Number of mined triplets = 5\n"
          ]
        },
        {
          "output_type": "stream",
          "name": "stderr",
          "text": [
            "100%|██████████| 3/3 [00:01<00:00,  1.83it/s]\n",
            "100%|██████████| 3/3 [00:00<00:00,  4.45it/s]\n"
          ]
        },
        {
          "output_type": "stream",
          "name": "stdout",
          "text": [
            "Test set accuracy = 0.4461538461538462\n",
            "Epoch 249 Iteration 0: Loss = 0.0, Number of mined triplets = 0\n"
          ]
        },
        {
          "output_type": "stream",
          "name": "stderr",
          "text": [
            "100%|██████████| 3/3 [00:01<00:00,  2.04it/s]\n",
            "100%|██████████| 3/3 [00:00<00:00,  4.42it/s]\n"
          ]
        },
        {
          "output_type": "stream",
          "name": "stdout",
          "text": [
            "Test set accuracy = 0.4461538461538462\n",
            "Epoch 250 Iteration 0: Loss = 0.0, Number of mined triplets = 0\n"
          ]
        },
        {
          "output_type": "stream",
          "name": "stderr",
          "text": [
            "100%|██████████| 3/3 [00:01<00:00,  2.08it/s]\n",
            "100%|██████████| 3/3 [00:00<00:00,  4.33it/s]\n"
          ]
        },
        {
          "output_type": "stream",
          "name": "stdout",
          "text": [
            "Test set accuracy = 0.47692307692307695\n",
            "Epoch 251 Iteration 0: Loss = 0.07553718984127045, Number of mined triplets = 6\n"
          ]
        },
        {
          "output_type": "stream",
          "name": "stderr",
          "text": [
            "100%|██████████| 3/3 [00:01<00:00,  1.70it/s]\n",
            "100%|██████████| 3/3 [00:00<00:00,  4.20it/s]\n"
          ]
        },
        {
          "output_type": "stream",
          "name": "stdout",
          "text": [
            "Test set accuracy = 0.5230769230769231\n",
            "Epoch 252 Iteration 0: Loss = 0.0, Number of mined triplets = 0\n"
          ]
        },
        {
          "output_type": "stream",
          "name": "stderr",
          "text": [
            "100%|██████████| 3/3 [00:01<00:00,  2.09it/s]\n",
            "100%|██████████| 3/3 [00:00<00:00,  4.55it/s]\n"
          ]
        },
        {
          "output_type": "stream",
          "name": "stdout",
          "text": [
            "Test set accuracy = 0.4461538461538462\n",
            "Epoch 253 Iteration 0: Loss = 0.0, Number of mined triplets = 0\n"
          ]
        },
        {
          "output_type": "stream",
          "name": "stderr",
          "text": [
            "100%|██████████| 3/3 [00:01<00:00,  2.06it/s]\n",
            "100%|██████████| 3/3 [00:00<00:00,  4.44it/s]\n"
          ]
        },
        {
          "output_type": "stream",
          "name": "stdout",
          "text": [
            "Test set accuracy = 0.47692307692307695\n",
            "Epoch 254 Iteration 0: Loss = 0.0921383798122406, Number of mined triplets = 2\n"
          ]
        },
        {
          "output_type": "stream",
          "name": "stderr",
          "text": [
            "100%|██████████| 3/3 [00:02<00:00,  1.36it/s]\n",
            "100%|██████████| 3/3 [00:00<00:00,  4.22it/s]\n"
          ]
        },
        {
          "output_type": "stream",
          "name": "stdout",
          "text": [
            "Test set accuracy = 0.47692307692307695\n",
            "Epoch 255 Iteration 0: Loss = 0.0, Number of mined triplets = 0\n"
          ]
        },
        {
          "output_type": "stream",
          "name": "stderr",
          "text": [
            "100%|██████████| 3/3 [00:01<00:00,  2.11it/s]\n",
            "100%|██████████| 3/3 [00:00<00:00,  4.47it/s]\n"
          ]
        },
        {
          "output_type": "stream",
          "name": "stdout",
          "text": [
            "Test set accuracy = 0.47692307692307695\n",
            "Epoch 256 Iteration 0: Loss = 0.06690561771392822, Number of mined triplets = 4\n"
          ]
        },
        {
          "output_type": "stream",
          "name": "stderr",
          "text": [
            "100%|██████████| 3/3 [00:01<00:00,  2.05it/s]\n",
            "100%|██████████| 3/3 [00:00<00:00,  4.44it/s]\n"
          ]
        },
        {
          "output_type": "stream",
          "name": "stdout",
          "text": [
            "Test set accuracy = 0.5230769230769231\n",
            "Epoch 257 Iteration 0: Loss = 0.10719072818756104, Number of mined triplets = 2\n"
          ]
        },
        {
          "output_type": "stream",
          "name": "stderr",
          "text": [
            "100%|██████████| 3/3 [00:02<00:00,  1.32it/s]\n",
            "100%|██████████| 3/3 [00:00<00:00,  3.89it/s]\n"
          ]
        },
        {
          "output_type": "stream",
          "name": "stdout",
          "text": [
            "Test set accuracy = 0.46153846153846156\n",
            "Epoch 258 Iteration 0: Loss = 0.0, Number of mined triplets = 0\n"
          ]
        },
        {
          "output_type": "stream",
          "name": "stderr",
          "text": [
            "100%|██████████| 3/3 [00:01<00:00,  2.10it/s]\n",
            "100%|██████████| 3/3 [00:00<00:00,  4.34it/s]\n"
          ]
        },
        {
          "output_type": "stream",
          "name": "stdout",
          "text": [
            "Test set accuracy = 0.4461538461538462\n",
            "Epoch 259 Iteration 0: Loss = 0.0, Number of mined triplets = 0\n"
          ]
        },
        {
          "output_type": "stream",
          "name": "stderr",
          "text": [
            "100%|██████████| 3/3 [00:01<00:00,  2.11it/s]\n",
            "100%|██████████| 3/3 [00:00<00:00,  4.49it/s]\n"
          ]
        },
        {
          "output_type": "stream",
          "name": "stdout",
          "text": [
            "Test set accuracy = 0.4\n",
            "Epoch 260 Iteration 0: Loss = 0.0, Number of mined triplets = 0\n"
          ]
        },
        {
          "output_type": "stream",
          "name": "stderr",
          "text": [
            "100%|██████████| 3/3 [00:02<00:00,  1.41it/s]\n",
            "100%|██████████| 3/3 [00:01<00:00,  2.84it/s]\n"
          ]
        },
        {
          "output_type": "stream",
          "name": "stdout",
          "text": [
            "Test set accuracy = 0.4307692307692308\n",
            "Epoch 261 Iteration 0: Loss = 0.0, Number of mined triplets = 0\n"
          ]
        },
        {
          "output_type": "stream",
          "name": "stderr",
          "text": [
            "100%|██████████| 3/3 [00:01<00:00,  2.08it/s]\n",
            "100%|██████████| 3/3 [00:00<00:00,  4.55it/s]\n"
          ]
        },
        {
          "output_type": "stream",
          "name": "stdout",
          "text": [
            "Test set accuracy = 0.5230769230769231\n",
            "Epoch 262 Iteration 0: Loss = 0.07585646212100983, Number of mined triplets = 1\n"
          ]
        },
        {
          "output_type": "stream",
          "name": "stderr",
          "text": [
            "100%|██████████| 3/3 [00:01<00:00,  2.06it/s]\n",
            "100%|██████████| 3/3 [00:00<00:00,  4.41it/s]\n"
          ]
        },
        {
          "output_type": "stream",
          "name": "stdout",
          "text": [
            "Test set accuracy = 0.46153846153846156\n",
            "Epoch 263 Iteration 0: Loss = 0.05709055811166763, Number of mined triplets = 6\n"
          ]
        },
        {
          "output_type": "stream",
          "name": "stderr",
          "text": [
            "100%|██████████| 3/3 [00:01<00:00,  1.77it/s]\n",
            "100%|██████████| 3/3 [00:01<00:00,  2.93it/s]\n"
          ]
        },
        {
          "output_type": "stream",
          "name": "stdout",
          "text": [
            "Test set accuracy = 0.5076923076923077\n",
            "Epoch 264 Iteration 0: Loss = 0.07660678029060364, Number of mined triplets = 13\n"
          ]
        },
        {
          "output_type": "stream",
          "name": "stderr",
          "text": [
            "100%|██████████| 3/3 [00:01<00:00,  2.13it/s]\n",
            "100%|██████████| 3/3 [00:00<00:00,  4.30it/s]\n"
          ]
        },
        {
          "output_type": "stream",
          "name": "stdout",
          "text": [
            "Test set accuracy = 0.46153846153846156\n",
            "Epoch 265 Iteration 0: Loss = 0.04607921838760376, Number of mined triplets = 2\n"
          ]
        },
        {
          "output_type": "stream",
          "name": "stderr",
          "text": [
            "100%|██████████| 3/3 [00:01<00:00,  2.11it/s]\n",
            "100%|██████████| 3/3 [00:00<00:00,  4.31it/s]\n"
          ]
        },
        {
          "output_type": "stream",
          "name": "stdout",
          "text": [
            "Test set accuracy = 0.5076923076923077\n",
            "Epoch 266 Iteration 0: Loss = 0.07302501797676086, Number of mined triplets = 6\n"
          ]
        },
        {
          "output_type": "stream",
          "name": "stderr",
          "text": [
            "100%|██████████| 3/3 [00:01<00:00,  1.99it/s]\n",
            "100%|██████████| 3/3 [00:01<00:00,  2.79it/s]\n"
          ]
        },
        {
          "output_type": "stream",
          "name": "stdout",
          "text": [
            "Test set accuracy = 0.47692307692307695\n",
            "Epoch 267 Iteration 0: Loss = 0.07322347909212112, Number of mined triplets = 3\n"
          ]
        },
        {
          "output_type": "stream",
          "name": "stderr",
          "text": [
            "100%|██████████| 3/3 [00:01<00:00,  2.08it/s]\n",
            "100%|██████████| 3/3 [00:00<00:00,  4.42it/s]\n"
          ]
        },
        {
          "output_type": "stream",
          "name": "stdout",
          "text": [
            "Test set accuracy = 0.4307692307692308\n",
            "Epoch 268 Iteration 0: Loss = 0.07798916846513748, Number of mined triplets = 4\n"
          ]
        },
        {
          "output_type": "stream",
          "name": "stderr",
          "text": [
            "100%|██████████| 3/3 [00:01<00:00,  2.13it/s]\n",
            "100%|██████████| 3/3 [00:00<00:00,  4.31it/s]\n"
          ]
        },
        {
          "output_type": "stream",
          "name": "stdout",
          "text": [
            "Test set accuracy = 0.5076923076923077\n",
            "Epoch 269 Iteration 0: Loss = 0.051091715693473816, Number of mined triplets = 3\n"
          ]
        },
        {
          "output_type": "stream",
          "name": "stderr",
          "text": [
            "100%|██████████| 3/3 [00:01<00:00,  1.96it/s]\n",
            "100%|██████████| 3/3 [00:00<00:00,  3.45it/s]\n"
          ]
        },
        {
          "output_type": "stream",
          "name": "stdout",
          "text": [
            "Test set accuracy = 0.49230769230769234\n",
            "Epoch 270 Iteration 0: Loss = 0.07600976526737213, Number of mined triplets = 1\n"
          ]
        },
        {
          "output_type": "stream",
          "name": "stderr",
          "text": [
            "100%|██████████| 3/3 [00:01<00:00,  2.00it/s]\n",
            "100%|██████████| 3/3 [00:00<00:00,  4.42it/s]\n"
          ]
        },
        {
          "output_type": "stream",
          "name": "stdout",
          "text": [
            "Test set accuracy = 0.5230769230769231\n",
            "Epoch 271 Iteration 0: Loss = 0.05482610687613487, Number of mined triplets = 5\n"
          ]
        },
        {
          "output_type": "stream",
          "name": "stderr",
          "text": [
            "100%|██████████| 3/3 [00:01<00:00,  2.10it/s]\n",
            "100%|██████████| 3/3 [00:00<00:00,  4.34it/s]\n"
          ]
        },
        {
          "output_type": "stream",
          "name": "stdout",
          "text": [
            "Test set accuracy = 0.49230769230769234\n",
            "Epoch 272 Iteration 0: Loss = 0.10964466631412506, Number of mined triplets = 10\n"
          ]
        },
        {
          "output_type": "stream",
          "name": "stderr",
          "text": [
            "100%|██████████| 3/3 [00:01<00:00,  2.08it/s]\n",
            "100%|██████████| 3/3 [00:00<00:00,  4.25it/s]\n"
          ]
        },
        {
          "output_type": "stream",
          "name": "stdout",
          "text": [
            "Test set accuracy = 0.5230769230769231\n",
            "Epoch 273 Iteration 0: Loss = 0.0, Number of mined triplets = 0\n"
          ]
        },
        {
          "output_type": "stream",
          "name": "stderr",
          "text": [
            "100%|██████████| 3/3 [00:01<00:00,  1.93it/s]\n",
            "100%|██████████| 3/3 [00:00<00:00,  4.46it/s]\n"
          ]
        },
        {
          "output_type": "stream",
          "name": "stdout",
          "text": [
            "Test set accuracy = 0.4307692307692308\n",
            "Epoch 274 Iteration 0: Loss = 0.03350527584552765, Number of mined triplets = 2\n"
          ]
        },
        {
          "output_type": "stream",
          "name": "stderr",
          "text": [
            "100%|██████████| 3/3 [00:01<00:00,  2.10it/s]\n",
            "100%|██████████| 3/3 [00:00<00:00,  4.34it/s]\n"
          ]
        },
        {
          "output_type": "stream",
          "name": "stdout",
          "text": [
            "Test set accuracy = 0.5384615384615385\n",
            "Epoch 275 Iteration 0: Loss = 0.0, Number of mined triplets = 0\n"
          ]
        },
        {
          "output_type": "stream",
          "name": "stderr",
          "text": [
            "100%|██████████| 3/3 [00:01<00:00,  2.06it/s]\n",
            "100%|██████████| 3/3 [00:00<00:00,  4.30it/s]\n"
          ]
        },
        {
          "output_type": "stream",
          "name": "stdout",
          "text": [
            "Test set accuracy = 0.5538461538461539\n",
            "Epoch 276 Iteration 0: Loss = 0.0, Number of mined triplets = 0\n"
          ]
        },
        {
          "output_type": "stream",
          "name": "stderr",
          "text": [
            "100%|██████████| 3/3 [00:02<00:00,  1.49it/s]\n",
            "100%|██████████| 3/3 [00:00<00:00,  4.39it/s]\n"
          ]
        },
        {
          "output_type": "stream",
          "name": "stdout",
          "text": [
            "Test set accuracy = 0.47692307692307695\n",
            "Epoch 277 Iteration 0: Loss = 0.0, Number of mined triplets = 0\n"
          ]
        },
        {
          "output_type": "stream",
          "name": "stderr",
          "text": [
            "100%|██████████| 3/3 [00:01<00:00,  2.08it/s]\n",
            "100%|██████████| 3/3 [00:00<00:00,  4.36it/s]\n"
          ]
        },
        {
          "output_type": "stream",
          "name": "stdout",
          "text": [
            "Test set accuracy = 0.47692307692307695\n",
            "Epoch 278 Iteration 0: Loss = 0.0, Number of mined triplets = 0\n"
          ]
        },
        {
          "output_type": "stream",
          "name": "stderr",
          "text": [
            "100%|██████████| 3/3 [00:01<00:00,  2.09it/s]\n",
            "100%|██████████| 3/3 [00:00<00:00,  4.38it/s]\n"
          ]
        },
        {
          "output_type": "stream",
          "name": "stdout",
          "text": [
            "Test set accuracy = 0.46153846153846156\n",
            "Epoch 279 Iteration 0: Loss = 0.07370073348283768, Number of mined triplets = 4\n"
          ]
        },
        {
          "output_type": "stream",
          "name": "stderr",
          "text": [
            "100%|██████████| 3/3 [00:02<00:00,  1.34it/s]\n",
            "100%|██████████| 3/3 [00:00<00:00,  3.81it/s]\n"
          ]
        },
        {
          "output_type": "stream",
          "name": "stdout",
          "text": [
            "Test set accuracy = 0.5076923076923077\n",
            "Epoch 280 Iteration 0: Loss = 0.11035221815109253, Number of mined triplets = 2\n"
          ]
        },
        {
          "output_type": "stream",
          "name": "stderr",
          "text": [
            "100%|██████████| 3/3 [00:01<00:00,  2.09it/s]\n",
            "100%|██████████| 3/3 [00:00<00:00,  4.40it/s]\n"
          ]
        },
        {
          "output_type": "stream",
          "name": "stdout",
          "text": [
            "Test set accuracy = 0.4461538461538462\n",
            "Epoch 281 Iteration 0: Loss = 0.0054668039083480835, Number of mined triplets = 1\n"
          ]
        },
        {
          "output_type": "stream",
          "name": "stderr",
          "text": [
            "100%|██████████| 3/3 [00:01<00:00,  2.08it/s]\n",
            "100%|██████████| 3/3 [00:00<00:00,  4.39it/s]\n"
          ]
        },
        {
          "output_type": "stream",
          "name": "stdout",
          "text": [
            "Test set accuracy = 0.4461538461538462\n",
            "Epoch 282 Iteration 0: Loss = 0.11045487225055695, Number of mined triplets = 1\n"
          ]
        },
        {
          "output_type": "stream",
          "name": "stderr",
          "text": [
            "100%|██████████| 3/3 [00:02<00:00,  1.48it/s]\n",
            "100%|██████████| 3/3 [00:01<00:00,  2.61it/s]\n"
          ]
        },
        {
          "output_type": "stream",
          "name": "stdout",
          "text": [
            "Test set accuracy = 0.5076923076923077\n",
            "Epoch 283 Iteration 0: Loss = 0.0, Number of mined triplets = 0\n"
          ]
        },
        {
          "output_type": "stream",
          "name": "stderr",
          "text": [
            "100%|██████████| 3/3 [00:01<00:00,  2.13it/s]\n",
            "100%|██████████| 3/3 [00:00<00:00,  4.01it/s]\n"
          ]
        },
        {
          "output_type": "stream",
          "name": "stdout",
          "text": [
            "Test set accuracy = 0.47692307692307695\n",
            "Epoch 284 Iteration 0: Loss = 0.0, Number of mined triplets = 0\n"
          ]
        },
        {
          "output_type": "stream",
          "name": "stderr",
          "text": [
            "100%|██████████| 3/3 [00:01<00:00,  2.09it/s]\n",
            "100%|██████████| 3/3 [00:00<00:00,  4.36it/s]\n"
          ]
        },
        {
          "output_type": "stream",
          "name": "stdout",
          "text": [
            "Test set accuracy = 0.47692307692307695\n",
            "Epoch 285 Iteration 0: Loss = 0.0, Number of mined triplets = 0\n"
          ]
        },
        {
          "output_type": "stream",
          "name": "stderr",
          "text": [
            "100%|██████████| 3/3 [00:01<00:00,  1.74it/s]\n",
            "100%|██████████| 3/3 [00:00<00:00,  3.05it/s]\n"
          ]
        },
        {
          "output_type": "stream",
          "name": "stdout",
          "text": [
            "Test set accuracy = 0.5384615384615385\n",
            "Epoch 286 Iteration 0: Loss = 0.07759071886539459, Number of mined triplets = 5\n"
          ]
        },
        {
          "output_type": "stream",
          "name": "stderr",
          "text": [
            "100%|██████████| 3/3 [00:01<00:00,  2.09it/s]\n",
            "100%|██████████| 3/3 [00:00<00:00,  4.45it/s]\n"
          ]
        },
        {
          "output_type": "stream",
          "name": "stdout",
          "text": [
            "Test set accuracy = 0.5076923076923077\n",
            "Epoch 287 Iteration 0: Loss = 0.040271565318107605, Number of mined triplets = 1\n"
          ]
        },
        {
          "output_type": "stream",
          "name": "stderr",
          "text": [
            "100%|██████████| 3/3 [00:01<00:00,  2.11it/s]\n",
            "100%|██████████| 3/3 [00:00<00:00,  4.45it/s]\n"
          ]
        },
        {
          "output_type": "stream",
          "name": "stdout",
          "text": [
            "Test set accuracy = 0.5076923076923077\n",
            "Epoch 288 Iteration 0: Loss = 0.08265317231416702, Number of mined triplets = 9\n"
          ]
        },
        {
          "output_type": "stream",
          "name": "stderr",
          "text": [
            "100%|██████████| 3/3 [00:01<00:00,  2.05it/s]\n",
            "100%|██████████| 3/3 [00:00<00:00,  3.10it/s]\n"
          ]
        },
        {
          "output_type": "stream",
          "name": "stdout",
          "text": [
            "Test set accuracy = 0.47692307692307695\n",
            "Epoch 289 Iteration 0: Loss = 0.0, Number of mined triplets = 0\n"
          ]
        },
        {
          "output_type": "stream",
          "name": "stderr",
          "text": [
            "100%|██████████| 3/3 [00:01<00:00,  2.14it/s]\n",
            "100%|██████████| 3/3 [00:00<00:00,  4.50it/s]\n"
          ]
        },
        {
          "output_type": "stream",
          "name": "stdout",
          "text": [
            "Test set accuracy = 0.47692307692307695\n",
            "Epoch 290 Iteration 0: Loss = 0.04789859429001808, Number of mined triplets = 7\n"
          ]
        },
        {
          "output_type": "stream",
          "name": "stderr",
          "text": [
            "100%|██████████| 3/3 [00:01<00:00,  2.14it/s]\n",
            "100%|██████████| 3/3 [00:00<00:00,  4.32it/s]\n"
          ]
        },
        {
          "output_type": "stream",
          "name": "stdout",
          "text": [
            "Test set accuracy = 0.49230769230769234\n",
            "Epoch 291 Iteration 0: Loss = 0.0839596539735794, Number of mined triplets = 2\n"
          ]
        },
        {
          "output_type": "stream",
          "name": "stderr",
          "text": [
            "100%|██████████| 3/3 [00:01<00:00,  2.12it/s]\n",
            "100%|██████████| 3/3 [00:00<00:00,  4.11it/s]\n"
          ]
        },
        {
          "output_type": "stream",
          "name": "stdout",
          "text": [
            "Test set accuracy = 0.5076923076923077\n",
            "Epoch 292 Iteration 0: Loss = 0.09747594594955444, Number of mined triplets = 4\n"
          ]
        },
        {
          "output_type": "stream",
          "name": "stderr",
          "text": [
            "100%|██████████| 3/3 [00:01<00:00,  1.98it/s]\n",
            "100%|██████████| 3/3 [00:00<00:00,  4.42it/s]\n"
          ]
        },
        {
          "output_type": "stream",
          "name": "stdout",
          "text": [
            "Test set accuracy = 0.5076923076923077\n",
            "Epoch 293 Iteration 0: Loss = 0.0, Number of mined triplets = 0\n"
          ]
        },
        {
          "output_type": "stream",
          "name": "stderr",
          "text": [
            "100%|██████████| 3/3 [00:01<00:00,  2.13it/s]\n",
            "100%|██████████| 3/3 [00:00<00:00,  4.29it/s]\n"
          ]
        },
        {
          "output_type": "stream",
          "name": "stdout",
          "text": [
            "Test set accuracy = 0.49230769230769234\n",
            "Epoch 294 Iteration 0: Loss = 0.08741521835327148, Number of mined triplets = 4\n"
          ]
        },
        {
          "output_type": "stream",
          "name": "stderr",
          "text": [
            "100%|██████████| 3/3 [00:01<00:00,  2.10it/s]\n",
            "100%|██████████| 3/3 [00:00<00:00,  4.38it/s]\n"
          ]
        },
        {
          "output_type": "stream",
          "name": "stdout",
          "text": [
            "Test set accuracy = 0.5538461538461539\n",
            "Epoch 295 Iteration 0: Loss = 0.1304326206445694, Number of mined triplets = 1\n"
          ]
        },
        {
          "output_type": "stream",
          "name": "stderr",
          "text": [
            "100%|██████████| 3/3 [00:02<00:00,  1.29it/s]\n",
            "100%|██████████| 3/3 [00:00<00:00,  4.41it/s]\n"
          ]
        },
        {
          "output_type": "stream",
          "name": "stdout",
          "text": [
            "Test set accuracy = 0.5076923076923077\n",
            "Epoch 296 Iteration 0: Loss = 0.0, Number of mined triplets = 0\n"
          ]
        },
        {
          "output_type": "stream",
          "name": "stderr",
          "text": [
            "100%|██████████| 3/3 [00:01<00:00,  2.10it/s]\n",
            "100%|██████████| 3/3 [00:00<00:00,  4.46it/s]\n"
          ]
        },
        {
          "output_type": "stream",
          "name": "stdout",
          "text": [
            "Test set accuracy = 0.46153846153846156\n",
            "Epoch 297 Iteration 0: Loss = 0.0209113210439682, Number of mined triplets = 1\n"
          ]
        },
        {
          "output_type": "stream",
          "name": "stderr",
          "text": [
            "100%|██████████| 3/3 [00:01<00:00,  2.13it/s]\n",
            "100%|██████████| 3/3 [00:00<00:00,  4.29it/s]\n"
          ]
        },
        {
          "output_type": "stream",
          "name": "stdout",
          "text": [
            "Test set accuracy = 0.5230769230769231\n",
            "Epoch 298 Iteration 0: Loss = 0.036122918128967285, Number of mined triplets = 2\n"
          ]
        },
        {
          "output_type": "stream",
          "name": "stderr",
          "text": [
            "100%|██████████| 3/3 [00:02<00:00,  1.33it/s]\n",
            "100%|██████████| 3/3 [00:00<00:00,  3.49it/s]\n"
          ]
        },
        {
          "output_type": "stream",
          "name": "stdout",
          "text": [
            "Test set accuracy = 0.47692307692307695\n",
            "Epoch 299 Iteration 0: Loss = 0.08435307443141937, Number of mined triplets = 1\n"
          ]
        },
        {
          "output_type": "stream",
          "name": "stderr",
          "text": [
            "100%|██████████| 3/3 [00:01<00:00,  2.07it/s]\n",
            "100%|██████████| 3/3 [00:00<00:00,  4.38it/s]\n"
          ]
        },
        {
          "output_type": "stream",
          "name": "stdout",
          "text": [
            "Test set accuracy = 0.47692307692307695\n",
            "Epoch 300 Iteration 0: Loss = 0.08390837162733078, Number of mined triplets = 5\n"
          ]
        },
        {
          "output_type": "stream",
          "name": "stderr",
          "text": [
            "100%|██████████| 3/3 [00:01<00:00,  2.09it/s]\n",
            "100%|██████████| 3/3 [00:00<00:00,  4.31it/s]\n"
          ]
        },
        {
          "output_type": "stream",
          "name": "stdout",
          "text": [
            "Test set accuracy = 0.5384615384615385\n",
            "Epoch 301 Iteration 0: Loss = 0.0, Number of mined triplets = 0\n"
          ]
        },
        {
          "output_type": "stream",
          "name": "stderr",
          "text": [
            "100%|██████████| 3/3 [00:02<00:00,  1.49it/s]\n",
            "100%|██████████| 3/3 [00:01<00:00,  2.90it/s]\n"
          ]
        },
        {
          "output_type": "stream",
          "name": "stdout",
          "text": [
            "Test set accuracy = 0.47692307692307695\n",
            "Epoch 302 Iteration 0: Loss = 0.09834660589694977, Number of mined triplets = 22\n"
          ]
        },
        {
          "output_type": "stream",
          "name": "stderr",
          "text": [
            "100%|██████████| 3/3 [00:01<00:00,  2.10it/s]\n",
            "100%|██████████| 3/3 [00:00<00:00,  4.32it/s]\n"
          ]
        },
        {
          "output_type": "stream",
          "name": "stdout",
          "text": [
            "Test set accuracy = 0.5076923076923077\n",
            "Epoch 303 Iteration 0: Loss = 0.0525621622800827, Number of mined triplets = 2\n"
          ]
        },
        {
          "output_type": "stream",
          "name": "stderr",
          "text": [
            "100%|██████████| 3/3 [00:01<00:00,  2.10it/s]\n",
            "100%|██████████| 3/3 [00:00<00:00,  4.26it/s]\n"
          ]
        },
        {
          "output_type": "stream",
          "name": "stdout",
          "text": [
            "Test set accuracy = 0.5076923076923077\n",
            "Epoch 304 Iteration 0: Loss = 0.10255959630012512, Number of mined triplets = 2\n"
          ]
        },
        {
          "output_type": "stream",
          "name": "stderr",
          "text": [
            "100%|██████████| 3/3 [00:01<00:00,  1.77it/s]\n",
            "100%|██████████| 3/3 [00:01<00:00,  2.79it/s]\n"
          ]
        },
        {
          "output_type": "stream",
          "name": "stdout",
          "text": [
            "Test set accuracy = 0.46153846153846156\n",
            "Epoch 305 Iteration 0: Loss = 0.0, Number of mined triplets = 0\n"
          ]
        },
        {
          "output_type": "stream",
          "name": "stderr",
          "text": [
            "100%|██████████| 3/3 [00:01<00:00,  2.09it/s]\n",
            "100%|██████████| 3/3 [00:00<00:00,  3.95it/s]\n"
          ]
        },
        {
          "output_type": "stream",
          "name": "stdout",
          "text": [
            "Test set accuracy = 0.5230769230769231\n",
            "Epoch 306 Iteration 0: Loss = 0.06780457496643066, Number of mined triplets = 5\n"
          ]
        },
        {
          "output_type": "stream",
          "name": "stderr",
          "text": [
            "100%|██████████| 3/3 [00:01<00:00,  2.12it/s]\n",
            "100%|██████████| 3/3 [00:00<00:00,  4.36it/s]\n"
          ]
        },
        {
          "output_type": "stream",
          "name": "stdout",
          "text": [
            "Test set accuracy = 0.5076923076923077\n",
            "Epoch 307 Iteration 0: Loss = 0.0, Number of mined triplets = 0\n"
          ]
        },
        {
          "output_type": "stream",
          "name": "stderr",
          "text": [
            "100%|██████████| 3/3 [00:01<00:00,  1.92it/s]\n",
            "100%|██████████| 3/3 [00:01<00:00,  2.71it/s]\n"
          ]
        },
        {
          "output_type": "stream",
          "name": "stdout",
          "text": [
            "Test set accuracy = 0.4461538461538462\n",
            "Epoch 308 Iteration 0: Loss = 0.03606245666742325, Number of mined triplets = 3\n"
          ]
        },
        {
          "output_type": "stream",
          "name": "stderr",
          "text": [
            "100%|██████████| 3/3 [00:01<00:00,  2.12it/s]\n",
            "100%|██████████| 3/3 [00:00<00:00,  3.20it/s]\n"
          ]
        },
        {
          "output_type": "stream",
          "name": "stdout",
          "text": [
            "Test set accuracy = 0.46153846153846156\n",
            "Epoch 309 Iteration 0: Loss = 0.06021551042795181, Number of mined triplets = 3\n"
          ]
        },
        {
          "output_type": "stream",
          "name": "stderr",
          "text": [
            "100%|██████████| 3/3 [00:01<00:00,  2.09it/s]\n",
            "100%|██████████| 3/3 [00:00<00:00,  4.26it/s]\n"
          ]
        },
        {
          "output_type": "stream",
          "name": "stdout",
          "text": [
            "Test set accuracy = 0.5076923076923077\n",
            "Epoch 310 Iteration 0: Loss = 0.12527357041835785, Number of mined triplets = 4\n"
          ]
        },
        {
          "output_type": "stream",
          "name": "stderr",
          "text": [
            "100%|██████████| 3/3 [00:01<00:00,  1.84it/s]\n",
            "100%|██████████| 3/3 [00:01<00:00,  2.87it/s]\n"
          ]
        },
        {
          "output_type": "stream",
          "name": "stdout",
          "text": [
            "Test set accuracy = 0.4461538461538462\n",
            "Epoch 311 Iteration 0: Loss = 0.042302776128053665, Number of mined triplets = 8\n"
          ]
        },
        {
          "output_type": "stream",
          "name": "stderr",
          "text": [
            "100%|██████████| 3/3 [00:01<00:00,  2.09it/s]\n",
            "100%|██████████| 3/3 [00:00<00:00,  4.24it/s]\n"
          ]
        },
        {
          "output_type": "stream",
          "name": "stdout",
          "text": [
            "Test set accuracy = 0.47692307692307695\n",
            "Epoch 312 Iteration 0: Loss = 0.01879739761352539, Number of mined triplets = 2\n"
          ]
        },
        {
          "output_type": "stream",
          "name": "stderr",
          "text": [
            "100%|██████████| 3/3 [00:01<00:00,  2.10it/s]\n",
            "100%|██████████| 3/3 [00:00<00:00,  4.43it/s]\n"
          ]
        },
        {
          "output_type": "stream",
          "name": "stdout",
          "text": [
            "Test set accuracy = 0.49230769230769234\n",
            "Epoch 313 Iteration 0: Loss = 0.0, Number of mined triplets = 0\n"
          ]
        },
        {
          "output_type": "stream",
          "name": "stderr",
          "text": [
            "100%|██████████| 3/3 [00:01<00:00,  2.11it/s]\n",
            "100%|██████████| 3/3 [00:00<00:00,  3.20it/s]\n"
          ]
        },
        {
          "output_type": "stream",
          "name": "stdout",
          "text": [
            "Test set accuracy = 0.5692307692307692\n",
            "Epoch 314 Iteration 0: Loss = 0.0, Number of mined triplets = 0\n"
          ]
        },
        {
          "output_type": "stream",
          "name": "stderr",
          "text": [
            "100%|██████████| 3/3 [00:01<00:00,  2.10it/s]\n",
            "100%|██████████| 3/3 [00:00<00:00,  4.42it/s]\n"
          ]
        },
        {
          "output_type": "stream",
          "name": "stdout",
          "text": [
            "Test set accuracy = 0.49230769230769234\n",
            "Epoch 315 Iteration 0: Loss = 0.0, Number of mined triplets = 0\n"
          ]
        },
        {
          "output_type": "stream",
          "name": "stderr",
          "text": [
            "100%|██████████| 3/3 [00:01<00:00,  2.08it/s]\n",
            "100%|██████████| 3/3 [00:00<00:00,  4.34it/s]\n"
          ]
        },
        {
          "output_type": "stream",
          "name": "stdout",
          "text": [
            "Test set accuracy = 0.5538461538461539\n",
            "Epoch 316 Iteration 0: Loss = 0.08379833400249481, Number of mined triplets = 3\n"
          ]
        },
        {
          "output_type": "stream",
          "name": "stderr",
          "text": [
            "100%|██████████| 3/3 [00:01<00:00,  2.08it/s]\n",
            "100%|██████████| 3/3 [00:00<00:00,  4.03it/s]\n"
          ]
        },
        {
          "output_type": "stream",
          "name": "stdout",
          "text": [
            "Test set accuracy = 0.5230769230769231\n",
            "Epoch 317 Iteration 0: Loss = 0.060356006026268005, Number of mined triplets = 1\n"
          ]
        },
        {
          "output_type": "stream",
          "name": "stderr",
          "text": [
            "100%|██████████| 3/3 [00:01<00:00,  2.04it/s]\n",
            "100%|██████████| 3/3 [00:00<00:00,  4.39it/s]\n"
          ]
        },
        {
          "output_type": "stream",
          "name": "stdout",
          "text": [
            "Test set accuracy = 0.5230769230769231\n",
            "Epoch 318 Iteration 0: Loss = 0.025960072875022888, Number of mined triplets = 1\n"
          ]
        },
        {
          "output_type": "stream",
          "name": "stderr",
          "text": [
            "100%|██████████| 3/3 [00:01<00:00,  2.06it/s]\n",
            "100%|██████████| 3/3 [00:00<00:00,  4.26it/s]\n"
          ]
        },
        {
          "output_type": "stream",
          "name": "stdout",
          "text": [
            "Test set accuracy = 0.5384615384615385\n",
            "Epoch 319 Iteration 0: Loss = 0.0, Number of mined triplets = 0\n"
          ]
        },
        {
          "output_type": "stream",
          "name": "stderr",
          "text": [
            "100%|██████████| 3/3 [00:01<00:00,  2.11it/s]\n",
            "100%|██████████| 3/3 [00:00<00:00,  4.24it/s]\n"
          ]
        },
        {
          "output_type": "stream",
          "name": "stdout",
          "text": [
            "Test set accuracy = 0.46153846153846156\n",
            "Epoch 320 Iteration 0: Loss = 0.06531070172786713, Number of mined triplets = 1\n"
          ]
        },
        {
          "output_type": "stream",
          "name": "stderr",
          "text": [
            "100%|██████████| 3/3 [00:01<00:00,  1.73it/s]\n",
            "100%|██████████| 3/3 [00:00<00:00,  4.36it/s]\n"
          ]
        },
        {
          "output_type": "stream",
          "name": "stdout",
          "text": [
            "Test set accuracy = 0.5076923076923077\n",
            "Epoch 321 Iteration 0: Loss = 0.02438831329345703, Number of mined triplets = 2\n"
          ]
        },
        {
          "output_type": "stream",
          "name": "stderr",
          "text": [
            "100%|██████████| 3/3 [00:01<00:00,  2.10it/s]\n",
            "100%|██████████| 3/3 [00:00<00:00,  4.30it/s]\n"
          ]
        },
        {
          "output_type": "stream",
          "name": "stdout",
          "text": [
            "Test set accuracy = 0.5384615384615385\n",
            "Epoch 322 Iteration 0: Loss = 0.08765675872564316, Number of mined triplets = 7\n"
          ]
        },
        {
          "output_type": "stream",
          "name": "stderr",
          "text": [
            "100%|██████████| 3/3 [00:01<00:00,  2.09it/s]\n",
            "100%|██████████| 3/3 [00:00<00:00,  4.33it/s]\n"
          ]
        },
        {
          "output_type": "stream",
          "name": "stdout",
          "text": [
            "Test set accuracy = 0.46153846153846156\n",
            "Epoch 323 Iteration 0: Loss = 0.0, Number of mined triplets = 0\n"
          ]
        },
        {
          "output_type": "stream",
          "name": "stderr",
          "text": [
            "100%|██████████| 3/3 [00:02<00:00,  1.32it/s]\n",
            "100%|██████████| 3/3 [00:00<00:00,  3.71it/s]\n"
          ]
        },
        {
          "output_type": "stream",
          "name": "stdout",
          "text": [
            "Test set accuracy = 0.46153846153846156\n",
            "Epoch 324 Iteration 0: Loss = 0.0, Number of mined triplets = 0\n"
          ]
        },
        {
          "output_type": "stream",
          "name": "stderr",
          "text": [
            "100%|██████████| 3/3 [00:01<00:00,  2.13it/s]\n",
            "100%|██████████| 3/3 [00:00<00:00,  4.34it/s]\n"
          ]
        },
        {
          "output_type": "stream",
          "name": "stdout",
          "text": [
            "Test set accuracy = 0.47692307692307695\n",
            "Epoch 325 Iteration 0: Loss = 0.07049034535884857, Number of mined triplets = 3\n"
          ]
        },
        {
          "output_type": "stream",
          "name": "stderr",
          "text": [
            "100%|██████████| 3/3 [00:01<00:00,  2.10it/s]\n",
            "100%|██████████| 3/3 [00:00<00:00,  4.32it/s]\n"
          ]
        },
        {
          "output_type": "stream",
          "name": "stdout",
          "text": [
            "Test set accuracy = 0.4461538461538462\n",
            "Epoch 326 Iteration 0: Loss = 0.0, Number of mined triplets = 0\n"
          ]
        },
        {
          "output_type": "stream",
          "name": "stderr",
          "text": [
            "100%|██████████| 3/3 [00:02<00:00,  1.44it/s]\n",
            "100%|██████████| 3/3 [00:01<00:00,  2.64it/s]\n"
          ]
        },
        {
          "output_type": "stream",
          "name": "stdout",
          "text": [
            "Test set accuracy = 0.47692307692307695\n",
            "Epoch 327 Iteration 0: Loss = 0.07397451251745224, Number of mined triplets = 6\n"
          ]
        },
        {
          "output_type": "stream",
          "name": "stderr",
          "text": [
            "100%|██████████| 3/3 [00:01<00:00,  2.01it/s]\n",
            "100%|██████████| 3/3 [00:00<00:00,  4.33it/s]\n"
          ]
        },
        {
          "output_type": "stream",
          "name": "stdout",
          "text": [
            "Test set accuracy = 0.4307692307692308\n",
            "Epoch 328 Iteration 0: Loss = 0.0, Number of mined triplets = 0\n"
          ]
        },
        {
          "output_type": "stream",
          "name": "stderr",
          "text": [
            "100%|██████████| 3/3 [00:01<00:00,  2.12it/s]\n",
            "100%|██████████| 3/3 [00:00<00:00,  4.43it/s]\n"
          ]
        },
        {
          "output_type": "stream",
          "name": "stdout",
          "text": [
            "Test set accuracy = 0.46153846153846156\n",
            "Epoch 329 Iteration 0: Loss = 0.0, Number of mined triplets = 0\n"
          ]
        },
        {
          "output_type": "stream",
          "name": "stderr",
          "text": [
            "100%|██████████| 3/3 [00:01<00:00,  1.78it/s]\n",
            "100%|██████████| 3/3 [00:01<00:00,  2.94it/s]\n"
          ]
        },
        {
          "output_type": "stream",
          "name": "stdout",
          "text": [
            "Test set accuracy = 0.49230769230769234\n",
            "Epoch 330 Iteration 0: Loss = 0.07589197158813477, Number of mined triplets = 5\n"
          ]
        },
        {
          "output_type": "stream",
          "name": "stderr",
          "text": [
            "100%|██████████| 3/3 [00:01<00:00,  2.08it/s]\n",
            "100%|██████████| 3/3 [00:00<00:00,  4.37it/s]\n"
          ]
        },
        {
          "output_type": "stream",
          "name": "stdout",
          "text": [
            "Test set accuracy = 0.5538461538461539\n",
            "Epoch 331 Iteration 0: Loss = 0.1104268804192543, Number of mined triplets = 5\n"
          ]
        },
        {
          "output_type": "stream",
          "name": "stderr",
          "text": [
            "100%|██████████| 3/3 [00:01<00:00,  2.08it/s]\n",
            "100%|██████████| 3/3 [00:00<00:00,  4.37it/s]\n"
          ]
        },
        {
          "output_type": "stream",
          "name": "stdout",
          "text": [
            "Test set accuracy = 0.5384615384615385\n",
            "Epoch 332 Iteration 0: Loss = 0.04480583965778351, Number of mined triplets = 3\n"
          ]
        },
        {
          "output_type": "stream",
          "name": "stderr",
          "text": [
            "100%|██████████| 3/3 [00:01<00:00,  1.94it/s]\n",
            "100%|██████████| 3/3 [00:01<00:00,  2.62it/s]\n"
          ]
        },
        {
          "output_type": "stream",
          "name": "stdout",
          "text": [
            "Test set accuracy = 0.5384615384615385\n",
            "Epoch 333 Iteration 0: Loss = 0.08824073523283005, Number of mined triplets = 5\n"
          ]
        },
        {
          "output_type": "stream",
          "name": "stderr",
          "text": [
            "100%|██████████| 3/3 [00:01<00:00,  2.14it/s]\n",
            "100%|██████████| 3/3 [00:00<00:00,  4.32it/s]\n"
          ]
        },
        {
          "output_type": "stream",
          "name": "stdout",
          "text": [
            "Test set accuracy = 0.47692307692307695\n",
            "Epoch 334 Iteration 0: Loss = 0.0, Number of mined triplets = 0\n"
          ]
        },
        {
          "output_type": "stream",
          "name": "stderr",
          "text": [
            "100%|██████████| 3/3 [00:01<00:00,  2.10it/s]\n",
            "100%|██████████| 3/3 [00:00<00:00,  4.45it/s]\n"
          ]
        },
        {
          "output_type": "stream",
          "name": "stdout",
          "text": [
            "Test set accuracy = 0.5538461538461539\n",
            "Epoch 335 Iteration 0: Loss = 0.0, Number of mined triplets = 0\n"
          ]
        },
        {
          "output_type": "stream",
          "name": "stderr",
          "text": [
            "100%|██████████| 3/3 [00:01<00:00,  2.13it/s]\n",
            "100%|██████████| 3/3 [00:00<00:00,  3.33it/s]\n"
          ]
        },
        {
          "output_type": "stream",
          "name": "stdout",
          "text": [
            "Test set accuracy = 0.5230769230769231\n",
            "Epoch 336 Iteration 0: Loss = 0.08656632155179977, Number of mined triplets = 5\n"
          ]
        },
        {
          "output_type": "stream",
          "name": "stderr",
          "text": [
            "100%|██████████| 3/3 [00:01<00:00,  2.09it/s]\n",
            "100%|██████████| 3/3 [00:00<00:00,  4.35it/s]\n"
          ]
        },
        {
          "output_type": "stream",
          "name": "stdout",
          "text": [
            "Test set accuracy = 0.5538461538461539\n",
            "Epoch 337 Iteration 0: Loss = 0.0, Number of mined triplets = 0\n"
          ]
        },
        {
          "output_type": "stream",
          "name": "stderr",
          "text": [
            "100%|██████████| 3/3 [00:01<00:00,  2.09it/s]\n",
            "100%|██████████| 3/3 [00:00<00:00,  4.48it/s]\n"
          ]
        },
        {
          "output_type": "stream",
          "name": "stdout",
          "text": [
            "Test set accuracy = 0.5538461538461539\n",
            "Epoch 338 Iteration 0: Loss = 0.0, Number of mined triplets = 0\n"
          ]
        },
        {
          "output_type": "stream",
          "name": "stderr",
          "text": [
            "100%|██████████| 3/3 [00:01<00:00,  2.10it/s]\n",
            "100%|██████████| 3/3 [00:00<00:00,  4.18it/s]\n"
          ]
        },
        {
          "output_type": "stream",
          "name": "stdout",
          "text": [
            "Test set accuracy = 0.5230769230769231\n",
            "Epoch 339 Iteration 0: Loss = 0.12028396129608154, Number of mined triplets = 10\n"
          ]
        },
        {
          "output_type": "stream",
          "name": "stderr",
          "text": [
            "100%|██████████| 3/3 [00:01<00:00,  2.10it/s]\n",
            "100%|██████████| 3/3 [00:00<00:00,  4.40it/s]\n"
          ]
        },
        {
          "output_type": "stream",
          "name": "stdout",
          "text": [
            "Test set accuracy = 0.49230769230769234\n",
            "Epoch 340 Iteration 0: Loss = 0.0, Number of mined triplets = 0\n"
          ]
        },
        {
          "output_type": "stream",
          "name": "stderr",
          "text": [
            "100%|██████████| 3/3 [00:01<00:00,  2.08it/s]\n",
            "100%|██████████| 3/3 [00:00<00:00,  4.42it/s]\n"
          ]
        },
        {
          "output_type": "stream",
          "name": "stdout",
          "text": [
            "Test set accuracy = 0.5076923076923077\n",
            "Epoch 341 Iteration 0: Loss = 0.0, Number of mined triplets = 0\n"
          ]
        },
        {
          "output_type": "stream",
          "name": "stderr",
          "text": [
            "100%|██████████| 3/3 [00:01<00:00,  2.12it/s]\n",
            "100%|██████████| 3/3 [00:00<00:00,  4.39it/s]\n"
          ]
        },
        {
          "output_type": "stream",
          "name": "stdout",
          "text": [
            "Test set accuracy = 0.5076923076923077\n",
            "Epoch 342 Iteration 0: Loss = 0.032210007309913635, Number of mined triplets = 2\n"
          ]
        },
        {
          "output_type": "stream",
          "name": "stderr",
          "text": [
            "100%|██████████| 3/3 [00:01<00:00,  1.73it/s]\n",
            "100%|██████████| 3/3 [00:00<00:00,  4.38it/s]\n"
          ]
        },
        {
          "output_type": "stream",
          "name": "stdout",
          "text": [
            "Test set accuracy = 0.47692307692307695\n",
            "Epoch 343 Iteration 0: Loss = 0.07817196846008301, Number of mined triplets = 8\n"
          ]
        },
        {
          "output_type": "stream",
          "name": "stderr",
          "text": [
            "100%|██████████| 3/3 [00:01<00:00,  2.10it/s]\n",
            "100%|██████████| 3/3 [00:00<00:00,  4.28it/s]\n"
          ]
        },
        {
          "output_type": "stream",
          "name": "stdout",
          "text": [
            "Test set accuracy = 0.5230769230769231\n",
            "Epoch 344 Iteration 0: Loss = 0.06101768836379051, Number of mined triplets = 3\n"
          ]
        },
        {
          "output_type": "stream",
          "name": "stderr",
          "text": [
            "100%|██████████| 3/3 [00:01<00:00,  2.05it/s]\n",
            "100%|██████████| 3/3 [00:00<00:00,  4.30it/s]\n"
          ]
        },
        {
          "output_type": "stream",
          "name": "stdout",
          "text": [
            "Test set accuracy = 0.5076923076923077\n",
            "Epoch 345 Iteration 0: Loss = 0.10588967055082321, Number of mined triplets = 10\n"
          ]
        },
        {
          "output_type": "stream",
          "name": "stderr",
          "text": [
            "100%|██████████| 3/3 [00:02<00:00,  1.31it/s]\n",
            "100%|██████████| 3/3 [00:00<00:00,  3.71it/s]\n"
          ]
        },
        {
          "output_type": "stream",
          "name": "stdout",
          "text": [
            "Test set accuracy = 0.49230769230769234\n",
            "Epoch 346 Iteration 0: Loss = 0.07529029250144958, Number of mined triplets = 2\n"
          ]
        },
        {
          "output_type": "stream",
          "name": "stderr",
          "text": [
            "100%|██████████| 3/3 [00:01<00:00,  2.09it/s]\n",
            "100%|██████████| 3/3 [00:00<00:00,  4.35it/s]\n"
          ]
        },
        {
          "output_type": "stream",
          "name": "stdout",
          "text": [
            "Test set accuracy = 0.47692307692307695\n",
            "Epoch 347 Iteration 0: Loss = 0.0, Number of mined triplets = 0\n"
          ]
        },
        {
          "output_type": "stream",
          "name": "stderr",
          "text": [
            "100%|██████████| 3/3 [00:01<00:00,  2.09it/s]\n",
            "100%|██████████| 3/3 [00:00<00:00,  4.43it/s]\n"
          ]
        },
        {
          "output_type": "stream",
          "name": "stdout",
          "text": [
            "Test set accuracy = 0.5076923076923077\n",
            "Epoch 348 Iteration 0: Loss = 0.08430521190166473, Number of mined triplets = 1\n"
          ]
        },
        {
          "output_type": "stream",
          "name": "stderr",
          "text": [
            "100%|██████████| 3/3 [00:02<00:00,  1.45it/s]\n",
            "100%|██████████| 3/3 [00:01<00:00,  2.88it/s]\n"
          ]
        },
        {
          "output_type": "stream",
          "name": "stdout",
          "text": [
            "Test set accuracy = 0.5384615384615385\n",
            "Epoch 349 Iteration 0: Loss = 0.0, Number of mined triplets = 0\n"
          ]
        },
        {
          "output_type": "stream",
          "name": "stderr",
          "text": [
            "100%|██████████| 3/3 [00:01<00:00,  1.99it/s]\n",
            "100%|██████████| 3/3 [00:00<00:00,  4.33it/s]\n"
          ]
        },
        {
          "output_type": "stream",
          "name": "stdout",
          "text": [
            "Test set accuracy = 0.49230769230769234\n",
            "Epoch 350 Iteration 0: Loss = 0.13546554744243622, Number of mined triplets = 5\n"
          ]
        },
        {
          "output_type": "stream",
          "name": "stderr",
          "text": [
            "100%|██████████| 3/3 [00:01<00:00,  2.12it/s]\n",
            "100%|██████████| 3/3 [00:00<00:00,  4.39it/s]\n"
          ]
        },
        {
          "output_type": "stream",
          "name": "stdout",
          "text": [
            "Test set accuracy = 0.5230769230769231\n",
            "Epoch 351 Iteration 0: Loss = 0.0913105309009552, Number of mined triplets = 9\n"
          ]
        },
        {
          "output_type": "stream",
          "name": "stderr",
          "text": [
            "100%|██████████| 3/3 [00:01<00:00,  1.77it/s]\n",
            "100%|██████████| 3/3 [00:01<00:00,  2.81it/s]\n"
          ]
        },
        {
          "output_type": "stream",
          "name": "stdout",
          "text": [
            "Test set accuracy = 0.49230769230769234\n",
            "Epoch 352 Iteration 0: Loss = 0.09632402658462524, Number of mined triplets = 6\n"
          ]
        },
        {
          "output_type": "stream",
          "name": "stderr",
          "text": [
            "100%|██████████| 3/3 [00:01<00:00,  2.09it/s]\n",
            "100%|██████████| 3/3 [00:00<00:00,  4.54it/s]\n"
          ]
        },
        {
          "output_type": "stream",
          "name": "stdout",
          "text": [
            "Test set accuracy = 0.5076923076923077\n",
            "Epoch 353 Iteration 0: Loss = 0.03919928893446922, Number of mined triplets = 3\n"
          ]
        },
        {
          "output_type": "stream",
          "name": "stderr",
          "text": [
            "100%|██████████| 3/3 [00:01<00:00,  2.13it/s]\n",
            "100%|██████████| 3/3 [00:00<00:00,  4.32it/s]\n"
          ]
        },
        {
          "output_type": "stream",
          "name": "stdout",
          "text": [
            "Test set accuracy = 0.5230769230769231\n",
            "Epoch 354 Iteration 0: Loss = 0.10342537611722946, Number of mined triplets = 5\n"
          ]
        },
        {
          "output_type": "stream",
          "name": "stderr",
          "text": [
            "100%|██████████| 3/3 [00:01<00:00,  2.04it/s]\n",
            "100%|██████████| 3/3 [00:01<00:00,  2.82it/s]\n"
          ]
        },
        {
          "output_type": "stream",
          "name": "stdout",
          "text": [
            "Test set accuracy = 0.5692307692307692\n",
            "Epoch 355 Iteration 0: Loss = 0.041387781500816345, Number of mined triplets = 2\n"
          ]
        },
        {
          "output_type": "stream",
          "name": "stderr",
          "text": [
            "100%|██████████| 3/3 [00:01<00:00,  2.07it/s]\n",
            "100%|██████████| 3/3 [00:00<00:00,  4.31it/s]\n"
          ]
        },
        {
          "output_type": "stream",
          "name": "stdout",
          "text": [
            "Test set accuracy = 0.5230769230769231\n",
            "Epoch 356 Iteration 0: Loss = 0.1044914647936821, Number of mined triplets = 7\n"
          ]
        },
        {
          "output_type": "stream",
          "name": "stderr",
          "text": [
            "100%|██████████| 3/3 [00:01<00:00,  2.11it/s]\n",
            "100%|██████████| 3/3 [00:00<00:00,  4.27it/s]\n"
          ]
        },
        {
          "output_type": "stream",
          "name": "stdout",
          "text": [
            "Test set accuracy = 0.46153846153846156\n",
            "Epoch 357 Iteration 0: Loss = 0.054720938205718994, Number of mined triplets = 4\n"
          ]
        },
        {
          "output_type": "stream",
          "name": "stderr",
          "text": [
            "100%|██████████| 3/3 [00:01<00:00,  2.09it/s]\n",
            "100%|██████████| 3/3 [00:00<00:00,  3.42it/s]\n"
          ]
        },
        {
          "output_type": "stream",
          "name": "stdout",
          "text": [
            "Test set accuracy = 0.5230769230769231\n",
            "Epoch 358 Iteration 0: Loss = 0.07072189450263977, Number of mined triplets = 3\n"
          ]
        },
        {
          "output_type": "stream",
          "name": "stderr",
          "text": [
            "100%|██████████| 3/3 [00:01<00:00,  2.07it/s]\n",
            "100%|██████████| 3/3 [00:00<00:00,  4.34it/s]\n"
          ]
        },
        {
          "output_type": "stream",
          "name": "stdout",
          "text": [
            "Test set accuracy = 0.4307692307692308\n",
            "Epoch 359 Iteration 0: Loss = 0.09007977694272995, Number of mined triplets = 13\n"
          ]
        },
        {
          "output_type": "stream",
          "name": "stderr",
          "text": [
            "100%|██████████| 3/3 [00:01<00:00,  2.08it/s]\n",
            "100%|██████████| 3/3 [00:00<00:00,  4.26it/s]\n"
          ]
        },
        {
          "output_type": "stream",
          "name": "stdout",
          "text": [
            "Test set accuracy = 0.5230769230769231\n",
            "Epoch 360 Iteration 0: Loss = 0.0, Number of mined triplets = 0\n"
          ]
        },
        {
          "output_type": "stream",
          "name": "stderr",
          "text": [
            "100%|██████████| 3/3 [00:01<00:00,  2.06it/s]\n",
            "100%|██████████| 3/3 [00:00<00:00,  4.01it/s]\n"
          ]
        },
        {
          "output_type": "stream",
          "name": "stdout",
          "text": [
            "Test set accuracy = 0.5230769230769231\n",
            "Epoch 361 Iteration 0: Loss = 0.03786539286375046, Number of mined triplets = 2\n"
          ]
        },
        {
          "output_type": "stream",
          "name": "stderr",
          "text": [
            "100%|██████████| 3/3 [00:01<00:00,  2.00it/s]\n",
            "100%|██████████| 3/3 [00:00<00:00,  4.05it/s]\n"
          ]
        },
        {
          "output_type": "stream",
          "name": "stdout",
          "text": [
            "Test set accuracy = 0.5230769230769231\n",
            "Epoch 362 Iteration 0: Loss = 0.0946698784828186, Number of mined triplets = 2\n"
          ]
        },
        {
          "output_type": "stream",
          "name": "stderr",
          "text": [
            "100%|██████████| 3/3 [00:01<00:00,  2.10it/s]\n",
            "100%|██████████| 3/3 [00:00<00:00,  4.35it/s]\n"
          ]
        },
        {
          "output_type": "stream",
          "name": "stdout",
          "text": [
            "Test set accuracy = 0.5230769230769231\n",
            "Epoch 363 Iteration 0: Loss = 0.06529337167739868, Number of mined triplets = 5\n"
          ]
        },
        {
          "output_type": "stream",
          "name": "stderr",
          "text": [
            "100%|██████████| 3/3 [00:01<00:00,  2.11it/s]\n",
            "100%|██████████| 3/3 [00:00<00:00,  4.32it/s]\n"
          ]
        },
        {
          "output_type": "stream",
          "name": "stdout",
          "text": [
            "Test set accuracy = 0.5384615384615385\n",
            "Epoch 364 Iteration 0: Loss = 0.172612264752388, Number of mined triplets = 1\n"
          ]
        },
        {
          "output_type": "stream",
          "name": "stderr",
          "text": [
            "100%|██████████| 3/3 [00:01<00:00,  1.80it/s]\n",
            "100%|██████████| 3/3 [00:00<00:00,  4.31it/s]\n"
          ]
        },
        {
          "output_type": "stream",
          "name": "stdout",
          "text": [
            "Test set accuracy = 0.5538461538461539\n",
            "Epoch 365 Iteration 0: Loss = 0.10694234073162079, Number of mined triplets = 3\n"
          ]
        },
        {
          "output_type": "stream",
          "name": "stderr",
          "text": [
            "100%|██████████| 3/3 [00:01<00:00,  2.10it/s]\n",
            "100%|██████████| 3/3 [00:00<00:00,  4.34it/s]\n"
          ]
        },
        {
          "output_type": "stream",
          "name": "stdout",
          "text": [
            "Test set accuracy = 0.5846153846153846\n",
            "Epoch 366 Iteration 0: Loss = 0.0, Number of mined triplets = 0\n"
          ]
        },
        {
          "output_type": "stream",
          "name": "stderr",
          "text": [
            "100%|██████████| 3/3 [00:01<00:00,  2.11it/s]\n",
            "100%|██████████| 3/3 [00:00<00:00,  4.27it/s]\n"
          ]
        },
        {
          "output_type": "stream",
          "name": "stdout",
          "text": [
            "Test set accuracy = 0.49230769230769234\n",
            "Epoch 367 Iteration 0: Loss = 0.07604509592056274, Number of mined triplets = 7\n"
          ]
        },
        {
          "output_type": "stream",
          "name": "stderr",
          "text": [
            "100%|██████████| 3/3 [00:02<00:00,  1.24it/s]\n",
            "100%|██████████| 3/3 [00:00<00:00,  3.95it/s]\n"
          ]
        },
        {
          "output_type": "stream",
          "name": "stdout",
          "text": [
            "Test set accuracy = 0.5076923076923077\n",
            "Epoch 368 Iteration 0: Loss = 0.0, Number of mined triplets = 0\n"
          ]
        },
        {
          "output_type": "stream",
          "name": "stderr",
          "text": [
            "100%|██████████| 3/3 [00:01<00:00,  2.11it/s]\n",
            "100%|██████████| 3/3 [00:00<00:00,  4.24it/s]\n"
          ]
        },
        {
          "output_type": "stream",
          "name": "stdout",
          "text": [
            "Test set accuracy = 0.5846153846153846\n",
            "Epoch 369 Iteration 0: Loss = 0.07291477173566818, Number of mined triplets = 6\n"
          ]
        },
        {
          "output_type": "stream",
          "name": "stderr",
          "text": [
            "100%|██████████| 3/3 [00:01<00:00,  2.11it/s]\n",
            "100%|██████████| 3/3 [00:00<00:00,  4.29it/s]\n"
          ]
        },
        {
          "output_type": "stream",
          "name": "stdout",
          "text": [
            "Test set accuracy = 0.5076923076923077\n",
            "Epoch 370 Iteration 0: Loss = 0.0, Number of mined triplets = 0\n"
          ]
        },
        {
          "output_type": "stream",
          "name": "stderr",
          "text": [
            "100%|██████████| 3/3 [00:02<00:00,  1.34it/s]\n",
            "100%|██████████| 3/3 [00:00<00:00,  3.45it/s]\n"
          ]
        },
        {
          "output_type": "stream",
          "name": "stdout",
          "text": [
            "Test set accuracy = 0.47692307692307695\n",
            "Epoch 371 Iteration 0: Loss = 0.08241553604602814, Number of mined triplets = 1\n"
          ]
        },
        {
          "output_type": "stream",
          "name": "stderr",
          "text": [
            "100%|██████████| 3/3 [00:01<00:00,  2.05it/s]\n",
            "100%|██████████| 3/3 [00:00<00:00,  4.24it/s]\n"
          ]
        },
        {
          "output_type": "stream",
          "name": "stdout",
          "text": [
            "Test set accuracy = 0.5692307692307692\n",
            "Epoch 372 Iteration 0: Loss = 0.0, Number of mined triplets = 0\n"
          ]
        },
        {
          "output_type": "stream",
          "name": "stderr",
          "text": [
            "100%|██████████| 3/3 [00:01<00:00,  2.06it/s]\n",
            "100%|██████████| 3/3 [00:00<00:00,  4.22it/s]\n"
          ]
        },
        {
          "output_type": "stream",
          "name": "stdout",
          "text": [
            "Test set accuracy = 0.5538461538461539\n",
            "Epoch 373 Iteration 0: Loss = 0.07829480618238449, Number of mined triplets = 5\n"
          ]
        },
        {
          "output_type": "stream",
          "name": "stderr",
          "text": [
            "100%|██████████| 3/3 [00:02<00:00,  1.42it/s]\n",
            "100%|██████████| 3/3 [00:01<00:00,  2.68it/s]\n"
          ]
        },
        {
          "output_type": "stream",
          "name": "stdout",
          "text": [
            "Test set accuracy = 0.5230769230769231\n",
            "Epoch 374 Iteration 0: Loss = 0.09807605296373367, Number of mined triplets = 4\n"
          ]
        },
        {
          "output_type": "stream",
          "name": "stderr",
          "text": [
            "100%|██████████| 3/3 [00:01<00:00,  2.08it/s]\n",
            "100%|██████████| 3/3 [00:00<00:00,  4.33it/s]\n"
          ]
        },
        {
          "output_type": "stream",
          "name": "stdout",
          "text": [
            "Test set accuracy = 0.5384615384615385\n",
            "Epoch 375 Iteration 0: Loss = 0.17372985184192657, Number of mined triplets = 1\n"
          ]
        },
        {
          "output_type": "stream",
          "name": "stderr",
          "text": [
            "100%|██████████| 3/3 [00:01<00:00,  2.09it/s]\n",
            "100%|██████████| 3/3 [00:00<00:00,  4.26it/s]\n"
          ]
        },
        {
          "output_type": "stream",
          "name": "stdout",
          "text": [
            "Test set accuracy = 0.5076923076923077\n",
            "Epoch 376 Iteration 0: Loss = 0.07780180126428604, Number of mined triplets = 9\n"
          ]
        },
        {
          "output_type": "stream",
          "name": "stderr",
          "text": [
            "100%|██████████| 3/3 [00:01<00:00,  1.79it/s]\n",
            "100%|██████████| 3/3 [00:01<00:00,  2.83it/s]\n"
          ]
        },
        {
          "output_type": "stream",
          "name": "stdout",
          "text": [
            "Test set accuracy = 0.5692307692307692\n",
            "Epoch 377 Iteration 0: Loss = 0.13841401040554047, Number of mined triplets = 1\n"
          ]
        },
        {
          "output_type": "stream",
          "name": "stderr",
          "text": [
            "100%|██████████| 3/3 [00:01<00:00,  2.11it/s]\n",
            "100%|██████████| 3/3 [00:00<00:00,  4.37it/s]\n"
          ]
        },
        {
          "output_type": "stream",
          "name": "stdout",
          "text": [
            "Test set accuracy = 0.5846153846153846\n",
            "Epoch 378 Iteration 0: Loss = 0.052610281854867935, Number of mined triplets = 7\n"
          ]
        },
        {
          "output_type": "stream",
          "name": "stderr",
          "text": [
            "100%|██████████| 3/3 [00:01<00:00,  1.97it/s]\n",
            "100%|██████████| 3/3 [00:00<00:00,  4.33it/s]\n"
          ]
        },
        {
          "output_type": "stream",
          "name": "stdout",
          "text": [
            "Test set accuracy = 0.5230769230769231\n",
            "Epoch 379 Iteration 0: Loss = 0.11603546142578125, Number of mined triplets = 3\n"
          ]
        },
        {
          "output_type": "stream",
          "name": "stderr",
          "text": [
            "100%|██████████| 3/3 [00:01<00:00,  2.04it/s]\n",
            "100%|██████████| 3/3 [00:01<00:00,  2.92it/s]\n"
          ]
        },
        {
          "output_type": "stream",
          "name": "stdout",
          "text": [
            "Test set accuracy = 0.5230769230769231\n",
            "Epoch 380 Iteration 0: Loss = 0.06349845230579376, Number of mined triplets = 1\n"
          ]
        },
        {
          "output_type": "stream",
          "name": "stderr",
          "text": [
            "100%|██████████| 3/3 [00:01<00:00,  2.06it/s]\n",
            "100%|██████████| 3/3 [00:00<00:00,  4.36it/s]\n"
          ]
        },
        {
          "output_type": "stream",
          "name": "stdout",
          "text": [
            "Test set accuracy = 0.46153846153846156\n",
            "Epoch 381 Iteration 0: Loss = 0.033312663435935974, Number of mined triplets = 3\n"
          ]
        },
        {
          "output_type": "stream",
          "name": "stderr",
          "text": [
            "100%|██████████| 3/3 [00:01<00:00,  2.09it/s]\n",
            "100%|██████████| 3/3 [00:00<00:00,  4.35it/s]\n"
          ]
        },
        {
          "output_type": "stream",
          "name": "stdout",
          "text": [
            "Test set accuracy = 0.5846153846153846\n",
            "Epoch 382 Iteration 0: Loss = 0.08441756665706635, Number of mined triplets = 9\n"
          ]
        },
        {
          "output_type": "stream",
          "name": "stderr",
          "text": [
            "100%|██████████| 3/3 [00:01<00:00,  2.11it/s]\n",
            "100%|██████████| 3/3 [00:00<00:00,  3.58it/s]\n"
          ]
        },
        {
          "output_type": "stream",
          "name": "stdout",
          "text": [
            "Test set accuracy = 0.49230769230769234\n",
            "Epoch 383 Iteration 0: Loss = 0.0, Number of mined triplets = 0\n"
          ]
        },
        {
          "output_type": "stream",
          "name": "stderr",
          "text": [
            "100%|██████████| 3/3 [00:01<00:00,  1.98it/s]\n",
            "100%|██████████| 3/3 [00:00<00:00,  4.23it/s]\n"
          ]
        },
        {
          "output_type": "stream",
          "name": "stdout",
          "text": [
            "Test set accuracy = 0.5076923076923077\n",
            "Epoch 384 Iteration 0: Loss = 0.0, Number of mined triplets = 0\n"
          ]
        },
        {
          "output_type": "stream",
          "name": "stderr",
          "text": [
            "100%|██████████| 3/3 [00:01<00:00,  2.08it/s]\n",
            "100%|██████████| 3/3 [00:00<00:00,  4.39it/s]\n"
          ]
        },
        {
          "output_type": "stream",
          "name": "stdout",
          "text": [
            "Test set accuracy = 0.5692307692307692\n",
            "Epoch 385 Iteration 0: Loss = 0.0, Number of mined triplets = 0\n"
          ]
        },
        {
          "output_type": "stream",
          "name": "stderr",
          "text": [
            "100%|██████████| 3/3 [00:01<00:00,  2.09it/s]\n",
            "100%|██████████| 3/3 [00:00<00:00,  4.03it/s]\n"
          ]
        },
        {
          "output_type": "stream",
          "name": "stdout",
          "text": [
            "Test set accuracy = 0.5538461538461539\n",
            "Epoch 386 Iteration 0: Loss = 0.0, Number of mined triplets = 0\n"
          ]
        },
        {
          "output_type": "stream",
          "name": "stderr",
          "text": [
            "100%|██████████| 3/3 [00:01<00:00,  1.87it/s]\n",
            "100%|██████████| 3/3 [00:00<00:00,  4.21it/s]\n"
          ]
        },
        {
          "output_type": "stream",
          "name": "stdout",
          "text": [
            "Test set accuracy = 0.5076923076923077\n",
            "Epoch 387 Iteration 0: Loss = 0.11186148226261139, Number of mined triplets = 1\n"
          ]
        },
        {
          "output_type": "stream",
          "name": "stderr",
          "text": [
            "100%|██████████| 3/3 [00:01<00:00,  2.06it/s]\n",
            "100%|██████████| 3/3 [00:00<00:00,  4.40it/s]\n"
          ]
        },
        {
          "output_type": "stream",
          "name": "stdout",
          "text": [
            "Test set accuracy = 0.5230769230769231\n",
            "Epoch 388 Iteration 0: Loss = 0.0, Number of mined triplets = 0\n"
          ]
        },
        {
          "output_type": "stream",
          "name": "stderr",
          "text": [
            "100%|██████████| 3/3 [00:01<00:00,  2.08it/s]\n",
            "100%|██████████| 3/3 [00:00<00:00,  4.26it/s]\n"
          ]
        },
        {
          "output_type": "stream",
          "name": "stdout",
          "text": [
            "Test set accuracy = 0.49230769230769234\n",
            "Epoch 389 Iteration 0: Loss = 0.06717818975448608, Number of mined triplets = 2\n"
          ]
        },
        {
          "output_type": "stream",
          "name": "stderr",
          "text": [
            "100%|██████████| 3/3 [00:01<00:00,  1.70it/s]\n",
            "100%|██████████| 3/3 [00:00<00:00,  4.29it/s]\n"
          ]
        },
        {
          "output_type": "stream",
          "name": "stdout",
          "text": [
            "Test set accuracy = 0.5692307692307692\n",
            "Epoch 390 Iteration 0: Loss = 0.1717841923236847, Number of mined triplets = 3\n"
          ]
        },
        {
          "output_type": "stream",
          "name": "stderr",
          "text": [
            "100%|██████████| 3/3 [00:01<00:00,  2.09it/s]\n",
            "100%|██████████| 3/3 [00:00<00:00,  4.28it/s]\n"
          ]
        },
        {
          "output_type": "stream",
          "name": "stdout",
          "text": [
            "Test set accuracy = 0.5384615384615385\n",
            "Epoch 391 Iteration 0: Loss = 0.022914454340934753, Number of mined triplets = 1\n"
          ]
        },
        {
          "output_type": "stream",
          "name": "stderr",
          "text": [
            "100%|██████████| 3/3 [00:01<00:00,  2.11it/s]\n",
            "100%|██████████| 3/3 [00:00<00:00,  4.31it/s]\n"
          ]
        },
        {
          "output_type": "stream",
          "name": "stdout",
          "text": [
            "Test set accuracy = 0.5692307692307692\n",
            "Epoch 392 Iteration 0: Loss = 0.022634461522102356, Number of mined triplets = 1\n"
          ]
        },
        {
          "output_type": "stream",
          "name": "stderr",
          "text": [
            "100%|██████████| 3/3 [00:02<00:00,  1.23it/s]\n",
            "100%|██████████| 3/3 [00:00<00:00,  3.34it/s]\n"
          ]
        },
        {
          "output_type": "stream",
          "name": "stdout",
          "text": [
            "Test set accuracy = 0.46153846153846156\n",
            "Epoch 393 Iteration 0: Loss = 0.0, Number of mined triplets = 0\n"
          ]
        },
        {
          "output_type": "stream",
          "name": "stderr",
          "text": [
            "100%|██████████| 3/3 [00:01<00:00,  2.09it/s]\n",
            "100%|██████████| 3/3 [00:00<00:00,  4.28it/s]\n"
          ]
        },
        {
          "output_type": "stream",
          "name": "stdout",
          "text": [
            "Test set accuracy = 0.5230769230769231\n",
            "Epoch 394 Iteration 0: Loss = 0.04986816644668579, Number of mined triplets = 6\n"
          ]
        },
        {
          "output_type": "stream",
          "name": "stderr",
          "text": [
            "100%|██████████| 3/3 [00:01<00:00,  2.08it/s]\n",
            "100%|██████████| 3/3 [00:00<00:00,  4.19it/s]\n"
          ]
        },
        {
          "output_type": "stream",
          "name": "stdout",
          "text": [
            "Test set accuracy = 0.5230769230769231\n",
            "Epoch 395 Iteration 0: Loss = 0.14101733267307281, Number of mined triplets = 1\n"
          ]
        },
        {
          "output_type": "stream",
          "name": "stderr",
          "text": [
            "100%|██████████| 3/3 [00:02<00:00,  1.40it/s]\n",
            "100%|██████████| 3/3 [00:01<00:00,  2.57it/s]\n"
          ]
        },
        {
          "output_type": "stream",
          "name": "stdout",
          "text": [
            "Test set accuracy = 0.6153846153846154\n",
            "Epoch 396 Iteration 0: Loss = 0.06586463749408722, Number of mined triplets = 1\n"
          ]
        },
        {
          "output_type": "stream",
          "name": "stderr",
          "text": [
            "100%|██████████| 3/3 [00:01<00:00,  2.02it/s]\n",
            "100%|██████████| 3/3 [00:00<00:00,  4.28it/s]\n"
          ]
        },
        {
          "output_type": "stream",
          "name": "stdout",
          "text": [
            "Test set accuracy = 0.6000000000000001\n",
            "Epoch 397 Iteration 0: Loss = 0.0, Number of mined triplets = 0\n"
          ]
        },
        {
          "output_type": "stream",
          "name": "stderr",
          "text": [
            "100%|██████████| 3/3 [00:01<00:00,  2.07it/s]\n",
            "100%|██████████| 3/3 [00:00<00:00,  4.26it/s]\n"
          ]
        },
        {
          "output_type": "stream",
          "name": "stdout",
          "text": [
            "Test set accuracy = 0.49230769230769234\n",
            "Epoch 398 Iteration 0: Loss = 0.0, Number of mined triplets = 0\n"
          ]
        },
        {
          "output_type": "stream",
          "name": "stderr",
          "text": [
            "100%|██████████| 3/3 [00:01<00:00,  1.73it/s]\n",
            "100%|██████████| 3/3 [00:01<00:00,  2.88it/s]\n"
          ]
        },
        {
          "output_type": "stream",
          "name": "stdout",
          "text": [
            "Test set accuracy = 0.5538461538461539\n",
            "Epoch 399 Iteration 0: Loss = 0.0, Number of mined triplets = 0\n"
          ]
        },
        {
          "output_type": "stream",
          "name": "stderr",
          "text": [
            "100%|██████████| 3/3 [00:01<00:00,  2.12it/s]\n",
            "100%|██████████| 3/3 [00:00<00:00,  4.40it/s]\n"
          ]
        },
        {
          "output_type": "stream",
          "name": "stdout",
          "text": [
            "Test set accuracy = 0.5230769230769231\n",
            "Epoch 400 Iteration 0: Loss = 0.0, Number of mined triplets = 0\n"
          ]
        },
        {
          "output_type": "stream",
          "name": "stderr",
          "text": [
            "100%|██████████| 3/3 [00:01<00:00,  2.12it/s]\n",
            "100%|██████████| 3/3 [00:00<00:00,  4.38it/s]\n"
          ]
        },
        {
          "output_type": "stream",
          "name": "stdout",
          "text": [
            "Test set accuracy = 0.5538461538461539\n",
            "Epoch 401 Iteration 0: Loss = 0.04461340606212616, Number of mined triplets = 1\n"
          ]
        },
        {
          "output_type": "stream",
          "name": "stderr",
          "text": [
            "100%|██████████| 3/3 [00:01<00:00,  2.04it/s]\n",
            "100%|██████████| 3/3 [00:01<00:00,  2.71it/s]\n"
          ]
        },
        {
          "output_type": "stream",
          "name": "stdout",
          "text": [
            "Test set accuracy = 0.5076923076923077\n",
            "Epoch 402 Iteration 0: Loss = 0.10343660414218903, Number of mined triplets = 1\n"
          ]
        },
        {
          "output_type": "stream",
          "name": "stderr",
          "text": [
            "100%|██████████| 3/3 [00:01<00:00,  2.08it/s]\n",
            "100%|██████████| 3/3 [00:00<00:00,  4.20it/s]\n"
          ]
        },
        {
          "output_type": "stream",
          "name": "stdout",
          "text": [
            "Test set accuracy = 0.49230769230769234\n",
            "Epoch 403 Iteration 0: Loss = 0.06944652646780014, Number of mined triplets = 5\n"
          ]
        },
        {
          "output_type": "stream",
          "name": "stderr",
          "text": [
            "100%|██████████| 3/3 [00:01<00:00,  2.09it/s]\n",
            "100%|██████████| 3/3 [00:00<00:00,  4.30it/s]\n"
          ]
        },
        {
          "output_type": "stream",
          "name": "stdout",
          "text": [
            "Test set accuracy = 0.5692307692307692\n",
            "Epoch 404 Iteration 0: Loss = 0.08964227139949799, Number of mined triplets = 2\n"
          ]
        },
        {
          "output_type": "stream",
          "name": "stderr",
          "text": [
            "100%|██████████| 3/3 [00:01<00:00,  2.14it/s]\n",
            "100%|██████████| 3/3 [00:00<00:00,  3.65it/s]\n"
          ]
        },
        {
          "output_type": "stream",
          "name": "stdout",
          "text": [
            "Test set accuracy = 0.49230769230769234\n",
            "Epoch 405 Iteration 0: Loss = 0.11584717035293579, Number of mined triplets = 2\n"
          ]
        },
        {
          "output_type": "stream",
          "name": "stderr",
          "text": [
            "100%|██████████| 3/3 [00:01<00:00,  2.12it/s]\n",
            "100%|██████████| 3/3 [00:00<00:00,  4.27it/s]\n"
          ]
        },
        {
          "output_type": "stream",
          "name": "stdout",
          "text": [
            "Test set accuracy = 0.5538461538461539\n",
            "Epoch 406 Iteration 0: Loss = 0.11746203899383545, Number of mined triplets = 2\n"
          ]
        },
        {
          "output_type": "stream",
          "name": "stderr",
          "text": [
            "100%|██████████| 3/3 [00:01<00:00,  2.12it/s]\n",
            "100%|██████████| 3/3 [00:00<00:00,  4.38it/s]\n"
          ]
        },
        {
          "output_type": "stream",
          "name": "stdout",
          "text": [
            "Test set accuracy = 0.5384615384615385\n",
            "Epoch 407 Iteration 0: Loss = 0.06893987953662872, Number of mined triplets = 3\n"
          ]
        },
        {
          "output_type": "stream",
          "name": "stderr",
          "text": [
            "100%|██████████| 3/3 [00:01<00:00,  1.99it/s]\n",
            "100%|██████████| 3/3 [00:00<00:00,  4.31it/s]\n"
          ]
        },
        {
          "output_type": "stream",
          "name": "stdout",
          "text": [
            "Test set accuracy = 0.5384615384615385\n",
            "Epoch 408 Iteration 0: Loss = 0.04901851341128349, Number of mined triplets = 5\n"
          ]
        },
        {
          "output_type": "stream",
          "name": "stderr",
          "text": [
            "100%|██████████| 3/3 [00:01<00:00,  1.92it/s]\n",
            "100%|██████████| 3/3 [00:00<00:00,  4.31it/s]\n"
          ]
        },
        {
          "output_type": "stream",
          "name": "stdout",
          "text": [
            "Test set accuracy = 0.6000000000000001\n",
            "Epoch 409 Iteration 0: Loss = 0.0, Number of mined triplets = 0\n"
          ]
        },
        {
          "output_type": "stream",
          "name": "stderr",
          "text": [
            "100%|██████████| 3/3 [00:01<00:00,  2.11it/s]\n",
            "100%|██████████| 3/3 [00:00<00:00,  4.27it/s]\n"
          ]
        },
        {
          "output_type": "stream",
          "name": "stdout",
          "text": [
            "Test set accuracy = 0.5230769230769231\n",
            "Epoch 410 Iteration 0: Loss = 0.06737107038497925, Number of mined triplets = 12\n"
          ]
        },
        {
          "output_type": "stream",
          "name": "stderr",
          "text": [
            "100%|██████████| 3/3 [00:01<00:00,  2.11it/s]\n",
            "100%|██████████| 3/3 [00:00<00:00,  4.31it/s]\n"
          ]
        },
        {
          "output_type": "stream",
          "name": "stdout",
          "text": [
            "Test set accuracy = 0.5538461538461539\n",
            "Epoch 411 Iteration 0: Loss = 0.0, Number of mined triplets = 0\n"
          ]
        },
        {
          "output_type": "stream",
          "name": "stderr",
          "text": [
            "100%|██████████| 3/3 [00:02<00:00,  1.28it/s]\n",
            "100%|██████████| 3/3 [00:00<00:00,  4.10it/s]\n"
          ]
        },
        {
          "output_type": "stream",
          "name": "stdout",
          "text": [
            "Test set accuracy = 0.6000000000000001\n",
            "Epoch 412 Iteration 0: Loss = 0.03403201699256897, Number of mined triplets = 2\n"
          ]
        },
        {
          "output_type": "stream",
          "name": "stderr",
          "text": [
            "100%|██████████| 3/3 [00:01<00:00,  2.12it/s]\n",
            "100%|██████████| 3/3 [00:00<00:00,  4.27it/s]\n"
          ]
        },
        {
          "output_type": "stream",
          "name": "stdout",
          "text": [
            "Test set accuracy = 0.5230769230769231\n",
            "Epoch 413 Iteration 0: Loss = 0.0244608074426651, Number of mined triplets = 1\n"
          ]
        },
        {
          "output_type": "stream",
          "name": "stderr",
          "text": [
            "100%|██████████| 3/3 [00:01<00:00,  2.09it/s]\n",
            "100%|██████████| 3/3 [00:00<00:00,  4.31it/s]\n"
          ]
        },
        {
          "output_type": "stream",
          "name": "stdout",
          "text": [
            "Test set accuracy = 0.5230769230769231\n",
            "Epoch 414 Iteration 0: Loss = 0.0, Number of mined triplets = 0\n"
          ]
        },
        {
          "output_type": "stream",
          "name": "stderr",
          "text": [
            "100%|██████████| 3/3 [00:02<00:00,  1.31it/s]\n",
            "100%|██████████| 3/3 [00:01<00:00,  2.67it/s]\n"
          ]
        },
        {
          "output_type": "stream",
          "name": "stdout",
          "text": [
            "Test set accuracy = 0.5384615384615385\n",
            "Epoch 415 Iteration 0: Loss = 0.0, Number of mined triplets = 0\n"
          ]
        },
        {
          "output_type": "stream",
          "name": "stderr",
          "text": [
            "100%|██████████| 3/3 [00:01<00:00,  2.06it/s]\n",
            "100%|██████████| 3/3 [00:00<00:00,  4.34it/s]\n"
          ]
        },
        {
          "output_type": "stream",
          "name": "stdout",
          "text": [
            "Test set accuracy = 0.5230769230769231\n",
            "Epoch 416 Iteration 0: Loss = 0.11858756840229034, Number of mined triplets = 2\n"
          ]
        },
        {
          "output_type": "stream",
          "name": "stderr",
          "text": [
            "100%|██████████| 3/3 [00:01<00:00,  2.09it/s]\n",
            "100%|██████████| 3/3 [00:00<00:00,  4.27it/s]\n"
          ]
        },
        {
          "output_type": "stream",
          "name": "stdout",
          "text": [
            "Test set accuracy = 0.5538461538461539\n",
            "Epoch 417 Iteration 0: Loss = 0.0, Number of mined triplets = 0\n"
          ]
        },
        {
          "output_type": "stream",
          "name": "stderr",
          "text": [
            "100%|██████████| 3/3 [00:01<00:00,  1.58it/s]\n",
            "100%|██████████| 3/3 [00:01<00:00,  2.86it/s]\n"
          ]
        },
        {
          "output_type": "stream",
          "name": "stdout",
          "text": [
            "Test set accuracy = 0.5384615384615385\n",
            "Epoch 418 Iteration 0: Loss = 0.0, Number of mined triplets = 0\n"
          ]
        },
        {
          "output_type": "stream",
          "name": "stderr",
          "text": [
            "100%|██████████| 3/3 [00:01<00:00,  2.02it/s]\n",
            "100%|██████████| 3/3 [00:00<00:00,  4.23it/s]\n"
          ]
        },
        {
          "output_type": "stream",
          "name": "stdout",
          "text": [
            "Test set accuracy = 0.47692307692307695\n",
            "Epoch 419 Iteration 0: Loss = 0.03315939009189606, Number of mined triplets = 1\n"
          ]
        },
        {
          "output_type": "stream",
          "name": "stderr",
          "text": [
            "100%|██████████| 3/3 [00:01<00:00,  2.07it/s]\n",
            "100%|██████████| 3/3 [00:00<00:00,  4.31it/s]\n"
          ]
        },
        {
          "output_type": "stream",
          "name": "stdout",
          "text": [
            "Test set accuracy = 0.46153846153846156\n",
            "Epoch 420 Iteration 0: Loss = 0.04662490636110306, Number of mined triplets = 3\n"
          ]
        },
        {
          "output_type": "stream",
          "name": "stderr",
          "text": [
            "100%|██████████| 3/3 [00:01<00:00,  1.68it/s]\n",
            "100%|██████████| 3/3 [00:01<00:00,  2.76it/s]\n"
          ]
        },
        {
          "output_type": "stream",
          "name": "stdout",
          "text": [
            "Test set accuracy = 0.5076923076923077\n",
            "Epoch 421 Iteration 0: Loss = 0.10531656444072723, Number of mined triplets = 15\n"
          ]
        },
        {
          "output_type": "stream",
          "name": "stderr",
          "text": [
            "100%|██████████| 3/3 [00:01<00:00,  2.11it/s]\n",
            "100%|██████████| 3/3 [00:00<00:00,  4.25it/s]\n"
          ]
        },
        {
          "output_type": "stream",
          "name": "stdout",
          "text": [
            "Test set accuracy = 0.5076923076923077\n",
            "Epoch 422 Iteration 0: Loss = 0.03765428066253662, Number of mined triplets = 4\n"
          ]
        },
        {
          "output_type": "stream",
          "name": "stderr",
          "text": [
            "100%|██████████| 3/3 [00:01<00:00,  2.04it/s]\n",
            "100%|██████████| 3/3 [00:00<00:00,  4.19it/s]\n"
          ]
        },
        {
          "output_type": "stream",
          "name": "stdout",
          "text": [
            "Test set accuracy = 0.5692307692307692\n",
            "Epoch 423 Iteration 0: Loss = 0.061490654945373535, Number of mined triplets = 18\n"
          ]
        },
        {
          "output_type": "stream",
          "name": "stderr",
          "text": [
            "100%|██████████| 3/3 [00:01<00:00,  1.76it/s]\n",
            "100%|██████████| 3/3 [00:01<00:00,  2.73it/s]\n"
          ]
        },
        {
          "output_type": "stream",
          "name": "stdout",
          "text": [
            "Test set accuracy = 0.5384615384615385\n",
            "Epoch 424 Iteration 0: Loss = 0.003291204571723938, Number of mined triplets = 1\n"
          ]
        },
        {
          "output_type": "stream",
          "name": "stderr",
          "text": [
            "100%|██████████| 3/3 [00:01<00:00,  2.10it/s]\n",
            "100%|██████████| 3/3 [00:00<00:00,  4.19it/s]\n"
          ]
        },
        {
          "output_type": "stream",
          "name": "stdout",
          "text": [
            "Test set accuracy = 0.5384615384615385\n",
            "Epoch 425 Iteration 0: Loss = 0.0, Number of mined triplets = 0\n"
          ]
        },
        {
          "output_type": "stream",
          "name": "stderr",
          "text": [
            "100%|██████████| 3/3 [00:01<00:00,  2.06it/s]\n",
            "100%|██████████| 3/3 [00:00<00:00,  4.16it/s]\n"
          ]
        },
        {
          "output_type": "stream",
          "name": "stdout",
          "text": [
            "Test set accuracy = 0.5230769230769231\n",
            "Epoch 426 Iteration 0: Loss = 0.06531603634357452, Number of mined triplets = 1\n"
          ]
        },
        {
          "output_type": "stream",
          "name": "stderr",
          "text": [
            "100%|██████████| 3/3 [00:01<00:00,  1.74it/s]\n",
            "100%|██████████| 3/3 [00:01<00:00,  2.81it/s]\n"
          ]
        },
        {
          "output_type": "stream",
          "name": "stdout",
          "text": [
            "Test set accuracy = 0.49230769230769234\n",
            "Epoch 427 Iteration 0: Loss = 0.09758125245571136, Number of mined triplets = 2\n"
          ]
        },
        {
          "output_type": "stream",
          "name": "stderr",
          "text": [
            "100%|██████████| 3/3 [00:01<00:00,  2.08it/s]\n",
            "100%|██████████| 3/3 [00:00<00:00,  4.31it/s]\n"
          ]
        },
        {
          "output_type": "stream",
          "name": "stdout",
          "text": [
            "Test set accuracy = 0.5076923076923077\n",
            "Epoch 428 Iteration 0: Loss = 0.0, Number of mined triplets = 0\n"
          ]
        },
        {
          "output_type": "stream",
          "name": "stderr",
          "text": [
            "100%|██████████| 3/3 [00:01<00:00,  2.07it/s]\n",
            "100%|██████████| 3/3 [00:00<00:00,  4.28it/s]\n"
          ]
        },
        {
          "output_type": "stream",
          "name": "stdout",
          "text": [
            "Test set accuracy = 0.6000000000000001\n",
            "Epoch 429 Iteration 0: Loss = 0.0, Number of mined triplets = 0\n"
          ]
        },
        {
          "output_type": "stream",
          "name": "stderr",
          "text": [
            "100%|██████████| 3/3 [00:01<00:00,  1.79it/s]\n",
            "100%|██████████| 3/3 [00:01<00:00,  2.65it/s]\n"
          ]
        },
        {
          "output_type": "stream",
          "name": "stdout",
          "text": [
            "Test set accuracy = 0.5846153846153846\n",
            "Epoch 430 Iteration 0: Loss = 0.0794498473405838, Number of mined triplets = 3\n"
          ]
        },
        {
          "output_type": "stream",
          "name": "stderr",
          "text": [
            "100%|██████████| 3/3 [00:01<00:00,  2.09it/s]\n",
            "100%|██████████| 3/3 [00:00<00:00,  4.16it/s]\n"
          ]
        },
        {
          "output_type": "stream",
          "name": "stdout",
          "text": [
            "Test set accuracy = 0.6000000000000001\n",
            "Epoch 431 Iteration 0: Loss = 0.0, Number of mined triplets = 0\n"
          ]
        },
        {
          "output_type": "stream",
          "name": "stderr",
          "text": [
            "100%|██████████| 3/3 [00:01<00:00,  2.07it/s]\n",
            "100%|██████████| 3/3 [00:00<00:00,  4.28it/s]\n"
          ]
        },
        {
          "output_type": "stream",
          "name": "stdout",
          "text": [
            "Test set accuracy = 0.49230769230769234\n",
            "Epoch 432 Iteration 0: Loss = 0.0, Number of mined triplets = 0\n"
          ]
        },
        {
          "output_type": "stream",
          "name": "stderr",
          "text": [
            "100%|██████████| 3/3 [00:01<00:00,  1.86it/s]\n",
            "100%|██████████| 3/3 [00:01<00:00,  2.58it/s]\n"
          ]
        },
        {
          "output_type": "stream",
          "name": "stdout",
          "text": [
            "Test set accuracy = 0.5692307692307692\n",
            "Epoch 433 Iteration 0: Loss = 0.13590581715106964, Number of mined triplets = 2\n"
          ]
        },
        {
          "output_type": "stream",
          "name": "stderr",
          "text": [
            "100%|██████████| 3/3 [00:01<00:00,  2.06it/s]\n",
            "100%|██████████| 3/3 [00:00<00:00,  4.18it/s]\n"
          ]
        },
        {
          "output_type": "stream",
          "name": "stdout",
          "text": [
            "Test set accuracy = 0.5230769230769231\n",
            "Epoch 434 Iteration 0: Loss = 0.0, Number of mined triplets = 0\n"
          ]
        },
        {
          "output_type": "stream",
          "name": "stderr",
          "text": [
            "100%|██████████| 3/3 [00:01<00:00,  2.06it/s]\n",
            "100%|██████████| 3/3 [00:00<00:00,  4.26it/s]\n"
          ]
        },
        {
          "output_type": "stream",
          "name": "stdout",
          "text": [
            "Test set accuracy = 0.5076923076923077\n",
            "Epoch 435 Iteration 0: Loss = 0.08435527980327606, Number of mined triplets = 12\n"
          ]
        },
        {
          "output_type": "stream",
          "name": "stderr",
          "text": [
            "100%|██████████| 3/3 [00:01<00:00,  1.94it/s]\n",
            "100%|██████████| 3/3 [00:01<00:00,  2.75it/s]\n"
          ]
        },
        {
          "output_type": "stream",
          "name": "stdout",
          "text": [
            "Test set accuracy = 0.5692307692307692\n",
            "Epoch 436 Iteration 0: Loss = 0.0, Number of mined triplets = 0\n"
          ]
        },
        {
          "output_type": "stream",
          "name": "stderr",
          "text": [
            "100%|██████████| 3/3 [00:01<00:00,  2.05it/s]\n",
            "100%|██████████| 3/3 [00:00<00:00,  4.23it/s]\n"
          ]
        },
        {
          "output_type": "stream",
          "name": "stdout",
          "text": [
            "Test set accuracy = 0.5384615384615385\n",
            "Epoch 437 Iteration 0: Loss = 0.16783930361270905, Number of mined triplets = 1\n"
          ]
        },
        {
          "output_type": "stream",
          "name": "stderr",
          "text": [
            "100%|██████████| 3/3 [00:01<00:00,  2.11it/s]\n",
            "100%|██████████| 3/3 [00:00<00:00,  4.24it/s]\n"
          ]
        },
        {
          "output_type": "stream",
          "name": "stdout",
          "text": [
            "Test set accuracy = 0.5538461538461539\n",
            "Epoch 438 Iteration 0: Loss = 0.020235732197761536, Number of mined triplets = 1\n"
          ]
        },
        {
          "output_type": "stream",
          "name": "stderr",
          "text": [
            "100%|██████████| 3/3 [00:01<00:00,  1.96it/s]\n",
            "100%|██████████| 3/3 [00:01<00:00,  2.68it/s]\n"
          ]
        },
        {
          "output_type": "stream",
          "name": "stdout",
          "text": [
            "Test set accuracy = 0.5846153846153846\n",
            "Epoch 439 Iteration 0: Loss = 0.011412039399147034, Number of mined triplets = 1\n"
          ]
        },
        {
          "output_type": "stream",
          "name": "stderr",
          "text": [
            "100%|██████████| 3/3 [00:01<00:00,  2.02it/s]\n",
            "100%|██████████| 3/3 [00:00<00:00,  4.09it/s]\n"
          ]
        },
        {
          "output_type": "stream",
          "name": "stdout",
          "text": [
            "Test set accuracy = 0.5692307692307692\n",
            "Epoch 440 Iteration 0: Loss = 0.1064191460609436, Number of mined triplets = 2\n"
          ]
        },
        {
          "output_type": "stream",
          "name": "stderr",
          "text": [
            "100%|██████████| 3/3 [00:01<00:00,  2.09it/s]\n",
            "100%|██████████| 3/3 [00:00<00:00,  4.27it/s]\n"
          ]
        },
        {
          "output_type": "stream",
          "name": "stdout",
          "text": [
            "Test set accuracy = 0.5538461538461539\n",
            "Epoch 441 Iteration 0: Loss = 0.0, Number of mined triplets = 0\n"
          ]
        },
        {
          "output_type": "stream",
          "name": "stderr",
          "text": [
            "100%|██████████| 3/3 [00:01<00:00,  2.04it/s]\n",
            "100%|██████████| 3/3 [00:01<00:00,  2.66it/s]\n"
          ]
        },
        {
          "output_type": "stream",
          "name": "stdout",
          "text": [
            "Test set accuracy = 0.5230769230769231\n",
            "Epoch 442 Iteration 0: Loss = 0.08773981034755707, Number of mined triplets = 1\n"
          ]
        },
        {
          "output_type": "stream",
          "name": "stderr",
          "text": [
            "100%|██████████| 3/3 [00:01<00:00,  2.02it/s]\n",
            "100%|██████████| 3/3 [00:00<00:00,  4.36it/s]\n"
          ]
        },
        {
          "output_type": "stream",
          "name": "stdout",
          "text": [
            "Test set accuracy = 0.5692307692307692\n",
            "Epoch 443 Iteration 0: Loss = 0.036675259470939636, Number of mined triplets = 1\n"
          ]
        },
        {
          "output_type": "stream",
          "name": "stderr",
          "text": [
            "100%|██████████| 3/3 [00:01<00:00,  1.83it/s]\n",
            "100%|██████████| 3/3 [00:00<00:00,  4.22it/s]\n"
          ]
        },
        {
          "output_type": "stream",
          "name": "stdout",
          "text": [
            "Test set accuracy = 0.5538461538461539\n",
            "Epoch 444 Iteration 0: Loss = 0.0, Number of mined triplets = 0\n"
          ]
        },
        {
          "output_type": "stream",
          "name": "stderr",
          "text": [
            "100%|██████████| 3/3 [00:01<00:00,  1.70it/s]\n",
            "100%|██████████| 3/3 [00:01<00:00,  2.34it/s]\n"
          ]
        },
        {
          "output_type": "stream",
          "name": "stdout",
          "text": [
            "Test set accuracy = 0.5692307692307692\n",
            "Epoch 445 Iteration 0: Loss = 0.08930682390928268, Number of mined triplets = 3\n"
          ]
        },
        {
          "output_type": "stream",
          "name": "stderr",
          "text": [
            "100%|██████████| 3/3 [00:01<00:00,  1.86it/s]\n",
            "100%|██████████| 3/3 [00:00<00:00,  3.94it/s]\n"
          ]
        },
        {
          "output_type": "stream",
          "name": "stdout",
          "text": [
            "Test set accuracy = 0.6153846153846154\n",
            "Epoch 446 Iteration 0: Loss = 0.07822613418102264, Number of mined triplets = 2\n"
          ]
        },
        {
          "output_type": "stream",
          "name": "stderr",
          "text": [
            "100%|██████████| 3/3 [00:01<00:00,  1.80it/s]\n",
            "100%|██████████| 3/3 [00:00<00:00,  3.88it/s]\n"
          ]
        },
        {
          "output_type": "stream",
          "name": "stdout",
          "text": [
            "Test set accuracy = 0.6461538461538462\n",
            "Epoch 447 Iteration 0: Loss = 0.13362522423267365, Number of mined triplets = 1\n"
          ]
        },
        {
          "output_type": "stream",
          "name": "stderr",
          "text": [
            "100%|██████████| 3/3 [00:02<00:00,  1.29it/s]\n",
            "100%|██████████| 3/3 [00:01<00:00,  2.34it/s]\n"
          ]
        },
        {
          "output_type": "stream",
          "name": "stdout",
          "text": [
            "Test set accuracy = 0.6153846153846154\n",
            "Epoch 448 Iteration 0: Loss = 0.0, Number of mined triplets = 0\n"
          ]
        },
        {
          "output_type": "stream",
          "name": "stderr",
          "text": [
            "100%|██████████| 3/3 [00:01<00:00,  1.96it/s]\n",
            "100%|██████████| 3/3 [00:00<00:00,  4.13it/s]\n"
          ]
        },
        {
          "output_type": "stream",
          "name": "stdout",
          "text": [
            "Test set accuracy = 0.6000000000000001\n",
            "Epoch 449 Iteration 0: Loss = 0.03845275938510895, Number of mined triplets = 2\n"
          ]
        },
        {
          "output_type": "stream",
          "name": "stderr",
          "text": [
            "100%|██████████| 3/3 [00:01<00:00,  2.00it/s]\n",
            "100%|██████████| 3/3 [00:00<00:00,  4.11it/s]\n"
          ]
        },
        {
          "output_type": "stream",
          "name": "stdout",
          "text": [
            "Test set accuracy = 0.5692307692307692\n",
            "Epoch 450 Iteration 0: Loss = 0.028209522366523743, Number of mined triplets = 1\n"
          ]
        },
        {
          "output_type": "stream",
          "name": "stderr",
          "text": [
            "100%|██████████| 3/3 [00:02<00:00,  1.41it/s]\n",
            "100%|██████████| 3/3 [00:01<00:00,  2.59it/s]\n"
          ]
        },
        {
          "output_type": "stream",
          "name": "stdout",
          "text": [
            "Test set accuracy = 0.5538461538461539\n",
            "Epoch 451 Iteration 0: Loss = 0.07770706713199615, Number of mined triplets = 1\n"
          ]
        },
        {
          "output_type": "stream",
          "name": "stderr",
          "text": [
            "100%|██████████| 3/3 [00:01<00:00,  2.07it/s]\n",
            "100%|██████████| 3/3 [00:00<00:00,  4.18it/s]\n"
          ]
        },
        {
          "output_type": "stream",
          "name": "stdout",
          "text": [
            "Test set accuracy = 0.5692307692307692\n",
            "Epoch 452 Iteration 0: Loss = 0.0842006653547287, Number of mined triplets = 3\n"
          ]
        },
        {
          "output_type": "stream",
          "name": "stderr",
          "text": [
            "100%|██████████| 3/3 [00:01<00:00,  2.05it/s]\n",
            "100%|██████████| 3/3 [00:00<00:00,  4.16it/s]\n"
          ]
        },
        {
          "output_type": "stream",
          "name": "stdout",
          "text": [
            "Test set accuracy = 0.5230769230769231\n",
            "Epoch 453 Iteration 0: Loss = 0.06221580505371094, Number of mined triplets = 2\n"
          ]
        },
        {
          "output_type": "stream",
          "name": "stderr",
          "text": [
            "100%|██████████| 3/3 [00:01<00:00,  1.61it/s]\n",
            "100%|██████████| 3/3 [00:01<00:00,  2.79it/s]\n"
          ]
        },
        {
          "output_type": "stream",
          "name": "stdout",
          "text": [
            "Test set accuracy = 0.5692307692307692\n",
            "Epoch 454 Iteration 0: Loss = 0.0, Number of mined triplets = 0\n"
          ]
        },
        {
          "output_type": "stream",
          "name": "stderr",
          "text": [
            "100%|██████████| 3/3 [00:01<00:00,  2.05it/s]\n",
            "100%|██████████| 3/3 [00:00<00:00,  4.16it/s]\n"
          ]
        },
        {
          "output_type": "stream",
          "name": "stdout",
          "text": [
            "Test set accuracy = 0.5076923076923077\n",
            "Epoch 455 Iteration 0: Loss = 0.01294340193271637, Number of mined triplets = 1\n"
          ]
        },
        {
          "output_type": "stream",
          "name": "stderr",
          "text": [
            "100%|██████████| 3/3 [00:01<00:00,  2.04it/s]\n",
            "100%|██████████| 3/3 [00:00<00:00,  4.17it/s]\n"
          ]
        },
        {
          "output_type": "stream",
          "name": "stdout",
          "text": [
            "Test set accuracy = 0.5692307692307692\n",
            "Epoch 456 Iteration 0: Loss = 0.031104013323783875, Number of mined triplets = 1\n"
          ]
        },
        {
          "output_type": "stream",
          "name": "stderr",
          "text": [
            "100%|██████████| 3/3 [00:01<00:00,  1.80it/s]\n",
            "100%|██████████| 3/3 [00:01<00:00,  2.61it/s]\n"
          ]
        },
        {
          "output_type": "stream",
          "name": "stdout",
          "text": [
            "Test set accuracy = 0.5692307692307692\n",
            "Epoch 457 Iteration 0: Loss = 0.07972420006990433, Number of mined triplets = 3\n"
          ]
        },
        {
          "output_type": "stream",
          "name": "stderr",
          "text": [
            "100%|██████████| 3/3 [00:01<00:00,  2.06it/s]\n",
            "100%|██████████| 3/3 [00:00<00:00,  4.29it/s]\n"
          ]
        },
        {
          "output_type": "stream",
          "name": "stdout",
          "text": [
            "Test set accuracy = 0.6000000000000001\n",
            "Epoch 458 Iteration 0: Loss = 0.05796578899025917, Number of mined triplets = 9\n"
          ]
        },
        {
          "output_type": "stream",
          "name": "stderr",
          "text": [
            "100%|██████████| 3/3 [00:01<00:00,  2.00it/s]\n",
            "100%|██████████| 3/3 [00:00<00:00,  4.24it/s]\n"
          ]
        },
        {
          "output_type": "stream",
          "name": "stdout",
          "text": [
            "Test set accuracy = 0.5846153846153846\n",
            "Epoch 459 Iteration 0: Loss = 0.006693735718727112, Number of mined triplets = 1\n"
          ]
        },
        {
          "output_type": "stream",
          "name": "stderr",
          "text": [
            "100%|██████████| 3/3 [00:01<00:00,  1.74it/s]\n",
            "100%|██████████| 3/3 [00:01<00:00,  2.66it/s]\n"
          ]
        },
        {
          "output_type": "stream",
          "name": "stdout",
          "text": [
            "Test set accuracy = 0.5230769230769231\n",
            "Epoch 460 Iteration 0: Loss = 0.0, Number of mined triplets = 0\n"
          ]
        },
        {
          "output_type": "stream",
          "name": "stderr",
          "text": [
            "100%|██████████| 3/3 [00:01<00:00,  2.06it/s]\n",
            "100%|██████████| 3/3 [00:00<00:00,  4.28it/s]\n"
          ]
        },
        {
          "output_type": "stream",
          "name": "stdout",
          "text": [
            "Test set accuracy = 0.6461538461538462\n",
            "Epoch 461 Iteration 0: Loss = 0.0, Number of mined triplets = 0\n"
          ]
        },
        {
          "output_type": "stream",
          "name": "stderr",
          "text": [
            "100%|██████████| 3/3 [00:01<00:00,  2.03it/s]\n",
            "100%|██████████| 3/3 [00:00<00:00,  4.31it/s]\n"
          ]
        },
        {
          "output_type": "stream",
          "name": "stdout",
          "text": [
            "Test set accuracy = 0.5384615384615385\n",
            "Epoch 462 Iteration 0: Loss = 0.0, Number of mined triplets = 0\n"
          ]
        },
        {
          "output_type": "stream",
          "name": "stderr",
          "text": [
            "100%|██████████| 3/3 [00:01<00:00,  1.72it/s]\n",
            "100%|██████████| 3/3 [00:01<00:00,  2.66it/s]\n"
          ]
        },
        {
          "output_type": "stream",
          "name": "stdout",
          "text": [
            "Test set accuracy = 0.5846153846153846\n",
            "Epoch 463 Iteration 0: Loss = 0.09359460324048996, Number of mined triplets = 4\n"
          ]
        },
        {
          "output_type": "stream",
          "name": "stderr",
          "text": [
            "100%|██████████| 3/3 [00:01<00:00,  2.07it/s]\n",
            "100%|██████████| 3/3 [00:00<00:00,  4.22it/s]\n"
          ]
        },
        {
          "output_type": "stream",
          "name": "stdout",
          "text": [
            "Test set accuracy = 0.5692307692307692\n",
            "Epoch 464 Iteration 0: Loss = 0.07834109663963318, Number of mined triplets = 3\n"
          ]
        },
        {
          "output_type": "stream",
          "name": "stderr",
          "text": [
            "100%|██████████| 3/3 [00:01<00:00,  2.04it/s]\n",
            "100%|██████████| 3/3 [00:00<00:00,  4.19it/s]\n"
          ]
        },
        {
          "output_type": "stream",
          "name": "stdout",
          "text": [
            "Test set accuracy = 0.5384615384615385\n",
            "Epoch 465 Iteration 0: Loss = 0.08506880700588226, Number of mined triplets = 2\n"
          ]
        },
        {
          "output_type": "stream",
          "name": "stderr",
          "text": [
            "100%|██████████| 3/3 [00:01<00:00,  1.71it/s]\n",
            "100%|██████████| 3/3 [00:01<00:00,  2.73it/s]\n"
          ]
        },
        {
          "output_type": "stream",
          "name": "stdout",
          "text": [
            "Test set accuracy = 0.5076923076923077\n",
            "Epoch 466 Iteration 0: Loss = 0.0, Number of mined triplets = 0\n"
          ]
        },
        {
          "output_type": "stream",
          "name": "stderr",
          "text": [
            "100%|██████████| 3/3 [00:01<00:00,  2.07it/s]\n",
            "100%|██████████| 3/3 [00:00<00:00,  4.23it/s]\n"
          ]
        },
        {
          "output_type": "stream",
          "name": "stdout",
          "text": [
            "Test set accuracy = 0.6461538461538462\n",
            "Epoch 467 Iteration 0: Loss = 0.039119891822338104, Number of mined triplets = 4\n"
          ]
        },
        {
          "output_type": "stream",
          "name": "stderr",
          "text": [
            "100%|██████████| 3/3 [00:01<00:00,  2.02it/s]\n",
            "100%|██████████| 3/3 [00:00<00:00,  4.19it/s]\n"
          ]
        },
        {
          "output_type": "stream",
          "name": "stdout",
          "text": [
            "Test set accuracy = 0.5384615384615385\n",
            "Epoch 468 Iteration 0: Loss = 0.0, Number of mined triplets = 0\n"
          ]
        },
        {
          "output_type": "stream",
          "name": "stderr",
          "text": [
            "100%|██████████| 3/3 [00:01<00:00,  1.82it/s]\n",
            "100%|██████████| 3/3 [00:01<00:00,  2.77it/s]\n"
          ]
        },
        {
          "output_type": "stream",
          "name": "stdout",
          "text": [
            "Test set accuracy = 0.5384615384615385\n",
            "Epoch 469 Iteration 0: Loss = 0.014749571681022644, Number of mined triplets = 1\n"
          ]
        },
        {
          "output_type": "stream",
          "name": "stderr",
          "text": [
            "100%|██████████| 3/3 [00:01<00:00,  2.02it/s]\n",
            "100%|██████████| 3/3 [00:00<00:00,  4.26it/s]\n"
          ]
        },
        {
          "output_type": "stream",
          "name": "stdout",
          "text": [
            "Test set accuracy = 0.49230769230769234\n",
            "Epoch 470 Iteration 0: Loss = 0.12458210438489914, Number of mined triplets = 10\n"
          ]
        },
        {
          "output_type": "stream",
          "name": "stderr",
          "text": [
            "100%|██████████| 3/3 [00:01<00:00,  2.04it/s]\n",
            "100%|██████████| 3/3 [00:00<00:00,  4.24it/s]\n"
          ]
        },
        {
          "output_type": "stream",
          "name": "stdout",
          "text": [
            "Test set accuracy = 0.5538461538461539\n",
            "Epoch 471 Iteration 0: Loss = 0.11460860818624496, Number of mined triplets = 6\n"
          ]
        },
        {
          "output_type": "stream",
          "name": "stderr",
          "text": [
            "100%|██████████| 3/3 [00:01<00:00,  1.89it/s]\n",
            "100%|██████████| 3/3 [00:01<00:00,  2.69it/s]\n"
          ]
        },
        {
          "output_type": "stream",
          "name": "stdout",
          "text": [
            "Test set accuracy = 0.6307692307692307\n",
            "Epoch 472 Iteration 0: Loss = 0.19806905090808868, Number of mined triplets = 1\n"
          ]
        },
        {
          "output_type": "stream",
          "name": "stderr",
          "text": [
            "100%|██████████| 3/3 [00:01<00:00,  2.03it/s]\n",
            "100%|██████████| 3/3 [00:00<00:00,  4.05it/s]\n"
          ]
        },
        {
          "output_type": "stream",
          "name": "stdout",
          "text": [
            "Test set accuracy = 0.5692307692307692\n",
            "Epoch 473 Iteration 0: Loss = 0.0, Number of mined triplets = 0\n"
          ]
        },
        {
          "output_type": "stream",
          "name": "stderr",
          "text": [
            "100%|██████████| 3/3 [00:01<00:00,  2.06it/s]\n",
            "100%|██████████| 3/3 [00:00<00:00,  4.22it/s]\n"
          ]
        },
        {
          "output_type": "stream",
          "name": "stdout",
          "text": [
            "Test set accuracy = 0.6153846153846154\n",
            "Epoch 474 Iteration 0: Loss = 0.09812624007463455, Number of mined triplets = 7\n"
          ]
        },
        {
          "output_type": "stream",
          "name": "stderr",
          "text": [
            "100%|██████████| 3/3 [00:01<00:00,  2.02it/s]\n",
            "100%|██████████| 3/3 [00:01<00:00,  2.94it/s]\n"
          ]
        },
        {
          "output_type": "stream",
          "name": "stdout",
          "text": [
            "Test set accuracy = 0.6000000000000001\n",
            "Epoch 475 Iteration 0: Loss = 0.0754469782114029, Number of mined triplets = 1\n"
          ]
        },
        {
          "output_type": "stream",
          "name": "stderr",
          "text": [
            "100%|██████████| 3/3 [00:01<00:00,  2.09it/s]\n",
            "100%|██████████| 3/3 [00:00<00:00,  4.20it/s]\n"
          ]
        },
        {
          "output_type": "stream",
          "name": "stdout",
          "text": [
            "Test set accuracy = 0.6000000000000001\n",
            "Epoch 476 Iteration 0: Loss = 0.0, Number of mined triplets = 0\n"
          ]
        },
        {
          "output_type": "stream",
          "name": "stderr",
          "text": [
            "100%|██████████| 3/3 [00:01<00:00,  2.08it/s]\n",
            "100%|██████████| 3/3 [00:00<00:00,  4.31it/s]\n"
          ]
        },
        {
          "output_type": "stream",
          "name": "stdout",
          "text": [
            "Test set accuracy = 0.5692307692307692\n",
            "Epoch 477 Iteration 0: Loss = 0.0, Number of mined triplets = 0\n"
          ]
        },
        {
          "output_type": "stream",
          "name": "stderr",
          "text": [
            "100%|██████████| 3/3 [00:01<00:00,  2.07it/s]\n",
            "100%|██████████| 3/3 [00:00<00:00,  3.56it/s]\n"
          ]
        },
        {
          "output_type": "stream",
          "name": "stdout",
          "text": [
            "Test set accuracy = 0.6153846153846154\n",
            "Epoch 478 Iteration 0: Loss = 0.0, Number of mined triplets = 0\n"
          ]
        },
        {
          "output_type": "stream",
          "name": "stderr",
          "text": [
            "100%|██████████| 3/3 [00:01<00:00,  2.04it/s]\n",
            "100%|██████████| 3/3 [00:00<00:00,  4.24it/s]\n"
          ]
        },
        {
          "output_type": "stream",
          "name": "stdout",
          "text": [
            "Test set accuracy = 0.6000000000000001\n",
            "Epoch 479 Iteration 0: Loss = 0.07476432621479034, Number of mined triplets = 8\n"
          ]
        },
        {
          "output_type": "stream",
          "name": "stderr",
          "text": [
            "100%|██████████| 3/3 [00:01<00:00,  2.06it/s]\n",
            "100%|██████████| 3/3 [00:00<00:00,  4.19it/s]\n"
          ]
        },
        {
          "output_type": "stream",
          "name": "stdout",
          "text": [
            "Test set accuracy = 0.5538461538461539\n",
            "Epoch 480 Iteration 0: Loss = 0.03801149129867554, Number of mined triplets = 4\n"
          ]
        },
        {
          "output_type": "stream",
          "name": "stderr",
          "text": [
            "100%|██████████| 3/3 [00:01<00:00,  2.08it/s]\n",
            "100%|██████████| 3/3 [00:00<00:00,  4.09it/s]\n"
          ]
        },
        {
          "output_type": "stream",
          "name": "stdout",
          "text": [
            "Test set accuracy = 0.5538461538461539\n",
            "Epoch 481 Iteration 0: Loss = 0.04821300134062767, Number of mined triplets = 3\n"
          ]
        },
        {
          "output_type": "stream",
          "name": "stderr",
          "text": [
            "100%|██████████| 3/3 [00:01<00:00,  1.90it/s]\n",
            "100%|██████████| 3/3 [00:00<00:00,  4.27it/s]\n"
          ]
        },
        {
          "output_type": "stream",
          "name": "stdout",
          "text": [
            "Test set accuracy = 0.5538461538461539\n",
            "Epoch 482 Iteration 0: Loss = 0.0, Number of mined triplets = 0\n"
          ]
        },
        {
          "output_type": "stream",
          "name": "stderr",
          "text": [
            "100%|██████████| 3/3 [00:01<00:00,  2.08it/s]\n",
            "100%|██████████| 3/3 [00:00<00:00,  4.18it/s]\n"
          ]
        },
        {
          "output_type": "stream",
          "name": "stdout",
          "text": [
            "Test set accuracy = 0.5846153846153846\n",
            "Epoch 483 Iteration 0: Loss = 0.0467345267534256, Number of mined triplets = 1\n"
          ]
        },
        {
          "output_type": "stream",
          "name": "stderr",
          "text": [
            "100%|██████████| 3/3 [00:01<00:00,  2.07it/s]\n",
            "100%|██████████| 3/3 [00:00<00:00,  4.28it/s]\n"
          ]
        },
        {
          "output_type": "stream",
          "name": "stdout",
          "text": [
            "Test set accuracy = 0.6000000000000001\n",
            "Epoch 484 Iteration 0: Loss = 0.0, Number of mined triplets = 0\n"
          ]
        },
        {
          "output_type": "stream",
          "name": "stderr",
          "text": [
            "100%|██████████| 3/3 [00:01<00:00,  1.83it/s]\n",
            "100%|██████████| 3/3 [00:00<00:00,  4.24it/s]\n"
          ]
        },
        {
          "output_type": "stream",
          "name": "stdout",
          "text": [
            "Test set accuracy = 0.5692307692307692\n",
            "Epoch 485 Iteration 0: Loss = 0.043000347912311554, Number of mined triplets = 3\n"
          ]
        },
        {
          "output_type": "stream",
          "name": "stderr",
          "text": [
            "100%|██████████| 3/3 [00:01<00:00,  2.07it/s]\n",
            "100%|██████████| 3/3 [00:00<00:00,  4.16it/s]\n"
          ]
        },
        {
          "output_type": "stream",
          "name": "stdout",
          "text": [
            "Test set accuracy = 0.6000000000000001\n",
            "Epoch 486 Iteration 0: Loss = 0.19711418449878693, Number of mined triplets = 1\n"
          ]
        },
        {
          "output_type": "stream",
          "name": "stderr",
          "text": [
            "100%|██████████| 3/3 [00:01<00:00,  2.07it/s]\n",
            "100%|██████████| 3/3 [00:00<00:00,  4.34it/s]\n"
          ]
        },
        {
          "output_type": "stream",
          "name": "stdout",
          "text": [
            "Test set accuracy = 0.5692307692307692\n",
            "Epoch 487 Iteration 0: Loss = 0.0, Number of mined triplets = 0\n"
          ]
        },
        {
          "output_type": "stream",
          "name": "stderr",
          "text": [
            "100%|██████████| 3/3 [00:01<00:00,  1.59it/s]\n",
            "100%|██████████| 3/3 [00:00<00:00,  4.23it/s]\n"
          ]
        },
        {
          "output_type": "stream",
          "name": "stdout",
          "text": [
            "Test set accuracy = 0.6000000000000001\n",
            "Epoch 488 Iteration 0: Loss = 0.09702124446630478, Number of mined triplets = 9\n"
          ]
        },
        {
          "output_type": "stream",
          "name": "stderr",
          "text": [
            "100%|██████████| 3/3 [00:01<00:00,  2.02it/s]\n",
            "100%|██████████| 3/3 [00:00<00:00,  4.22it/s]\n"
          ]
        },
        {
          "output_type": "stream",
          "name": "stdout",
          "text": [
            "Test set accuracy = 0.5846153846153846\n",
            "Epoch 489 Iteration 0: Loss = 0.03885159641504288, Number of mined triplets = 3\n"
          ]
        },
        {
          "output_type": "stream",
          "name": "stderr",
          "text": [
            "100%|██████████| 3/3 [00:01<00:00,  2.06it/s]\n",
            "100%|██████████| 3/3 [00:00<00:00,  4.20it/s]\n"
          ]
        },
        {
          "output_type": "stream",
          "name": "stdout",
          "text": [
            "Test set accuracy = 0.5538461538461539\n",
            "Epoch 490 Iteration 0: Loss = 0.0, Number of mined triplets = 0\n"
          ]
        },
        {
          "output_type": "stream",
          "name": "stderr",
          "text": [
            "100%|██████████| 3/3 [00:02<00:00,  1.26it/s]\n",
            "100%|██████████| 3/3 [00:00<00:00,  3.66it/s]\n"
          ]
        },
        {
          "output_type": "stream",
          "name": "stdout",
          "text": [
            "Test set accuracy = 0.5692307692307692\n",
            "Epoch 491 Iteration 0: Loss = 0.05638974905014038, Number of mined triplets = 2\n"
          ]
        },
        {
          "output_type": "stream",
          "name": "stderr",
          "text": [
            "100%|██████████| 3/3 [00:01<00:00,  2.07it/s]\n",
            "100%|██████████| 3/3 [00:00<00:00,  4.24it/s]\n"
          ]
        },
        {
          "output_type": "stream",
          "name": "stdout",
          "text": [
            "Test set accuracy = 0.5384615384615385\n",
            "Epoch 492 Iteration 0: Loss = 0.0, Number of mined triplets = 0\n"
          ]
        },
        {
          "output_type": "stream",
          "name": "stderr",
          "text": [
            "100%|██████████| 3/3 [00:01<00:00,  2.05it/s]\n",
            "100%|██████████| 3/3 [00:00<00:00,  4.24it/s]\n"
          ]
        },
        {
          "output_type": "stream",
          "name": "stdout",
          "text": [
            "Test set accuracy = 0.5846153846153846\n",
            "Epoch 493 Iteration 0: Loss = 0.0, Number of mined triplets = 0\n"
          ]
        },
        {
          "output_type": "stream",
          "name": "stderr",
          "text": [
            "100%|██████████| 3/3 [00:02<00:00,  1.31it/s]\n",
            "100%|██████████| 3/3 [00:00<00:00,  3.50it/s]\n"
          ]
        },
        {
          "output_type": "stream",
          "name": "stdout",
          "text": [
            "Test set accuracy = 0.49230769230769234\n",
            "Epoch 494 Iteration 0: Loss = 0.08077012002468109, Number of mined triplets = 1\n"
          ]
        },
        {
          "output_type": "stream",
          "name": "stderr",
          "text": [
            "100%|██████████| 3/3 [00:01<00:00,  2.08it/s]\n",
            "100%|██████████| 3/3 [00:00<00:00,  4.08it/s]\n"
          ]
        },
        {
          "output_type": "stream",
          "name": "stdout",
          "text": [
            "Test set accuracy = 0.5230769230769231\n",
            "Epoch 495 Iteration 0: Loss = 0.0, Number of mined triplets = 0\n"
          ]
        },
        {
          "output_type": "stream",
          "name": "stderr",
          "text": [
            "100%|██████████| 3/3 [00:01<00:00,  2.09it/s]\n",
            "100%|██████████| 3/3 [00:00<00:00,  4.25it/s]\n"
          ]
        },
        {
          "output_type": "stream",
          "name": "stdout",
          "text": [
            "Test set accuracy = 0.5076923076923077\n",
            "Epoch 496 Iteration 0: Loss = 0.0, Number of mined triplets = 0\n"
          ]
        },
        {
          "output_type": "stream",
          "name": "stderr",
          "text": [
            "100%|██████████| 3/3 [00:02<00:00,  1.32it/s]\n",
            "100%|██████████| 3/3 [00:00<00:00,  3.33it/s]\n"
          ]
        },
        {
          "output_type": "stream",
          "name": "stdout",
          "text": [
            "Test set accuracy = 0.5076923076923077\n",
            "Epoch 497 Iteration 0: Loss = 0.0, Number of mined triplets = 0\n"
          ]
        },
        {
          "output_type": "stream",
          "name": "stderr",
          "text": [
            "100%|██████████| 3/3 [00:01<00:00,  2.05it/s]\n",
            "100%|██████████| 3/3 [00:00<00:00,  4.24it/s]\n"
          ]
        },
        {
          "output_type": "stream",
          "name": "stdout",
          "text": [
            "Test set accuracy = 0.5692307692307692\n",
            "Epoch 498 Iteration 0: Loss = 0.0, Number of mined triplets = 0\n"
          ]
        },
        {
          "output_type": "stream",
          "name": "stderr",
          "text": [
            "100%|██████████| 3/3 [00:01<00:00,  2.03it/s]\n",
            "100%|██████████| 3/3 [00:00<00:00,  4.14it/s]\n"
          ]
        },
        {
          "output_type": "stream",
          "name": "stdout",
          "text": [
            "Test set accuracy = 0.5384615384615385\n",
            "Epoch 499 Iteration 0: Loss = 0.0, Number of mined triplets = 0\n"
          ]
        },
        {
          "output_type": "stream",
          "name": "stderr",
          "text": [
            "100%|██████████| 3/3 [00:02<00:00,  1.34it/s]\n",
            "100%|██████████| 3/3 [00:01<00:00,  2.42it/s]\n"
          ]
        },
        {
          "output_type": "stream",
          "name": "stdout",
          "text": [
            "Test set accuracy = 0.5538461538461539\n",
            "Epoch 500 Iteration 0: Loss = 0.0, Number of mined triplets = 0\n"
          ]
        },
        {
          "output_type": "stream",
          "name": "stderr",
          "text": [
            "100%|██████████| 3/3 [00:01<00:00,  2.09it/s]\n",
            "100%|██████████| 3/3 [00:00<00:00,  4.33it/s]\n"
          ]
        },
        {
          "output_type": "stream",
          "name": "stdout",
          "text": [
            "Test set accuracy = 0.6000000000000001\n"
          ]
        }
      ]
    },
    {
      "cell_type": "markdown",
      "source": [
        "# Построение графика потерь и изменения accuracy"
      ],
      "metadata": {
        "id": "lBgsliD4wOIp"
      }
    },
    {
      "cell_type": "code",
      "source": [
        "plot_loss_history(loss_history)\n",
        "plot_accuracy_history(acc)"
      ],
      "metadata": {
        "colab": {
          "base_uri": "https://localhost:8080/",
          "height": 957
        },
        "id": "pxji62D4wRav",
        "outputId": "0104f3f3-8167-491a-85e4-f40bb1b14401"
      },
      "execution_count": 14,
      "outputs": [
        {
          "output_type": "display_data",
          "data": {
            "text/plain": [
              "<Figure size 1000x500 with 1 Axes>"
            ],
            "image/png": "[encoded data removed]"
          },
          "metadata": {}
        },
        {
          "output_type": "display_data",
          "data": {
            "text/plain": [
              "<Figure size 1000x500 with 1 Axes>"
            ],
            "image/png": "[encoded data removed]"
          },
          "metadata": {}
        }
      ]
    },
    {
      "cell_type": "markdown",
      "source": [
        "# Построение emdending space"
      ],
      "metadata": {
        "id": "mLFFsCpfwy7H"
      }
    },
    {
      "cell_type": "code",
      "source": [
        "from sklearn.manifold import TSNE\n",
        "\n",
        "def plot_tsne(train_dataset, val_dataset, model):\n",
        "    model.eval()\n",
        "    train_embeddings, train_labels = get_all_embeddings(train_dataset, model)\n",
        "    val_embeddings, val_labels = get_all_embeddings(val_dataset, model)\n",
        "\n",
        "    all_embeddings = torch.cat([train_embeddings, val_embeddings], dim=0).to(device)\n",
        "    all_labels = torch.cat([train_labels, val_labels], dim=0).cpu().numpy()\n",
        "\n",
        "    tsne = TSNE(n_components=2, random_state=42)\n",
        "    tsne_results = tsne.fit_transform(all_embeddings.cpu().numpy())\n",
        "\n",
        "    plt.figure(figsize=(10, 10))\n",
        "    scatter = plt.scatter(tsne_results[:, 0], tsne_results[:, 1], c=all_labels, cmap='viridis', alpha=0.6)\n",
        "    plt.colorbar(scatter)\n",
        "    plt.title('t-SNE of Embeddings')\n",
        "    plt.xlabel('t-SNE 1')\n",
        "    plt.ylabel('t-SNE 2')\n",
        "    plt.show()\n",
        "\n",
        "plot_tsne(train_dataset, val_dataset, model)"
      ],
      "metadata": {
        "colab": {
          "base_uri": "https://localhost:8080/",
          "height": 909
        },
        "id": "7A2B9LGlwyUB",
        "outputId": "ddd6ec4f-2e59-4bdd-bc66-a82cb4db827a"
      },
      "execution_count": 18,
      "outputs": [
        {
          "output_type": "stream",
          "name": "stderr",
          "text": [
            "100%|██████████| 3/3 [00:03<00:00,  1.04s/it]\n",
            "100%|██████████| 3/3 [00:00<00:00,  4.26it/s]\n"
          ]
        },
        {
          "output_type": "display_data",
          "data": {
            "text/plain": [
              "<Figure size 1000x1000 with 2 Axes>"
            ],
            "image/png": "[encoded data removed]"
          },
          "metadata": {}
        }
      ]
    },
    {
      "cell_type": "markdown",
      "source": [],
      "metadata": {
        "id": "1892-hAvCr5Q"
      }
    },
    {
      "cell_type": "code",
      "source": [
        "# Функция для вычисления процентного сходства на основе косинусного сходства\n",
        "def cosine_similarity(embedding1, embedding2):\n",
        "    return F.cosine_similarity(embedding1, embedding2).item() * 100\n",
        "\n",
        "# Функция для получения векторного представления изображения\n",
        "def get_embedding(model, image, transform, device):\n",
        "    model.eval()\n",
        "    with torch.no_grad():\n",
        "        image = transform(image).unsqueeze(0).to(device)\n",
        "        embedding = model(image)\n",
        "    return embedding\n",
        "\n",
        "# Функция для вычисления среднее процентного сходства с эталонными изображениями того же класса\n",
        "def calculate_average_similarity(model, train_loader, val_loader, device):\n",
        "    model.eval()\n",
        "    with torch.no_grad():\n",
        "        train_embeddings = []\n",
        "        train_labels = []\n",
        "        for data, labels in train_loader:\n",
        "            data, labels = data.to(device), labels.to(device)\n",
        "            embeddings = model(data)\n",
        "            train_embeddings.append(embeddings)\n",
        "            train_labels.append(labels)\n",
        "        train_embeddings = torch.cat(train_embeddings)\n",
        "        train_labels = torch.cat(train_labels)\n",
        "\n",
        "        similarities = []\n",
        "        for data, labels in val_loader:\n",
        "            data, labels = data.to(device), labels.to(device)\n",
        "            test_embeddings = model(data)\n",
        "            for test_embedding, label in zip(test_embeddings, labels):\n",
        "                same_class_indices = (train_labels == label).nonzero(as_tuple=True)[0]\n",
        "                same_class_embeddings = train_embeddings[same_class_indices]\n",
        "                cosine_similarities = F.cosine_similarity(test_embedding.unsqueeze(0), same_class_embeddings)\n",
        "                avg_similarity = cosine_similarities.mean().item() * 100\n",
        "                similarities.append(avg_similarity)\n",
        "                print(f\"Label: {label.item()}, Average Similarity: {avg_similarity:.2f}%\")\n",
        "    return similarities\n",
        "\n",
        "# Вычисление процентного сходства для валидационного набора данных\n",
        "average_similarities = calculate_average_similarity(model, train_loader, val_loader, device)"
      ],
      "metadata": {
        "colab": {
          "base_uri": "https://localhost:8080/"
        },
        "id": "5Us6fE2OCrs0",
        "outputId": "617fc5c9-f58e-46e7-b276-c1b3497f9dba"
      },
      "execution_count": 22,
      "outputs": [
        {
          "output_type": "stream",
          "name": "stdout",
          "text": [
            "Label: 41, Average Similarity: 9.81%\n",
            "Label: 41, Average Similarity: 71.52%\n",
            "Label: 44, Average Similarity: 72.36%\n",
            "Label: 22, Average Similarity: 81.73%\n",
            "Label: 34, Average Similarity: 85.51%\n",
            "Label: 14, Average Similarity: 79.01%\n",
            "Label: 10, Average Similarity: 63.81%\n",
            "Label: 30, Average Similarity: 61.14%\n",
            "Label: 28, Average Similarity: 70.51%\n",
            "Label: 43, Average Similarity: 69.22%\n",
            "Label: 26, Average Similarity: 48.07%\n",
            "Label: 16, Average Similarity: 75.01%\n",
            "Label: 23, Average Similarity: 41.40%\n",
            "Label: 20, Average Similarity: 59.13%\n",
            "Label: 44, Average Similarity: 85.78%\n",
            "Label: 13, Average Similarity: 49.91%\n",
            "Label: 32, Average Similarity: 75.06%\n",
            "Label: 42, Average Similarity: 53.61%\n",
            "Label: 31, Average Similarity: 85.81%\n",
            "Label: 4, Average Similarity: 85.07%\n",
            "Label: 37, Average Similarity: 32.60%\n",
            "Label: 19, Average Similarity: 66.49%\n",
            "Label: 7, Average Similarity: 65.38%\n",
            "Label: 18, Average Similarity: 43.24%\n",
            "Label: 25, Average Similarity: 39.47%\n",
            "Label: 35, Average Similarity: 33.84%\n",
            "Label: 33, Average Similarity: 85.94%\n",
            "Label: 18, Average Similarity: 71.71%\n",
            "Label: 1, Average Similarity: 64.79%\n",
            "Label: 21, Average Similarity: 38.55%\n",
            "Label: 45, Average Similarity: 36.74%\n",
            "Label: 8, Average Similarity: 35.62%\n",
            "Label: 8, Average Similarity: 62.05%\n",
            "Label: 29, Average Similarity: 69.06%\n",
            "Label: 15, Average Similarity: 62.39%\n",
            "Label: 26, Average Similarity: 82.65%\n",
            "Label: 16, Average Similarity: 68.92%\n",
            "Label: 30, Average Similarity: 57.89%\n",
            "Label: 9, Average Similarity: 60.29%\n",
            "Label: 40, Average Similarity: 18.31%\n",
            "Label: 41, Average Similarity: 62.83%\n",
            "Label: 5, Average Similarity: 88.79%\n",
            "Label: 4, Average Similarity: 75.75%\n",
            "Label: 17, Average Similarity: 78.60%\n",
            "Label: 40, Average Similarity: 36.40%\n",
            "Label: 11, Average Similarity: 29.79%\n",
            "Label: 21, Average Similarity: 52.93%\n",
            "Label: 43, Average Similarity: 81.86%\n",
            "Label: 27, Average Similarity: 83.15%\n",
            "Label: 3, Average Similarity: 66.76%\n",
            "Label: 7, Average Similarity: 76.20%\n",
            "Label: 40, Average Similarity: 23.89%\n",
            "Label: 6, Average Similarity: 79.72%\n",
            "Label: 18, Average Similarity: 72.38%\n",
            "Label: 12, Average Similarity: 64.96%\n",
            "Label: 20, Average Similarity: 84.60%\n",
            "Label: 2, Average Similarity: 70.53%\n",
            "Label: 39, Average Similarity: 55.28%\n",
            "Label: 45, Average Similarity: 35.92%\n",
            "Label: 24, Average Similarity: 47.77%\n",
            "Label: 36, Average Similarity: 57.03%\n",
            "Label: 39, Average Similarity: 6.98%\n",
            "Label: 38, Average Similarity: 83.18%\n",
            "Label: 34, Average Similarity: 57.51%\n",
            "Label: 19, Average Similarity: 73.83%\n"
          ]
        }
      ]
    },
    {
      "cell_type": "markdown",
      "source": [
        "# Сохранение модели"
      ],
      "metadata": {
        "id": "YakfWxThxGk0"
      }
    },
    {
      "cell_type": "code",
      "source": [
        "torch.save(model.state_dict(), 'trained_model.pth')\n",
        "print(\"Model saved as trained_model.pth\")"
      ],
      "metadata": {
        "colab": {
          "base_uri": "https://localhost:8080/"
        },
        "id": "tLWvH2obxlnW",
        "outputId": "f94a7e77-f965-42f3-d88c-45cf0133fcf6"
      },
      "execution_count": 20,
      "outputs": [
        {
          "output_type": "stream",
          "name": "stdout",
          "text": [
            "Model saved as trained_model.pth\n"
          ]
        }
      ]
    }
  ]
}